{
 "cells": [
  {
   "cell_type": "markdown",
   "metadata": {},
   "source": [
    "# Topic Modeling\n",
    "---\n",
    "#### Imports"
   ]
  },
  {
   "cell_type": "code",
   "execution_count": 155,
   "metadata": {},
   "outputs": [
    {
     "name": "stderr",
     "output_type": "stream",
     "text": [
      "C:\\Users\\thepe\\Anaconda3\\lib\\site-packages\\past\\types\\oldstr.py:33: DeprecationWarning: invalid escape sequence \\d\n",
      "  \"\"\"\n"
     ]
    }
   ],
   "source": [
    "# processing\n",
    "from operator import methodcaller\n",
    "import csv\n",
    "import re\n",
    "import numpy as np\n",
    "import pandas as pd\n",
    "from pprint import pprint\n",
    "\n",
    "# gensim\n",
    "import gensim\n",
    "import gensim.corpora as corpora\n",
    "from gensim.utils import simple_preprocess\n",
    "from gensim.models import CoherenceModel\n",
    "\n",
    "# plotting tools\n",
    "import pyLDAvis\n",
    "import pyLDAvis.gensim\n",
    "import matplotlib.pyplot as plt\n",
    "\n",
    "#sci-kit\n",
    "from sklearn import feature_extraction"
   ]
  },
  {
   "cell_type": "markdown",
   "metadata": {},
   "source": [
    "#### Processing"
   ]
  },
  {
   "cell_type": "code",
   "execution_count": 144,
   "metadata": {
    "scrolled": false
   },
   "outputs": [],
   "source": [
    "blacklist = [t.strip() for t in next(csv.reader(open(\"blacklist.csv\", 'r')))]\n",
    "\n",
    "inPath = \"input.csv\"\n",
    "outPath = \"out.csv\"\n",
    "wordBound = 10\n",
    "charBound = 70\n",
    "\n",
    "inFile = open(inPath, 'r')\n",
    "inReader = csv.reader(inFile)\n",
    "\n",
    "outFile = open(outPath, 'w')\n",
    "outWriter = csv.writer(outFile)\n",
    "\n",
    "\n",
    "docTokens = dict()\n",
    "\n",
    "\n",
    "next(inReader)\n",
    "for inRow in inReader:\n",
    "\n",
    "    charDist = int(inRow[0])\n",
    "    wordDist = int(inRow[1])\n",
    "\n",
    "    if wordDist < wordBound and charDist < charBound:\n",
    "\n",
    "        #predTerm, subTerm, objTerm = map(methodcaller(\"split\", \":\"), inRow[2:5])\n",
    "        #allTerms = predTerm + subTerm + objTerm\n",
    "\n",
    "        subTerm, objTerm = map(methodcaller(\"split\", \":\"), inRow[3:5])\n",
    "        \n",
    "        sub = \"_\".join([t for t in subTerm if re.match(r'[^\\W\\d]*$', t) and not t in blacklist])\n",
    "        obj = \"_\".join([t for t in subTerm if re.match(r'[^\\W\\d]*$', t) and not t in blacklist])\n",
    "        \n",
    "        tokens = list()\n",
    "        if not sub in blacklist and not obj in blacklist and len(sub) > 0 and len(obj) > 0:\n",
    "            tokens = [sub, obj]\n",
    "\n",
    "            docID = inRow[5]\n",
    "\n",
    "            if docID in docTokens:\n",
    "                docTokens[docID] += tokens\n",
    "            else:\n",
    "                docTokens[docID] = tokens\n",
    "docIDs = list(docTokens.keys())\n",
    "data = list(docTokens.values())"
   ]
  },
  {
   "cell_type": "markdown",
   "metadata": {},
   "source": [
    "#### Model"
   ]
  },
  {
   "cell_type": "code",
   "execution_count": 3,
   "metadata": {},
   "outputs": [
    {
     "name": "stdout",
     "output_type": "stream",
     "text": [
      "[(21,\n",
      "  '0.195*\"molecular_hydrogen\" + 0.065*\"one_solution\" + 0.060*\"inversion_dimer\" '\n",
      "  '+ 0.034*\"diffraction_spot\" + 0.034*\"basal_diffraction_spot_intensity\" + '\n",
      "  '0.034*\"cone_series\" + 0.034*\"basal_diffraction_spot\" + '\n",
      "  '0.028*\"piperazine_ring\" + 0.020*\"double_bond\" + 0.020*\"c_double_bond\"'),\n",
      " (36,\n",
      "  '0.124*\"structure_solution\" + 0.101*\"water_molecule\" + '\n",
      "  '0.062*\"molecular_skeleton\" + 0.062*\"water_molecule_involve_n_hydrogen_bond\" '\n",
      "  '+ 0.038*\"vv_atom\" + 0.038*\"molecular_salt\" + 0.038*\"basal_plane\" + '\n",
      "  '0.025*\"octahedral_coordination\" + 0.019*\"title_complete_cation\" + '\n",
      "  '0.019*\"strongly_distort_octahedron\"'),\n",
      " (19,\n",
      "  '0.078*\"kda_protein\" + 0.078*\"da_minus\" + 0.052*\"sluggish_transformation\" + '\n",
      "  '0.052*\"vm_value\" + 0.052*\"obtain_agreement\" + 0.027*\"cuii_atom\" + '\n",
      "  '0.026*\"atp_complex_erk_detail_structural_analysis\" + '\n",
      "  '0.026*\"detail_structural_analysis\" + 0.026*\"dihydroorotate_dehydrogenase\" + '\n",
      "  '0.026*\"putative_dihydroorotate_dehydrogenase\"'),\n",
      " (6,\n",
      "  '0.101*\"important_role\" + 0.068*\"nucleocapsid_protein_interest\" + '\n",
      "  '0.068*\"monomer_position\" + 0.068*\"bi_atom\" + 0.068*\"e_pathway\" + '\n",
      "  '0.034*\"syncytial_virus_nucleocapsid\" + 0.034*\"hrsvn_structure\" + '\n",
      "  '0.034*\"periplasmic_protein\" + 0.034*\"march_function_correction\" + '\n",
      "  '0.023*\"imidazolidine_ring\"'),\n",
      " (15,\n",
      "  '0.125*\"area_detector\" + 0.125*\"great_effort\" + '\n",
      "  '0.063*\"improve_property_novel_material\" + '\n",
      "  '0.063*\"dehydrogenation_process_hydrogenation\" + 0.063*\"material_structure\" '\n",
      "  '+ 0.059*\"molecular_replacement\" + 0.057*\"weak_pi\" + '\n",
      "  '0.043*\"neighbouring_layer\" + 0.035*\"structural_feature\" + '\n",
      "  '0.031*\"dehydrogenation_process\"'),\n",
      " (10,\n",
      "  '0.079*\"methyl_group\" + 0.076*\"methyl_group_h_atom\" + '\n",
      "  '0.056*\"supramolecular_aggregation\" + 0.056*\"incident_neutron_wavelength\" + '\n",
      "  '0.056*\"incident_neutron\" + 0.056*\"scatter_property\" + 0.020*\"ni_atom\" + '\n",
      "  '0.020*\"individual_network\" + 0.018*\"absolute_structure\" + '\n",
      "  '0.010*\"methylsulfinyl_substituent_methyl_group\"'),\n",
      " (12,\n",
      "  '0.074*\"trimeric_crystal\" + 0.055*\"similar_device\" + '\n",
      "  '0.055*\"wavelength_change\" + 0.037*\"individual_experiment_reflection\" + '\n",
      "  '0.037*\"hkl_reflection\" + 0.037*\"conceptually_simple_device\" + '\n",
      "  '0.037*\"different_hkl_reflection\" + 0.037*\"chemical_probe\" + '\n",
      "  '0.037*\"chemical_probe_application\" + 0.037*\"human_coronavirus\"'),\n",
      " (11,\n",
      "  '0.056*\"transition_metal_development\" + 0.056*\"transition_metal\" + '\n",
      "  '0.056*\"structure_different_anion_incorporation\" + 0.056*\"different_anion\" + '\n",
      "  '0.056*\"high_pressure_issue_overcome_technique\" + '\n",
      "  '0.056*\"issue_overcome_technique\" + 0.056*\"structure_different_anion\" + '\n",
      "  '0.056*\"c_atom\" + 0.023*\"methylene_c_atom\" + '\n",
      "  '0.023*\"k_cl_ion_repulsive_parameter\"'),\n",
      " (5,\n",
      "  '0.123*\"possible_caveat_free_diffraction_datum\" + 0.123*\"possible_caveat\" + '\n",
      "  '0.094*\"initial_phasis\" + 0.077*\"protein_crystal\" + '\n",
      "  '0.072*\"crystallization_condition\" + 0.043*\"cdii_atom\" + '\n",
      "  '0.041*\"protein_crystal_amorphous_protein\" + '\n",
      "  '0.033*\"crystal_datum_collection\" + 0.033*\"chloride_anion_water_molecule\" + '\n",
      "  '0.015*\"two_ligand\"'),\n",
      " (14,\n",
      "  '0.084*\"coii_cation\" + 0.081*\"organic_material\" + '\n",
      "  '0.062*\"damage_strain_profile\" + 0.062*\"atmospheric_pressure\" + '\n",
      "  '0.031*\"diffraction_equation\" + '\n",
      "  '0.031*\"debye_fundamental_diffraction_equation\" + '\n",
      "  '0.031*\"fundamental_diffraction_equation\" + '\n",
      "  '0.031*\"material_layer_order_region\" + 0.031*\"material_layer\" + '\n",
      "  '0.031*\"nucleotide_analogue\"'),\n",
      " (39,\n",
      "  '0.059*\"normal_access\" + 0.059*\"refinement_model_build\" + '\n",
      "  '0.030*\"yellow_crystal\" + 0.030*\"special_feature\" + 0.030*\"global_damage\" + '\n",
      "  '0.020*\"viral_rna\" + 0.020*\"preliminary_result\" + '\n",
      "  '0.020*\"cytoplasmic_protein\" + 0.020*\"diffraction_image\" + '\n",
      "  '0.020*\"crystal_datum\"'),\n",
      " (3,\n",
      "  '0.251*\"cyano_group\" + 0.129*\"pyrazole_ring\" + 0.126*\"pyrazole_ring_plane\" + '\n",
      "  '0.126*\"nh_h_atom\" + 0.126*\"pyrazole_ring_nh_h_atom\" + 0.017*\"metal_atom\" + '\n",
      "  '0.014*\"structural_comparison\" + 0.013*\"cui_atom\" + '\n",
      "  '0.013*\"scientific_science\" + 0.013*\"phnz_structural_comparison\"'),\n",
      " (20,\n",
      "  '0.276*\"b_axis\" + 0.276*\"b_axis_ribbon\" + 0.066*\"pi_interaction\" + '\n",
      "  '0.044*\"solvent_water_molecule_nitrate_anion\" + 0.044*\"criii_atom\" + '\n",
      "  '0.019*\"catechol_aromatic_ring\" + 0.015*\"complex_salt_hydrate\" + '\n",
      "  '0.015*\"salt_hydrate\" + 0.009*\"investigate_crystal\" + '\n",
      "  '0.009*\"independent_iodide_anion_complex_cation\"'),\n",
      " (37,\n",
      "  '0.038*\"redesign_construct\" + 0.029*\"relate_analysis\" + '\n",
      "  '0.029*\"structure_datum\" + 0.019*\"mesoporous_silica_matrix\" + '\n",
      "  '0.019*\"initial_crystal\" + '\n",
      "  '0.019*\"mesoporous_silica_matrix_functional_material_type\" + '\n",
      "  '0.019*\"alkoxide_complex\" + 0.019*\"dsd_initial_crystal\" + '\n",
      "  '0.019*\"relatively_rapid_dissolution_crystal_structure_stack_direction\" + '\n",
      "  '0.019*\"relatively_rapid_dissolution\"'),\n",
      " (23,\n",
      "  '0.070*\"active_form\" + 0.053*\"solid_state_laser\" + '\n",
      "  '0.053*\"solid_state_laser_commercial_host\" + 0.053*\"state_laser\" + '\n",
      "  '0.035*\"hydrostatic_pressure_effect\" + 0.035*\"open_question\" + '\n",
      "  '0.035*\"high_pressure_high_temperature\" + 0.035*\"chlorpropamide_polymorph\" + '\n",
      "  '0.035*\"bind_cargo\" + 0.026*\"low_temperature\"'),\n",
      " (16,\n",
      "  '0.222*\"title_compound_asymmetric_unit\" + 0.135*\"adjacent_molecule\" + '\n",
      "  '0.053*\"coordination_polyhedron\" + 0.047*\"octahedral_environment\" + '\n",
      "  '0.018*\"neighbour_oxalate_anion\" + 0.018*\"oxalate_ion\" + '\n",
      "  '0.018*\"oxalate_ion_o_atom\" + 0.015*\"adjacent_mononuclear_unit\" + '\n",
      "  '0.015*\"mononuclear_unit\" + 0.009*\"gauche_torsion\"'),\n",
      " (28,\n",
      "  '0.207*\"asymmetric_unit\" + 0.153*\"molecular_conformation\" + '\n",
      "  '0.048*\"datum_collection\" + 0.032*\"twofold_axis\" + '\n",
      "  '0.028*\"neighbouring_chain\" + 0.024*\"single_oxide_ligand\" + '\n",
      "  '0.024*\"iriii_atom_bridge_single_oxide_ligand\" + 0.021*\"mnii_cation\" + '\n",
      "  '0.019*\"dimeric_unit\" + 0.014*\"chloride_bridge\"'),\n",
      " (18,\n",
      "  '0.453*\"hydrogen_bond\" + 0.147*\"o_hydrogen_bond\" + 0.063*\"inversion_centre\" '\n",
      "  '+ 0.022*\"selectivity_difference_investigate_order\" + '\n",
      "  '0.022*\"selectivity_difference\" + 0.015*\"cdo_crystal\" + '\n",
      "  '0.015*\"optimal_cdo_crystal\" + 0.013*\"intermolecular_hydrogen_bond\" + '\n",
      "  '0.010*\"channel_type\" + 0.010*\"adjacent_zwitterion\"'),\n",
      " (13,\n",
      "  '0.535*\"crystal_structure\" + 0.050*\"case_twin_operation\" + 0.043*\"h_atom\" + '\n",
      "  '0.034*\"o_atom\" + 0.025*\"oligomerization_interface\" + '\n",
      "  '0.025*\"novel_jmjc_domain\" + 0.025*\"crystal_structure_study\" + '\n",
      "  '0.025*\"protein_contain_novel_jmjc_domain\" + 0.025*\"jmjc_domain\" + '\n",
      "  '0.008*\"unligand_complex_enzyme_crystal_structure\"'),\n",
      " (0,\n",
      "  '0.268*\"crystal_pack\" + 0.114*\"aring_resolution\" + 0.082*\"diffraction_datum\" '\n",
      "  '+ 0.046*\"n_hydrogen_bond\" + 0.046*\"benzene_ring\" + 0.043*\"adjacent_layer\" + '\n",
      "  '0.029*\"structural_analysis\" + 0.027*\"geometric_parameter\" + '\n",
      "  '0.018*\"morpholine_ring\" + 0.017*\"n_hydrogen\"')]\n"
     ]
    }
   ],
   "source": [
    "id2word = corpora.Dictionary(data)\n",
    "texts = data\n",
    "\n",
    "corpus = [id2word.doc2bow(text) for text in texts]\n",
    "\n",
    "lda_model = gensim.models.ldamodel.LdaModel(corpus=corpus,\n",
    "                                       id2word=id2word,\n",
    "                                       num_topics=40, \n",
    "                                       random_state=100,\n",
    "                                       update_every=1,\n",
    "                                       chunksize=20,\n",
    "                                       passes=20,\n",
    "                                       alpha='auto',\n",
    "                                       per_word_topics=True)\n",
    "\n",
    "\n",
    "pprint(lda_model.print_topics())\n",
    "doc_lda = lda_model[corpus]\n"
   ]
  },
  {
   "cell_type": "markdown",
   "metadata": {},
   "source": [
    "#### Visualize"
   ]
  },
  {
   "cell_type": "code",
   "execution_count": 156,
   "metadata": {},
   "outputs": [
    {
     "name": "stderr",
     "output_type": "stream",
     "text": [
      "C:\\Users\\thepe\\Anaconda3\\lib\\site-packages\\pyLDAvis\\_prepare.py:257: FutureWarning: Sorting because non-concatenation axis is not aligned. A future version\n",
      "of pandas will change to not sort by default.\n",
      "\n",
      "To accept the future behavior, pass 'sort=False'.\n",
      "\n",
      "To retain the current behavior and silence the warning, pass 'sort=True'.\n",
      "\n",
      "  return pd.concat([default_term_info] + list(topic_dfs))\n"
     ]
    },
    {
     "name": "stdout",
     "output_type": "stream",
     "text": [
      "\n",
      "Note: if you're in the IPython notebook, pyLDAvis.show() is not the best command\n",
      "      to use. Consider using pyLDAvis.display(), or pyLDAvis.enable_notebook().\n",
      "      See more information at http://pyLDAvis.github.io/quickstart.html .\n",
      "\n",
      "You must interrupt the kernel to end this command\n",
      "\n",
      "Serving to http://127.0.0.1:8889/    [Ctrl-C to exit]\n"
     ]
    },
    {
     "name": "stderr",
     "output_type": "stream",
     "text": [
      "127.0.0.1 - - [03/Jul/2019 22:08:27] \"GET / HTTP/1.1\" 200 -\n",
      "127.0.0.1 - - [03/Jul/2019 22:08:27] \"GET /LDAvis.css HTTP/1.1\" 200 -\n",
      "127.0.0.1 - - [03/Jul/2019 22:08:27] \"GET /d3.js HTTP/1.1\" 200 -\n",
      "127.0.0.1 - - [03/Jul/2019 22:08:27] \"GET /LDAvis.js HTTP/1.1\" 200 -\n",
      "127.0.0.1 - - [03/Jul/2019 22:08:27] code 404, message Not Found\n",
      "127.0.0.1 - - [03/Jul/2019 22:08:27] \"GET /favicon.ico HTTP/1.1\" 404 -\n"
     ]
    },
    {
     "name": "stdout",
     "output_type": "stream",
     "text": [
      "\n",
      "stopping Server...\n"
     ]
    }
   ],
   "source": [
    "pyLDAvis.enable_notebook()\n",
    "vis = pyLDAvis.gensim.prepare(lda_model, corpus, id2word)\n",
    "pyLDAvis.show(vis)"
   ]
  },
  {
   "cell_type": "code",
   "execution_count": 139,
   "metadata": {},
   "outputs": [
    {
     "name": "stdout",
     "output_type": "stream",
     "text": [
      "(923, 2200)\n"
     ]
    }
   ],
   "source": [
    "\n",
    "from sklearn.feature_extraction.text import TfidfVectorizer\n",
    "\n",
    "newDocs = list()\n",
    "for doc in data:\n",
    "    newDocs.append(\" \".join(doc))\n",
    "\n",
    "\n",
    "#define vectorizer parameters\n",
    "tfidf_vectorizer = TfidfVectorizer(max_df=0.05, max_features=200000,\n",
    "                                 min_df=0.000, stop_words='english',\n",
    "                                 use_idf=True, tokenizer=None, ngram_range=(1, 1))\n",
    "\n",
    "tfidf_matrix = tfidf_vectorizer.fit_transform(newDocs) #fit the vectorizer to synopses\n",
    "\n",
    "print(tfidf_matrix.shape)"
   ]
  },
  {
   "cell_type": "code",
   "execution_count": 140,
   "metadata": {},
   "outputs": [],
   "source": [
    "terms = tfidf_vectorizer.get_feature_names()\n",
    "\n",
    "from sklearn.metrics.pairwise import cosine_similarity\n",
    "dist = 1 - cosine_similarity(tfidf_matrix)"
   ]
  },
  {
   "cell_type": "code",
   "execution_count": 161,
   "metadata": {},
   "outputs": [
    {
     "name": "stdout",
     "output_type": "stream",
     "text": [
      "Wall time: 342 ms\n"
     ]
    }
   ],
   "source": [
    "from sklearn.cluster import KMeans\n",
    "\n",
    "num_clusters = 20\n",
    "\n",
    "km = KMeans(n_clusters=num_clusters)\n",
    "\n",
    "%time km.fit(tfidf_matrix)\n",
    "\n",
    "clusters = km.labels_.tolist()"
   ]
  },
  {
   "cell_type": "code",
   "execution_count": 173,
   "metadata": {},
   "outputs": [],
   "source": [
    "import sys\n",
    "import urllib.request\n",
    "from urllib.error import HTTPError\n",
    "\n",
    "\n",
    "BASE_URL = 'http://dx.doi.org/'\n",
    "\n",
    "def getTitle(doi):\n",
    "    url = BASE_URL + doi\n",
    "    req = urllib.request.Request(url)\n",
    "    req.add_header('Accept', 'application/x-bibtex')\n",
    "    try:\n",
    "        with urllib.request.urlopen(req) as f:\n",
    "            bibtex = f.read().decode()\n",
    "        \n",
    "        start = bibtex.find(\"title = {\")\n",
    "        end = bibtex.find(\"}\", start)\n",
    "        print(str(start) + \" \" + str(end)\n",
    "        return bibtex[start + 9, end]\n",
    "        \n",
    "        \n",
    "    except HTTPError as e:\n",
    "        if e.code == 404:\n",
    "            return('DOI not found.')\n",
    "        else:\n",
    "            return('Service unavailable.')"
   ]
  },
  {
   "cell_type": "code",
   "execution_count": 162,
   "metadata": {},
   "outputs": [
    {
     "name": "stdout",
     "output_type": "stream",
     "text": [
      "[7, 7, 7, 7, 7, 7, 7, 7, 13, 1, 7, 1, 7, 7, 7, 7, 7, 7, 7, 7, 7, 7, 7, 7, 1, 7, 7, 7, 7, 7, 7, 7, 7, 7, 7, 1, 7, 7, 7, 7, 1, 7, 7, 1, 7, 19, 12, 7, 7, 7, 1, 7, 7, 7, 7, 7, 1, 7, 9, 1, 7, 1, 1, 7, 7, 1, 7, 7, 7, 3, 7, 7, 7, 7, 7, 7, 7, 7, 7, 7, 7, 7, 7, 7, 7, 16, 1, 7, 0, 1, 7, 7, 7, 6, 7, 1, 3, 7, 17, 7, 7, 7, 7, 7, 9, 7, 1, 2, 7, 7, 7, 1, 7, 10, 1, 7, 7, 7, 1, 7, 7, 11, 7, 1, 7, 6, 7, 7, 0, 8, 7, 1, 1, 7, 7, 7, 1, 7, 10, 7, 7, 1, 7, 1, 7, 1, 7, 7, 7, 7, 7, 7, 7, 10, 7, 1, 7, 7, 19, 7, 7, 1, 14, 7, 1, 7, 1, 7, 7, 7, 7, 7, 1, 16, 7, 7, 7, 7, 7, 7, 7, 1, 7, 1, 7, 1, 1, 7, 7, 1, 1, 7, 7, 13, 7, 7, 7, 1, 7, 1, 1, 1, 7, 7, 1, 9, 7, 7, 7, 7, 7, 7, 7, 7, 7, 7, 1, 7, 7, 7, 7, 7, 1, 1, 7, 7, 7, 1, 7, 7, 7, 7, 7, 7, 7, 7, 7, 1, 7, 9, 7, 7, 7, 7, 7, 7, 7, 7, 7, 5, 7, 7, 1, 7, 7, 7, 7, 1, 9, 7, 7, 5, 7, 7, 7, 7, 7, 7, 0, 1, 14, 7, 7, 0, 1, 7, 1, 1, 7, 7, 7, 7, 7, 7, 7, 7, 7, 1, 7, 14, 7, 18, 7, 1, 1, 1, 7, 1, 1, 0, 1, 7, 7, 7, 7, 7, 7, 0, 1, 1, 7, 7, 7, 7, 7, 16, 7, 7, 1, 7, 1, 7, 7, 7, 7, 7, 7, 7, 7, 5, 7, 7, 1, 7, 7, 1, 1, 7, 7, 7, 7, 7, 7, 1, 1, 10, 7, 7, 7, 7, 7, 7, 19, 7, 7, 7, 7, 7, 1, 1, 11, 7, 7, 7, 7, 7, 9, 8, 7, 7, 7, 7, 7, 7, 7, 7, 7, 7, 2, 7, 7, 7, 7, 7, 7, 1, 7, 7, 14, 7, 8, 1, 2, 1, 7, 11, 2, 7, 7, 2, 3, 7, 14, 7, 17, 7, 7, 7, 15, 7, 7, 1, 7, 7, 7, 11, 7, 7, 7, 7, 7, 7, 9, 7, 7, 7, 1, 7, 2, 7, 7, 7, 1, 6, 7, 7, 2, 7, 7, 7, 7, 7, 9, 5, 7, 1, 7, 7, 7, 7, 7, 2, 6, 7, 7, 7, 1, 7, 7, 7, 7, 7, 7, 2, 7, 7, 7, 7, 2, 14, 7, 7, 7, 7, 7, 14, 7, 7, 1, 7, 7, 7, 7, 7, 7, 7, 7, 7, 7, 7, 7, 4, 2, 10, 17, 7, 7, 7, 7, 7, 2, 5, 2, 7, 7, 7, 9, 8, 10, 7, 7, 1, 7, 14, 7, 7, 7, 7, 7, 2, 7, 7, 1, 1, 7, 7, 15, 7, 7, 1, 7, 2, 7, 1, 7, 7, 7, 7, 7, 7, 6, 2, 7, 7, 7, 7, 7, 1, 7, 10, 17, 1, 14, 7, 7, 7, 7, 7, 5, 11, 7, 7, 7, 7, 7, 1, 7, 7, 7, 7, 7, 7, 7, 8, 7, 7, 7, 7, 7, 7, 7, 7, 7, 11, 7, 14, 7, 7, 7, 1, 7, 7, 7, 7, 7, 7, 7, 7, 7, 6, 7, 1, 7, 7, 7, 9, 1, 2, 2, 6, 7, 7, 7, 9, 9, 2, 1, 7, 5, 10, 9, 7, 14, 17, 7, 9, 2, 7, 2, 7, 7, 7, 17, 10, 7, 7, 7, 15, 7, 11, 7, 7, 14, 9, 7, 17, 15, 7, 11, 7, 5, 3, 7, 6, 7, 9, 7, 7, 7, 9, 2, 7, 4, 1, 7, 7, 7, 7, 7, 15, 9, 1, 7, 3, 7, 7, 7, 7, 7, 2, 1, 2, 7, 6, 7, 1, 1, 1, 7, 7, 7, 2, 10, 7, 7, 7, 4, 7, 9, 6, 7, 1, 7, 1, 7, 11, 7, 9, 1, 11, 4, 1, 7, 2, 17, 3, 7, 1, 1, 9, 1, 7, 7, 1, 4, 1, 7, 2, 7, 7, 7, 7, 7, 7, 1, 7, 7, 15, 7, 2, 7, 7, 2, 7, 7, 7, 10, 7, 7, 7, 1, 7, 2, 19, 7, 1, 7, 7, 7, 1, 1, 7, 19, 7, 7, 7, 7, 7, 13, 7, 6, 7, 7, 7, 10, 5, 7, 7, 9, 1, 7, 3, 7, 7, 7, 7, 7, 7, 7, 1, 7, 7, 7, 7, 1, 7, 7, 7, 7, 14, 7, 5, 7, 10, 1, 7, 7, 7, 7, 0, 7, 7, 1, 7, 7, 7, 1, 7, 0, 7, 7, 7, 0, 7, 1, 7, 7, 7, 7, 7, 7, 7, 7, 1, 7, 4, 7, 7, 7, 7, 7, 2, 7, 7, 7, 0, 7, 7, 7, 7, 7, 7, 7, 1, 1, 1, 1, 7, 1, 16, 1, 1, 7, 7, 7, 1, 7, 1, 7, 7, 1, 7, 7, 1, 7, 1, 7, 7, 7, 7, 7, 7, 7, 1, 7, 7, 7, 7, 1, 1, 7, 1, 7, 1, 7, 1, 7, 7, 1, 7, 7, 7, 7, 7, 7, 7, 7, 7, 7, 7, 7, 7, 7, 7, 7, 1, 17, 7, 7, 7, 7, 1, 14]\n"
     ]
    }
   ],
   "source": [
    "from sklearn.externals import joblib\n",
    "\n",
    "#uncomment the below to save your model \n",
    "#since I've already run my model I am loading from the pickle\n",
    "\n",
    "joblib.dump(km,  'doc_cluster.pkl')\n",
    "\n",
    "km = joblib.load('doc_cluster.pkl')\n",
    "clusters = km.labels_.tolist()\n",
    "\n",
    "\n",
    "print(clusters)"
   ]
  },
  {
   "cell_type": "code",
   "execution_count": 163,
   "metadata": {},
   "outputs": [
    {
     "data": {
      "text/plain": [
       "7     614\n",
       "1     141\n",
       "2      31\n",
       "9      22\n",
       "14     14\n",
       "10     13\n",
       "6      11\n",
       "5      10\n",
       "0      10\n",
       "11     10\n",
       "17      9\n",
       "3       7\n",
       "15      6\n",
       "4       6\n",
       "8       5\n",
       "19      5\n",
       "16      4\n",
       "13      3\n",
       "18      1\n",
       "12      1\n",
       "Name: cluster, dtype: int64"
      ]
     },
     "execution_count": 163,
     "metadata": {},
     "output_type": "execute_result"
    }
   ],
   "source": [
    "documents = {'docID': docIDs, 'text': data, 'cluster': clusters }\n",
    "\n",
    "frame = pd.DataFrame(documents, index = [clusters] , columns = ['docID','cluster'])\n",
    "\n",
    "frame['cluster'].value_counts() #number of films per cluster (clusters from 0 to 4)\n",
    "\n"
   ]
  },
  {
   "cell_type": "code",
   "execution_count": 174,
   "metadata": {},
   "outputs": [
    {
     "name": "stdout",
     "output_type": "stream",
     "text": [
      "Top terms per cluster:\n",
      "\n",
      "Cluster 0 docIDs:"
     ]
    },
    {
     "name": "stderr",
     "output_type": "stream",
     "text": [
      "C:\\Users\\thepe\\Anaconda3\\lib\\site-packages\\ipykernel_launcher.py:13: DeprecationWarning: \n",
      ".ix is deprecated. Please use\n",
      ".loc for label based indexing or\n",
      ".iloc for positional indexing\n",
      "\n",
      "See the documentation here:\n",
      "http://pandas.pydata.org/pandas-docs/stable/indexing.html#ix-indexer-is-deprecated\n",
      "  del sys.path[0]\n"
     ]
    },
    {
     "ename": "TypeError",
     "evalue": "unsupported operand type(s) for +: 'int' and 'str'",
     "output_type": "error",
     "traceback": [
      "\u001b[1;31m---------------------------------------------------------------------------\u001b[0m",
      "\u001b[1;31mTypeError\u001b[0m                                 Traceback (most recent call last)",
      "\u001b[1;32m<ipython-input-174-a271eb04900c>\u001b[0m in \u001b[0;36m<module>\u001b[1;34m\u001b[0m\n\u001b[0;32m     12\u001b[0m \u001b[1;33m\u001b[0m\u001b[0m\n\u001b[0;32m     13\u001b[0m     \u001b[0mDOIs\u001b[0m \u001b[1;33m=\u001b[0m \u001b[0mframe\u001b[0m\u001b[1;33m.\u001b[0m\u001b[0mix\u001b[0m\u001b[1;33m[\u001b[0m\u001b[0mi\u001b[0m\u001b[1;33m]\u001b[0m\u001b[1;33m[\u001b[0m\u001b[1;34m'docID'\u001b[0m\u001b[1;33m]\u001b[0m\u001b[1;33m.\u001b[0m\u001b[0mvalues\u001b[0m\u001b[1;33m.\u001b[0m\u001b[0mtolist\u001b[0m\u001b[1;33m(\u001b[0m\u001b[1;33m)\u001b[0m\u001b[1;33m\u001b[0m\u001b[1;33m\u001b[0m\u001b[0m\n\u001b[1;32m---> 14\u001b[1;33m     \u001b[0mtitles\u001b[0m \u001b[1;33m=\u001b[0m \u001b[1;33m[\u001b[0m\u001b[0mgetTitle\u001b[0m\u001b[1;33m(\u001b[0m\u001b[0mID\u001b[0m\u001b[1;33m)\u001b[0m \u001b[1;32mfor\u001b[0m \u001b[0mID\u001b[0m \u001b[1;32min\u001b[0m \u001b[0mDOIs\u001b[0m\u001b[1;33m]\u001b[0m\u001b[1;33m\u001b[0m\u001b[1;33m\u001b[0m\u001b[0m\n\u001b[0m\u001b[0;32m     15\u001b[0m     \u001b[0mprint\u001b[0m\u001b[1;33m(\u001b[0m\u001b[0mtitles\u001b[0m\u001b[1;33m)\u001b[0m\u001b[1;33m\u001b[0m\u001b[1;33m\u001b[0m\u001b[0m\n\u001b[0;32m     16\u001b[0m     \u001b[0moutWriter\u001b[0m\u001b[1;33m.\u001b[0m\u001b[0mwriterow\u001b[0m\u001b[1;33m(\u001b[0m\u001b[0mtitles\u001b[0m\u001b[1;33m)\u001b[0m\u001b[1;33m\u001b[0m\u001b[1;33m\u001b[0m\u001b[0m\n",
      "\u001b[1;32m<ipython-input-174-a271eb04900c>\u001b[0m in \u001b[0;36m<listcomp>\u001b[1;34m(.0)\u001b[0m\n\u001b[0;32m     12\u001b[0m \u001b[1;33m\u001b[0m\u001b[0m\n\u001b[0;32m     13\u001b[0m     \u001b[0mDOIs\u001b[0m \u001b[1;33m=\u001b[0m \u001b[0mframe\u001b[0m\u001b[1;33m.\u001b[0m\u001b[0mix\u001b[0m\u001b[1;33m[\u001b[0m\u001b[0mi\u001b[0m\u001b[1;33m]\u001b[0m\u001b[1;33m[\u001b[0m\u001b[1;34m'docID'\u001b[0m\u001b[1;33m]\u001b[0m\u001b[1;33m.\u001b[0m\u001b[0mvalues\u001b[0m\u001b[1;33m.\u001b[0m\u001b[0mtolist\u001b[0m\u001b[1;33m(\u001b[0m\u001b[1;33m)\u001b[0m\u001b[1;33m\u001b[0m\u001b[1;33m\u001b[0m\u001b[0m\n\u001b[1;32m---> 14\u001b[1;33m     \u001b[0mtitles\u001b[0m \u001b[1;33m=\u001b[0m \u001b[1;33m[\u001b[0m\u001b[0mgetTitle\u001b[0m\u001b[1;33m(\u001b[0m\u001b[0mID\u001b[0m\u001b[1;33m)\u001b[0m \u001b[1;32mfor\u001b[0m \u001b[0mID\u001b[0m \u001b[1;32min\u001b[0m \u001b[0mDOIs\u001b[0m\u001b[1;33m]\u001b[0m\u001b[1;33m\u001b[0m\u001b[1;33m\u001b[0m\u001b[0m\n\u001b[0m\u001b[0;32m     15\u001b[0m     \u001b[0mprint\u001b[0m\u001b[1;33m(\u001b[0m\u001b[0mtitles\u001b[0m\u001b[1;33m)\u001b[0m\u001b[1;33m\u001b[0m\u001b[1;33m\u001b[0m\u001b[0m\n\u001b[0;32m     16\u001b[0m     \u001b[0moutWriter\u001b[0m\u001b[1;33m.\u001b[0m\u001b[0mwriterow\u001b[0m\u001b[1;33m(\u001b[0m\u001b[0mtitles\u001b[0m\u001b[1;33m)\u001b[0m\u001b[1;33m\u001b[0m\u001b[1;33m\u001b[0m\u001b[0m\n",
      "\u001b[1;32m<ipython-input-173-04e2bc4cee70>\u001b[0m in \u001b[0;36mgetTitle\u001b[1;34m(doi)\u001b[0m\n\u001b[0;32m     16\u001b[0m         \u001b[0mstart\u001b[0m \u001b[1;33m=\u001b[0m \u001b[0mbibtex\u001b[0m\u001b[1;33m.\u001b[0m\u001b[0mfind\u001b[0m\u001b[1;33m(\u001b[0m\u001b[1;34m\"title = {\"\u001b[0m\u001b[1;33m)\u001b[0m\u001b[1;33m\u001b[0m\u001b[1;33m\u001b[0m\u001b[0m\n\u001b[0;32m     17\u001b[0m         \u001b[0mend\u001b[0m \u001b[1;33m=\u001b[0m \u001b[0mbibtex\u001b[0m\u001b[1;33m.\u001b[0m\u001b[0mfind\u001b[0m\u001b[1;33m(\u001b[0m\u001b[1;34m\"}\"\u001b[0m\u001b[1;33m,\u001b[0m \u001b[0mstart\u001b[0m\u001b[1;33m)\u001b[0m\u001b[1;33m\u001b[0m\u001b[1;33m\u001b[0m\u001b[0m\n\u001b[1;32m---> 18\u001b[1;33m         \u001b[0mprint\u001b[0m\u001b[1;33m(\u001b[0m\u001b[0mstart\u001b[0m \u001b[1;33m+\u001b[0m \u001b[1;34m\" \"\u001b[0m \u001b[1;33m+\u001b[0m \u001b[0mend\u001b[0m\u001b[1;33m)\u001b[0m\u001b[1;33m\u001b[0m\u001b[1;33m\u001b[0m\u001b[0m\n\u001b[0m\u001b[0;32m     19\u001b[0m         \u001b[1;32mreturn\u001b[0m \u001b[0mbibtex\u001b[0m\u001b[1;33m[\u001b[0m\u001b[0mstart\u001b[0m \u001b[1;33m+\u001b[0m \u001b[1;36m9\u001b[0m\u001b[1;33m,\u001b[0m \u001b[0mend\u001b[0m\u001b[1;33m]\u001b[0m\u001b[1;33m\u001b[0m\u001b[1;33m\u001b[0m\u001b[0m\n\u001b[0;32m     20\u001b[0m \u001b[1;33m\u001b[0m\u001b[0m\n",
      "\u001b[1;31mTypeError\u001b[0m: unsupported operand type(s) for +: 'int' and 'str'"
     ]
    }
   ],
   "source": [
    "from __future__ import print_function\n",
    "\n",
    "print(\"Top terms per cluster:\")\n",
    "print()\n",
    "#sort cluster centers by proximity to centroid\n",
    "\n",
    "outWriter = csv.writer(open(\"out.csv\", 'w'), lineterminator = \"\\n\")\n",
    "\n",
    "\n",
    "for i in range(num_clusters):\n",
    "    print(\"Cluster %d docIDs:\" % i, end='')\n",
    "    \n",
    "    DOIs = frame.ix[i]['docID'].values.tolist()\n",
    "    titles = [getTitle(ID) for ID in DOIs]\n",
    "    print(titles)\n",
    "    outWriter.writerow(titles)\n",
    "    print() #add whitespace\n",
    "    print() #add whitespace\n",
    "    \n",
    "print()\n",
    "print()"
   ]
  },
  {
   "cell_type": "code",
   "execution_count": null,
   "metadata": {},
   "outputs": [],
   "source": []
  }
 ],
 "metadata": {
  "kernelspec": {
   "display_name": "Python 3",
   "language": "python",
   "name": "python3"
  },
  "language_info": {
   "codemirror_mode": {
    "name": "ipython",
    "version": 3
   },
   "file_extension": ".py",
   "mimetype": "text/x-python",
   "name": "python",
   "nbconvert_exporter": "python",
   "pygments_lexer": "ipython3",
   "version": "3.7.3"
  }
 },
 "nbformat": 4,
 "nbformat_minor": 2
}
