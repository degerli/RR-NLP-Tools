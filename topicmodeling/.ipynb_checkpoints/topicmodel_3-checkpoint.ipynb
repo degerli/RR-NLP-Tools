{
 "cells": [
  {
   "cell_type": "markdown",
   "metadata": {},
   "source": [
    "## Topic Model v3"
   ]
  },
  {
   "cell_type": "markdown",
   "metadata": {},
   "source": [
    "#### Import\n",
    "\n",
    "We utilize the gensim library for topic modeling algorithms."
   ]
  },
  {
   "cell_type": "code",
   "execution_count": 1,
   "metadata": {},
   "outputs": [
    {
     "name": "stderr",
     "output_type": "stream",
     "text": [
      "C:\\Users\\pjz1\\AppData\\Local\\Continuum\\anaconda3\\lib\\site-packages\\gensim\\utils.py:1197: UserWarning: detected Windows; aliasing chunkize to chunkize_serial\n",
      "  warnings.warn(\"detected Windows; aliasing chunkize to chunkize_serial\")\n"
     ]
    }
   ],
   "source": [
    "# processing\n",
    "import operator\n",
    "from operator import methodcaller\n",
    "import csv\n",
    "import re\n",
    "import numpy as np\n",
    "import pandas as pd\n",
    "from pprint import pprint\n",
    "import string\n",
    "import math\n",
    "\n",
    "# gensim\n",
    "import gensim\n",
    "import gensim.corpora as corpora\n",
    "from gensim.utils import simple_preprocess\n",
    "from gensim.models import CoherenceModel\n",
    "from gensim.models import HdpModel\n",
    "\n",
    "# plotting tools\n",
    "import pyLDAvis\n",
    "import pyLDAvis.gensim\n",
    "import matplotlib.pyplot as plt\n",
    "\n",
    "# sci-kit\n",
    "from collections import Counter\n",
    "from sklearn.feature_extraction.text import CountVectorizer\n",
    "from sklearn.metrics.pairwise import cosine_similarity\n",
    "from sklearn import feature_extraction"
   ]
  },
  {
   "cell_type": "markdown",
   "metadata": {},
   "source": [
    "#### Preprocessing\n",
    "\n",
    "Specify pathway to R&R program output. Select terms to blacklist and levels of terms to consider. The tokens will be loaded into a corpus and a dictionary will be constructed."
   ]
  },
  {
   "cell_type": "code",
   "execution_count": 2,
   "metadata": {},
   "outputs": [],
   "source": [
    "blacklist = [t.strip() for t in next(csv.reader(open(\"tools\\\\blacklist.csv\", 'r')))]\n",
    "levels = [1, 2, 3]\n",
    "\n",
    "# format [term, orig, sentence, docID]\n",
    "inPath = \"raw.csv\"\n",
    "\n",
    "inFile = open(inPath, 'r')\n",
    "inReader = csv.reader(inFile)\n",
    "\n",
    "docTokens = dict()\n",
    "\n",
    "# ignore headers\n",
    "next(inReader)\n",
    "\n",
    "for inRow in inReader:\n",
    "    \n",
    "    term = inRow[0]\n",
    "    sentence = inRow[2]\n",
    "    docID = inRow[3]\n",
    "    \n",
    "    # find acceptable tokens only\n",
    "    token = \"_\".join([t for t in term.split(\":\") if re.match(r'[^\\W\\d]*$', t) and not t in blacklist])\n",
    "    \n",
    "    # calculate new term level\n",
    "    level = token.count(\"_\")\n",
    "    \n",
    "    # if acceptable, add to dictionary\n",
    "    if level in levels and not token in blacklist and len(token) > 0:\n",
    "        if docID in docTokens:\n",
    "            docTokens[docID] += [token]\n",
    "        else:\n",
    "            docTokens[docID] = [token]\n",
    "\n",
    "docIDs = list(docTokens.keys())\n",
    "data = list(docTokens.values())\n"
   ]
  },
  {
   "cell_type": "code",
   "execution_count": 3,
   "metadata": {},
   "outputs": [],
   "source": [
    "dictionary = corpora.Dictionary(data)\n",
    "texts = data\n",
    "\n",
    "corpus = [dictionary.doc2bow(text) for text in texts]"
   ]
  },
  {
   "cell_type": "markdown",
   "metadata": {},
   "source": [
    "#### LDA Recursion\n",
    "\n",
    "Continually perform LDA topic modeling until every document has an acceptable strength *p* to a topic."
   ]
  },
  {
   "cell_type": "code",
   "execution_count": 40,
   "metadata": {},
   "outputs": [
    {
     "name": "stdout",
     "output_type": "stream",
     "text": [
      "run #1\n"
     ]
    },
    {
     "name": "stderr",
     "output_type": "stream",
     "text": [
      "C:\\Users\\pjz1\\AppData\\Local\\Continuum\\anaconda3\\lib\\site-packages\\gensim\\models\\hdpmodel.py:222: DeprecationWarning: time.clock has been deprecated in Python 3.3 and will be removed from Python 3.8: use time.perf_counter or time.process_time instead\n",
      "  start_time = time.clock()\n"
     ]
    },
    {
     "name": "stdout",
     "output_type": "stream",
     "text": [
      "38\n",
      "run #2\n"
     ]
    },
    {
     "name": "stderr",
     "output_type": "stream",
     "text": [
      "C:\\Users\\pjz1\\AppData\\Local\\Continuum\\anaconda3\\lib\\site-packages\\gensim\\models\\hdpmodel.py:222: DeprecationWarning: time.clock has been deprecated in Python 3.3 and will be removed from Python 3.8: use time.perf_counter or time.process_time instead\n",
      "  start_time = time.clock()\n"
     ]
    },
    {
     "name": "stdout",
     "output_type": "stream",
     "text": [
      "Done!\n",
      "14\n",
      "0.8259739656285559\n"
     ]
    }
   ],
   "source": [
    "id_topic_ratio = 0.1\n",
    "resistance = 0.3\n",
    "done = False\n",
    "numTops = 10\n",
    "\n",
    "topicPath = \"topics.csv\"\n",
    "relationPath = \"relations.csv\"\n",
    "\n",
    "topicFile = open(topicPath, 'w')\n",
    "topicOut =  csv.writer(topicFile, lineterminator = '\\n')\n",
    "topicOut.writerow([\"\", \"run\", \"topic\", \"terms\", \"p\"])\n",
    "\n",
    "\n",
    "relationFile = open(relationPath, 'w')\n",
    "relationOut = csv.writer(relationFile, lineterminator = '\\n')\n",
    "relationOut.writerow([\"run\", \"topic\", \"IDs\", \"ID/strength\"])\n",
    "\n",
    "run = 1\n",
    "totalTopics = 0\n",
    "averageCoherence = 0\n",
    "badIDs = docIDs\n",
    "\n",
    "while not done:\n",
    "    \n",
    "    print(\"run #\" + str(run))\n",
    "    \n",
    "    doc2topic = dict()\n",
    "    topic2doc = dict()\n",
    "    \n",
    "    \n",
    "    oldIDs = badIDs.copy()\n",
    "    badIDs = list()\n",
    "    \n",
    "    totalTopics += numTops\n",
    "    \n",
    "    #perform LDA\n",
    "    hdp = HdpModel(corpus, dictionary, T=numTops)\n",
    "\n",
    "    lda_model = hdp.suggested_lda_model()\n",
    "    \n",
    "    coherenceModel = CoherenceModel(model=lda_model, texts=data, dictionary=dictionary, coherence='c_v')\n",
    "    coherence = coherenceModel.get_coherence()\n",
    "    averageCoherence = ((totalTopics-numTops) * averageCoherence + numTops*coherence)/totalTopics\n",
    "    \n",
    "    # tag documents\n",
    "    for ID in oldIDs:\n",
    "        \n",
    "        doc = docTokens[ID]\n",
    "        vec = dictionary.doc2bow(doc)\n",
    "\n",
    "        store = lda_model[vec]\n",
    "\n",
    "        bestRel = 0\n",
    "\n",
    "        # build relations\n",
    "        for pair in store:\n",
    "            \n",
    "            bestRel = max(bestRel, pair[1])\n",
    "\n",
    "            if pair[0] in topic2doc:\n",
    "                topic2doc[pair[0]] += [(ID, pair[1])]\n",
    "            else:\n",
    "                topic2doc[pair[0]] = [(ID, pair[1])]\n",
    "\n",
    "        # collect bad docs    \n",
    "        if bestRel < resistance:\n",
    "\n",
    "            badIDs.append(ID)\n",
    "    \n",
    "    \n",
    "    #write terms\n",
    "    \n",
    "    top_words_per_topic = []\n",
    "    for t in range(lda_model.num_topics):\n",
    "        top_words_per_topic.extend([(run, t, ) + x for x in lda_model.show_topic(t, topn = 10)])\n",
    "\n",
    "        \n",
    "    terms = pd.DataFrame(top_words_per_topic, columns=['Run', 'Topic', 'Word', 'P']).to_csv(topicPath, mode='a', header=False)\n",
    "    \n",
    "    \n",
    "    # print relations\n",
    "    for topic in topic2doc:\n",
    "        relationOut.writerow([run, topic, len(topic2doc[topic])]+ sorted(topic2doc[topic], key=operator.itemgetter(1), reverse=True))\n",
    "    \n",
    "    \n",
    "    \n",
    "    # done?\n",
    "    if len(badIDs) == 0:\n",
    "        done = True\n",
    "        print(\"Done!\")\n",
    "    \n",
    "    # if not, build new corpus\n",
    "    else:\n",
    "        print(len(badIDs))\n",
    "        corpus = [dictionary.doc2bow(docTokens[docID]) for docID in badIDs]\n",
    "        len(corpus)\n",
    "        numTops = math.ceil(len(badIDs) * id_topic_ratio)\n",
    "        run += 1\n",
    "\n",
    "        \n",
    "print(totalTopics)\n",
    "print(averageCoherence)\n",
    "\n",
    "topicFile.close()\n",
    "relationFile.close()"
   ]
  },
  {
   "cell_type": "markdown",
   "metadata": {},
   "source": [
    "#### Thinning\n",
    "\n",
    "Deploy cosine similarity to remove similar topics."
   ]
  },
  {
   "cell_type": "code",
   "execution_count": null,
   "metadata": {},
   "outputs": [],
   "source": [
    "def get_cosine_sim(*strs): \n",
    "    vectors = [t for t in get_vectors(*strs)]\n",
    "    return cosine_similarity(vectors)\n",
    "    \n",
    "def get_vectors(*strs):\n",
    "    text = [t for t in strs]\n",
    "    vectorizer = CountVectorizer(text)\n",
    "    vectorizer.fit(text)\n",
    "    return vectorizer.transform(text).toarray()"
   ]
  },
  {
   "cell_type": "code",
   "execution_count": null,
   "metadata": {},
   "outputs": [],
   "source": [
    "# specify location of topic output\n",
    "topicPath = \"data\\\\topics_init10_rat0.1_res_0.5.csv\"\n",
    "\n",
    "topicFile = open(topicPath, 'r')\n",
    "topicReader = csv.reader(topicFile)\n",
    "\n",
    "next(topicReader)\n",
    "next(topicReader)\n",
    "\n",
    "\n",
    "currentTopic = 0\n",
    "topicNumber = 0\n",
    "\n",
    "topic2term = dict()\n",
    "\n",
    "for row in topicReader:\n",
    "    \n",
    "    term = row[3]\n",
    "    p = row[4]\n",
    "    \n",
    "    if not row[2] == currentTopic:\n",
    "        currentTopic = row[2]\n",
    "        topicNumber += 1\n",
    "        topic2term[topicNumber] = [term]\n",
    "    else:\n",
    "        topic2term[topicNumber].append(term)\n",
    "\n",
    "topicNums = topic2term.keys()\n",
    "\n",
    "for t1, t2 in itertools.combinations(topicNums, 2):\n",
    "    if get_cosine_sim(\" \".join(topic2term[t1]), \" \".join(topic2term[t2])) > 0.5:\n",
    "        print(topic2term[t1])\n",
    "        print(topic2term[t2])\n",
    "    \n",
    "    \n",
    "    "
   ]
  }
 ],
 "metadata": {
  "kernelspec": {
   "display_name": "Python 3",
   "language": "python",
   "name": "python3"
  },
  "language_info": {
   "codemirror_mode": {
    "name": "ipython",
    "version": 3
   },
   "file_extension": ".py",
   "mimetype": "text/x-python",
   "name": "python",
   "nbconvert_exporter": "python",
   "pygments_lexer": "ipython3",
   "version": "3.7.3"
  }
 },
 "nbformat": 4,
 "nbformat_minor": 2
}
