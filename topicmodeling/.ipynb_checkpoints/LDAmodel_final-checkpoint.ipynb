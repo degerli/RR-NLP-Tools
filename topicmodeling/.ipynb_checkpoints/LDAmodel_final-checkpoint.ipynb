{
 "cells": [
  {
   "cell_type": "markdown",
   "metadata": {},
   "source": [
    "LDA Topic Modeling\n",
    "---\n",
    "\n",
    "Preforming LDA topic modeling with R&R terms."
   ]
  },
  {
   "cell_type": "markdown",
   "metadata": {},
   "source": [
    "### Imports"
   ]
  },
  {
   "cell_type": "code",
   "execution_count": 1,
   "metadata": {},
   "outputs": [
    {
     "name": "stderr",
     "output_type": "stream",
     "text": [
      "C:\\Users\\pjz1\\AppData\\Local\\Continuum\\anaconda3\\lib\\site-packages\\gensim\\utils.py:1197: UserWarning: detected Windows; aliasing chunkize to chunkize_serial\n",
      "  warnings.warn(\"detected Windows; aliasing chunkize to chunkize_serial\")\n"
     ]
    }
   ],
   "source": [
    "# processing\n",
    "import operator\n",
    "from operator import methodcaller\n",
    "import csv\n",
    "import re\n",
    "import numpy as np\n",
    "import pandas as pd\n",
    "from pprint import pprint\n",
    "import string\n",
    "import math\n",
    "import itertools\n",
    "import sqlite3\n",
    "import copy\n",
    "\n",
    "# gensim\n",
    "import gensim\n",
    "import gensim.corpora as corpora\n",
    "from gensim.utils import simple_preprocess\n",
    "from gensim.models import CoherenceModel\n",
    "from gensim.models import HdpModel\n",
    "from gensim.models import TfidfModel\n",
    "\n",
    "# plotting tools\n",
    "import pyLDAvis\n",
    "import pyLDAvis.gensim\n",
    "import matplotlib.pyplot as plt\n",
    "import warnings\n",
    "warnings.filterwarnings(\"ignore\", category=DeprecationWarning) \n"
   ]
  },
  {
   "cell_type": "markdown",
   "metadata": {},
   "source": [
    "### Preprocessing\n",
    "\n",
    "Read in the output from the R&R program. Tokenize the terms and remove blacklisted tokens. Build a corpora."
   ]
  },
  {
   "cell_type": "code",
   "execution_count": 2,
   "metadata": {},
   "outputs": [],
   "source": [
    "# path to blacklisted tokens\n",
    "blacklist = [t.strip() for t in next(csv.reader(open(\"tools\\\\blacklist.csv\", 'r')))]\n",
    "\n",
    "# levels of R&R terms considered\n",
    "levels = [0, 1, 2, 3]\n",
    "\n",
    "# format [term, orig, sentence, docID]\n",
    "inPath = \"raw.csv\"\n",
    "inFile = open(inPath, 'r')\n",
    "inReader = csv.reader(inFile)"
   ]
  },
  {
   "cell_type": "code",
   "execution_count": 3,
   "metadata": {},
   "outputs": [],
   "source": [
    "docTokens = dict()\n",
    "\n",
    "# ignore headers\n",
    "next(inReader)\n",
    "\n",
    "for inRow in inReader:\n",
    "    term = inRow[0]\n",
    "    sentence = inRow[2]\n",
    "    docID = inRow[3]\n",
    "    \n",
    "    # find acceptable tokens only\n",
    "    token = \"_\".join([t for t in term.split(\":\") if re.match(r'[^\\W\\d]*$', t) and not t in blacklist])\n",
    "\n",
    "    # calculate new term level\n",
    "    level = token.count(\"_\")\n",
    "\n",
    "    # if acceptable, add to dictionary\n",
    "    if level in levels and not token in blacklist and len(token) > 0:\n",
    "        if docID in docTokens:\n",
    "            docTokens[docID] += [token]\n",
    "        else:\n",
    "            docTokens[docID] = [token]\n",
    "\n",
    "# compile all IDs and texts\n",
    "docIDs = list(docTokens.keys())\n",
    "texts = list(docTokens.values())"
   ]
  },
  {
   "cell_type": "code",
   "execution_count": 15,
   "metadata": {},
   "outputs": [
    {
     "name": "stdout",
     "output_type": "stream",
     "text": [
      "Raw dictionary: 24488 terms\n",
      "Filtered dictionary: 24487 terms\n"
     ]
    }
   ],
   "source": [
    "# build a dictionary for the text\n",
    "dictionary = corpora.Dictionary(texts)\n",
    "print(\"Raw dictionary: \" + str(len(dictionary)) + \" terms\")\n",
    "\n",
    "# filter out terms that appear in fewer that LOW docs or greater than HIGH percent of docs and use KEEP terms\n",
    "LOW = 1\n",
    "HIGH = 0.3\n",
    "KEEP = 30000\n",
    "\n",
    "old_dict = copy.copy(dictionary)\n",
    "\n",
    "dictionary.filter_extremes(no_below = LOW, no_above = HIGH, keep_n = KEEP)\n",
    "print(\"Filtered dictionary: \" + str(len(dictionary)) + \" terms\")\n",
    "\n",
    "\n",
    "# convert the text to a corpus with the dictionary\n",
    "corpus = [dictionary.doc2bow(text) for text in texts]\n",
    "\n",
    "# perform TF-IDF on the corpus\n",
    "tfidf = TfidfModel(corpus)\n",
    "corpus = tfidf[corpus]"
   ]
  },
  {
   "cell_type": "markdown",
   "metadata": {},
   "source": [
    "### Modeling\n",
    "\n",
    "Standard LDA modeling. Toggle the number of topics, passes, and iterations."
   ]
  },
  {
   "cell_type": "code",
   "execution_count": 4,
   "metadata": {},
   "outputs": [],
   "source": [
    "def model(corpus, numtop, passes, iterations):\n",
    "\n",
    "    # run LDA with four cores\n",
    "    model = gensim.models.LdaMulticore(corpus, \n",
    "                                       num_topics=numtop, \n",
    "                                       id2word=dictionary,\n",
    "                                       passes=passes, \n",
    "                                       workers=4,\n",
    "                                       iterations=iterations)\n",
    "\n",
    "    return model    "
   ]
  },
  {
   "cell_type": "markdown",
   "metadata": {},
   "source": [
    "Perform a set of trials and write results to files."
   ]
  },
  {
   "cell_type": "code",
   "execution_count": null,
   "metadata": {},
   "outputs": [],
   "source": [
    "# folder to write databases to\n",
    "STEM = \"databases\\\\\"\n",
    "\n",
    "# set range of passes and topics to test\n",
    "passes = []\n",
    "topics = []\n",
    "\n",
    "for p in passes:\n",
    "    for t in topics:\n",
    "        \n",
    "        # create database\n",
    "        con = sqlite3.connect(STEM + \"topics_p\" + str(p+\"_t\"+str(t)+\".db\"))\n",
    "        cur = con.cursor()\n",
    "        \n",
    "        # train model\n",
    "        print(\"Training LDA...\")\n",
    "        model = model(corpus, p, t, 500)           \n",
    "        print(\"Done.\")\n",
    "                              \n",
    "        # write the topic-terms table\n",
    "        print(\"Writing topics to terms...\")\n",
    "\n",
    "        cur.execute(\"\"\"\n",
    "            CREATE TABLE IF NOT EXISTS TERMS\n",
    "                (topic INT,\n",
    "                term TEXT,\n",
    "                prob FLOAT)\n",
    "        \"\"\")\n",
    "\n",
    "        for i in range(lda_model.num_topics):\n",
    "            topics = lda_model.show_topic(i, topn = 20)\n",
    "            for t in topics:\n",
    "                cur.execute(\"INSERT INTO TERMS (topic, term, prob) VALUES (?, ?, ?)\", [i+1, t[0], t[1]])\n",
    "\n",
    "        print(\"Done.\")\n",
    "                              \n",
    "        # write the doc-topics table\n",
    "        print(\"Writing doc to topics...\")\n",
    "\n",
    "        cur.execute(\"\"\"\n",
    "            CREATE TABLE IF NOT EXISTS DOCS\n",
    "                (doc TEXT,\n",
    "                topic INT,\n",
    "                prob FLOAT)\n",
    "        \"\"\")\n",
    "\n",
    "        for ID in docIDs:\n",
    "\n",
    "            doc = docTokens[ID]\n",
    "            store = list(model.get_document_topics(dictionary.doc2bow(doc)))\n",
    "\n",
    "            for pair in store:\n",
    "\n",
    "                cur.execute(\"INSERT INTO DOCS (doc, topic, prob) VALUES (?, ?, ?)\", [docID, pair[0], pair[1]])\n",
    "\n",
    "        print(\"Done.\")\n"
   ]
  },
  {
   "cell_type": "code",
   "execution_count": 13,
   "metadata": {
    "scrolled": false
   },
   "outputs": [
    {
     "name": "stdout",
     "output_type": "stream",
     "text": [
      "c_h, ray, intermolecular_n_h, n_h, o_h, crystal_structure, dihedral_angle, complex, network, minus\n",
      "\n",
      "\n",
      "asymmetric_unit, c_h, o_hydrogen_bond, pi, n_h, unit, o_h, dihedral_angle, plane, c\n",
      "\n",
      "\n",
      "crystal_structure, protein, water, o_h, c_h, ray, cell, type, weak_c_h, chain\n",
      "\n",
      "\n",
      "deviation, crystal_structure, intermolecular_c_h, ray, cell, n_h, chain, c_h, c, model\n",
      "\n",
      "\n",
      "pi, ray, dihedral_angle, asymmetric_unit, unit, c_h, fax, minus, email, cell\n",
      "\n",
      "\n",
      "c_h, crystal_structure, pi, complex, o_hydrogen_bond, n_h, plane, dihedral_angle, c, minus\n",
      "\n",
      "\n",
      "dihedral_angle, conformation, n_h, intermolecular_n_h, pi, information, cell, o_hydrogen_bond, crystal_structure, complex\n",
      "\n",
      "\n"
     ]
    }
   ],
   "source": [
    "normalmodel = model(corpus, 7, 5, 500)\n",
    "for topic in normalmodel.print_topics():\n",
    "    phrase = str(topic[1])\n",
    "    topics = \", \".join([t for t in phrase.split(\"\\\"\") if not \"*\" in t and not t.strip()==\"\"])\n",
    "    print(topics + \"\\n\\n\")"
   ]
  },
  {
   "cell_type": "markdown",
   "metadata": {},
   "source": [
    "Perform cyclical tests, with a lower bound."
   ]
  },
  {
   "cell_type": "code",
   "execution_count": 6,
   "metadata": {},
   "outputs": [],
   "source": [
    "def cyclic(minp, rat, p, its):\n",
    "    \n",
    "    done = False\n",
    "    newcorpus = copy.copy(corpus)\n",
    "    newIDs = docIDs.copy()\n",
    "    totalTopics = 0\n",
    "    \n",
    "    while not done:\n",
    "        \n",
    "        t = math.ceil(len(newcorpus) * rat)\n",
    "        totalTopics += t\n",
    "        \n",
    "        newmodel = model(newcorpus, t, p, its)\n",
    "        \n",
    "        print(newmodel.print_topics())\n",
    "        \n",
    "        badIDs = list()\n",
    "        \n",
    "        for ID in newIDs:\n",
    "            doc = docTokens[ID]\n",
    "            store = list(newmodel.get_document_topics(dictionary.doc2bow(doc), minimum_probability = minp))\n",
    "            \n",
    "            if len(store) == 0:\n",
    "                badIDs.append(ID)\n",
    "        \n",
    "        if len(badIDs) == 0:\n",
    "            done = True\n",
    "            \n",
    "        else:\n",
    "            newIDs = badIDs\n",
    "            newcorpus = [dictionary.doc2bow(docTokens[ID]) for ID in newIDs]\n",
    "            print(len(badIDs))\n",
    "            \n",
    "    print(\"Total topics: \" + str(totalTopics))"
   ]
  },
  {
   "cell_type": "code",
   "execution_count": 7,
   "metadata": {},
   "outputs": [
    {
     "name": "stdout",
     "output_type": "stream",
     "text": [
      "[(0, '0.002*\"n_h\" + 0.002*\"o_hydrogen_bond\" + 0.002*\"asymmetric_unit\" + 0.002*\"benzene_ring\" + 0.001*\"o_h\" + 0.001*\"c_h\" + 0.001*\"intermolecular_hydrogen_bond\" + 0.001*\"water_molecule\" + 0.001*\"dihedral_angle\" + 0.001*\"independent_molecule\"'), (1, '0.003*\"asymmetric_unit\" + 0.002*\"n_atom\" + 0.001*\"asymmetric_unit_molecule\" + 0.001*\"aromatic_pi\" + 0.001*\"dihedral_angle\" + 0.001*\"c_h\" + 0.001*\"space_group\" + 0.001*\"o_atom\" + 0.001*\"phenyl_ring\" + 0.001*\"weak_intermolecular_c_h\"'), (2, '0.003*\"o_hydrogen_bond\" + 0.003*\"n_h\" + 0.003*\"c_h\" + 0.003*\"c_o\" + 0.003*\"o_h\" + 0.003*\"n_hydrogen_bond\" + 0.003*\"c_o_h\" + 0.003*\"c_n_h\" + 0.002*\"asymmetric_unit\" + 0.002*\"n_o_h\"'), (3, '0.002*\"c_h\" + 0.002*\"intermolecular_c_h\" + 0.002*\"intermolecular_n_h\" + 0.002*\"o_h\" + 0.002*\"o_hydrogen_bond\" + 0.002*\"dihedral_angle\" + 0.002*\"weak_intermolecular_c_h\" + 0.002*\"n_h\" + 0.002*\"pi_pi\" + 0.001*\"sn_atom\"'), (4, '0.003*\"weak_c_h\" + 0.002*\"c_h\" + 0.002*\"dihedral_angle\" + 0.002*\"pi_interaction\" + 0.002*\"ring_system\" + 0.002*\"molecular_structure\" + 0.002*\"benzene_ring\" + 0.002*\"structure_factor\" + 0.001*\"weak_c\" + 0.001*\"o_interaction\"'), (5, '0.002*\"c_h\" + 0.002*\"single_crystal\" + 0.002*\"dihedral_angle\" + 0.002*\"intermolecular_c_h\" + 0.001*\"o_hydrogen_bond\" + 0.001*\"intermolecular_n_h\" + 0.001*\"n_h\" + 0.001*\"x_ray\" + 0.001*\"mirror_plane\" + 0.001*\"dihedral_angle_deg\"'), (6, '0.002*\"space_group\" + 0.002*\"x_ray\" + 0.002*\"n_h\" + 0.002*\"aring_resolution\" + 0.002*\"o_atom\" + 0.002*\"small_angle\" + 0.001*\"asymmetric_unit\" + 0.001*\"o_h\" + 0.001*\"n_hydrogen_bond\" + 0.001*\"n_atom\"')]\n",
      "385\n",
      "[(0, '0.013*\"c_h\" + 0.011*\"dihedral_angle\" + 0.010*\"n_h\" + 0.009*\"o_h\" + 0.008*\"o_hydrogen_bond\" + 0.007*\"asymmetric_unit\" + 0.006*\"n_hydrogen_bond\" + 0.006*\"benzene_ring\" + 0.006*\"weak_c_h\" + 0.005*\"intermolecular_n_h\"'), (1, '0.004*\"space_group\" + 0.004*\"x_ray\" + 0.003*\"unit_cell\" + 0.003*\"unit_cell_parameter\" + 0.003*\"aring_resolution\" + 0.002*\"x_ray_diffraction\" + 0.001*\"hang_drop\" + 0.001*\"small_angle\" + 0.001*\"vapour_diffusion\" + 0.001*\"vapour_diffusion_method\"')]\n",
      "96\n",
      "[(0, '0.001*\"n_h\" + 0.001*\"space_group\" + 0.001*\"x_ray\" + 0.001*\"water_molecule\" + 0.001*\"asymmetric_unit\" + 0.001*\"n_atom\" + 0.000*\"complex_cation\" + 0.000*\"molecular_structure\" + 0.000*\"chair_conformation\" + 0.000*\"minus_anion\"')]\n",
      "Total topics: 10\n"
     ]
    }
   ],
   "source": [
    "cyclic(0.85, 0.005, 100, 500)"
   ]
  },
  {
   "cell_type": "markdown",
   "metadata": {},
   "source": [
    "### Output Topics"
   ]
  },
  {
   "cell_type": "markdown",
   "metadata": {},
   "source": [
    "### Coherence Testing\n",
    "\n",
    "Test a range for the ideal number of topics."
   ]
  },
  {
   "cell_type": "code",
   "execution_count": null,
   "metadata": {},
   "outputs": [],
   "source": [
    "topics = range(1, 21)\n",
    "passes = 5\n",
    "iterations = 500\n",
    "\n",
    "model_list = list()\n",
    "coherence_values = list()\n",
    "\n",
    "for topicnum in topics:\n",
    "\n",
    "    model = gensim.models.LdaMulticore(corpus_tfidf, num_topics=topicnum, id2word=dictionary, passes=passes, workers =4, iterations=iterations)\n",
    "    model_list.append(model)\n",
    "    \n",
    "    coherencemodel = CoherenceModel(model=model, texts=texts, dictionary=dictionary, coherence='c_v')\n",
    "    coherence_values.append(coherencemodel.get_coherence())\n",
    "\n",
    "\n",
    "plt.plot(topics, coherence_values)\n",
    "plt.xlabel(\"Num Topics\")\n",
    "plt.ylabel(\"Coherence score\")\n",
    "plt.legend((\"coherence_values\"), loc='best')\n",
    "plt.show()"
   ]
  },
  {
   "cell_type": "markdown",
   "metadata": {},
   "source": [
    "### Visualization"
   ]
  },
  {
   "cell_type": "code",
   "execution_count": null,
   "metadata": {},
   "outputs": [],
   "source": [
    "pyLDAvis.enable_notebook()\n",
    "pyLDAvis.gensim.prepare(lda_model, corpus, dictionary)"
   ]
  }
 ],
 "metadata": {
  "kernelspec": {
   "display_name": "Python 3",
   "language": "python",
   "name": "python3"
  },
  "language_info": {
   "codemirror_mode": {
    "name": "ipython",
    "version": 3
   },
   "file_extension": ".py",
   "mimetype": "text/x-python",
   "name": "python",
   "nbconvert_exporter": "python",
   "pygments_lexer": "ipython3",
   "version": "3.7.3"
  }
 },
 "nbformat": 4,
 "nbformat_minor": 2
}
