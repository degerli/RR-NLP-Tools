{
 "cells": [
  {
   "cell_type": "markdown",
   "metadata": {},
   "source": [
    "# Topic Modeling\n",
    "---\n",
    "#### Imports"
   ]
  },
  {
   "cell_type": "code",
   "execution_count": 1,
   "metadata": {},
   "outputs": [
    {
     "name": "stderr",
     "output_type": "stream",
     "text": [
      "C:\\Users\\pjz1\\AppData\\Local\\Continuum\\anaconda3\\lib\\site-packages\\gensim\\utils.py:1197: UserWarning: detected Windows; aliasing chunkize to chunkize_serial\n",
      "  warnings.warn(\"detected Windows; aliasing chunkize to chunkize_serial\")\n"
     ]
    }
   ],
   "source": [
    "# processing\n",
    "from operator import methodcaller\n",
    "import csv\n",
    "import re\n",
    "import numpy as np\n",
    "import pandas as pd\n",
    "from pprint import pprint\n",
    "\n",
    "# gensim\n",
    "import gensim\n",
    "import gensim.corpora as corpora\n",
    "from gensim.utils import simple_preprocess\n",
    "from gensim.models import CoherenceModel\n",
    "\n",
    "# plotting tools\n",
    "import pyLDAvis\n",
    "import pyLDAvis.gensim\n",
    "import matplotlib.pyplot as plt"
   ]
  },
  {
   "cell_type": "markdown",
   "metadata": {},
   "source": [
    "#### Processing"
   ]
  },
  {
   "cell_type": "code",
   "execution_count": 2,
   "metadata": {
    "scrolled": false
   },
   "outputs": [],
   "source": [
    "blacklist = [t.strip() for t in next(csv.reader(open(\"blacklist.csv\", 'r')))]\n",
    "\n",
    "inPath = \"input.csv\"\n",
    "outPath = \"out.csv\"\n",
    "wordBound = 10\n",
    "charBound = 70\n",
    "\n",
    "inFile = open(inPath, 'r')\n",
    "inReader = csv.reader(inFile)\n",
    "\n",
    "outFile = open(outPath, 'w')\n",
    "outWriter = csv.writer(outFile)\n",
    "\n",
    "\n",
    "docTokens = dict()\n",
    "\n",
    "\n",
    "next(inReader)\n",
    "for inRow in inReader:\n",
    "\n",
    "    charDist = int(inRow[0])\n",
    "    wordDist = int(inRow[1])\n",
    "\n",
    "    if wordDist < wordBound and charDist < charBound:\n",
    "\n",
    "        #predTerm, subTerm, objTerm = map(methodcaller(\"split\", \":\"), inRow[2:5])\n",
    "        #allTerms = predTerm + subTerm + objTerm\n",
    "\n",
    "        subTerm, objTerm = map(methodcaller(\"split\", \":\"), inRow[3:5])\n",
    "        \n",
    "        sub = \"_\".join([t for t in subTerm if re.match(r'[^\\W\\d]*$', t) and not t in blacklist])\n",
    "        obj = \"_\".join([t for t in subTerm if re.match(r'[^\\W\\d]*$', t) and not t in blacklist])\n",
    "        \n",
    "        tokens = list()\n",
    "        if not sub in blacklist and not obj in blacklist and len(sub) > 0 and len(obj) > 0:\n",
    "            tokens = [sub, obj]\n",
    "\n",
    "            docID = inRow[5]\n",
    "\n",
    "            if docID in docTokens:\n",
    "                docTokens[docID] += tokens\n",
    "            else:\n",
    "                docTokens[docID] = tokens\n",
    "\n",
    "data = list(docTokens.values())"
   ]
  },
  {
   "cell_type": "markdown",
   "metadata": {},
   "source": [
    "#### Model"
   ]
  },
  {
   "cell_type": "code",
   "execution_count": 3,
   "metadata": {},
   "outputs": [
    {
     "name": "stdout",
     "output_type": "stream",
     "text": [
      "[(21,\n",
      "  '0.195*\"molecular_hydrogen\" + 0.065*\"one_solution\" + 0.060*\"inversion_dimer\" '\n",
      "  '+ 0.034*\"diffraction_spot\" + 0.034*\"basal_diffraction_spot_intensity\" + '\n",
      "  '0.034*\"cone_series\" + 0.034*\"basal_diffraction_spot\" + '\n",
      "  '0.028*\"piperazine_ring\" + 0.020*\"double_bond\" + 0.020*\"c_double_bond\"'),\n",
      " (36,\n",
      "  '0.124*\"structure_solution\" + 0.101*\"water_molecule\" + '\n",
      "  '0.062*\"molecular_skeleton\" + 0.062*\"water_molecule_involve_n_hydrogen_bond\" '\n",
      "  '+ 0.038*\"vv_atom\" + 0.038*\"molecular_salt\" + 0.038*\"basal_plane\" + '\n",
      "  '0.025*\"octahedral_coordination\" + 0.019*\"title_complete_cation\" + '\n",
      "  '0.019*\"strongly_distort_octahedron\"'),\n",
      " (19,\n",
      "  '0.078*\"kda_protein\" + 0.078*\"da_minus\" + 0.052*\"sluggish_transformation\" + '\n",
      "  '0.052*\"vm_value\" + 0.052*\"obtain_agreement\" + 0.027*\"cuii_atom\" + '\n",
      "  '0.026*\"atp_complex_erk_detail_structural_analysis\" + '\n",
      "  '0.026*\"detail_structural_analysis\" + 0.026*\"dihydroorotate_dehydrogenase\" + '\n",
      "  '0.026*\"putative_dihydroorotate_dehydrogenase\"'),\n",
      " (6,\n",
      "  '0.101*\"important_role\" + 0.068*\"nucleocapsid_protein_interest\" + '\n",
      "  '0.068*\"monomer_position\" + 0.068*\"bi_atom\" + 0.068*\"e_pathway\" + '\n",
      "  '0.034*\"syncytial_virus_nucleocapsid\" + 0.034*\"hrsvn_structure\" + '\n",
      "  '0.034*\"periplasmic_protein\" + 0.034*\"march_function_correction\" + '\n",
      "  '0.023*\"imidazolidine_ring\"'),\n",
      " (15,\n",
      "  '0.125*\"area_detector\" + 0.125*\"great_effort\" + '\n",
      "  '0.063*\"improve_property_novel_material\" + '\n",
      "  '0.063*\"dehydrogenation_process_hydrogenation\" + 0.063*\"material_structure\" '\n",
      "  '+ 0.059*\"molecular_replacement\" + 0.057*\"weak_pi\" + '\n",
      "  '0.043*\"neighbouring_layer\" + 0.035*\"structural_feature\" + '\n",
      "  '0.031*\"dehydrogenation_process\"'),\n",
      " (10,\n",
      "  '0.079*\"methyl_group\" + 0.076*\"methyl_group_h_atom\" + '\n",
      "  '0.056*\"supramolecular_aggregation\" + 0.056*\"incident_neutron_wavelength\" + '\n",
      "  '0.056*\"incident_neutron\" + 0.056*\"scatter_property\" + 0.020*\"ni_atom\" + '\n",
      "  '0.020*\"individual_network\" + 0.018*\"absolute_structure\" + '\n",
      "  '0.010*\"methylsulfinyl_substituent_methyl_group\"'),\n",
      " (12,\n",
      "  '0.074*\"trimeric_crystal\" + 0.055*\"similar_device\" + '\n",
      "  '0.055*\"wavelength_change\" + 0.037*\"individual_experiment_reflection\" + '\n",
      "  '0.037*\"hkl_reflection\" + 0.037*\"conceptually_simple_device\" + '\n",
      "  '0.037*\"different_hkl_reflection\" + 0.037*\"chemical_probe\" + '\n",
      "  '0.037*\"chemical_probe_application\" + 0.037*\"human_coronavirus\"'),\n",
      " (11,\n",
      "  '0.056*\"transition_metal_development\" + 0.056*\"transition_metal\" + '\n",
      "  '0.056*\"structure_different_anion_incorporation\" + 0.056*\"different_anion\" + '\n",
      "  '0.056*\"high_pressure_issue_overcome_technique\" + '\n",
      "  '0.056*\"issue_overcome_technique\" + 0.056*\"structure_different_anion\" + '\n",
      "  '0.056*\"c_atom\" + 0.023*\"methylene_c_atom\" + '\n",
      "  '0.023*\"k_cl_ion_repulsive_parameter\"'),\n",
      " (5,\n",
      "  '0.123*\"possible_caveat\" + 0.123*\"possible_caveat_free_diffraction_datum\" + '\n",
      "  '0.094*\"initial_phasis\" + 0.077*\"protein_crystal\" + '\n",
      "  '0.072*\"crystallization_condition\" + 0.043*\"cdii_atom\" + '\n",
      "  '0.041*\"protein_crystal_amorphous_protein\" + '\n",
      "  '0.033*\"crystal_datum_collection\" + 0.033*\"chloride_anion_water_molecule\" + '\n",
      "  '0.015*\"two_ligand\"'),\n",
      " (14,\n",
      "  '0.084*\"coii_cation\" + 0.081*\"organic_material\" + '\n",
      "  '0.062*\"damage_strain_profile\" + 0.062*\"atmospheric_pressure\" + '\n",
      "  '0.031*\"diffraction_equation\" + '\n",
      "  '0.031*\"debye_fundamental_diffraction_equation\" + '\n",
      "  '0.031*\"fundamental_diffraction_equation\" + '\n",
      "  '0.031*\"material_layer_order_region\" + 0.031*\"material_layer\" + '\n",
      "  '0.031*\"nucleotide_analogue\"'),\n",
      " (39,\n",
      "  '0.059*\"normal_access\" + 0.059*\"refinement_model_build\" + '\n",
      "  '0.030*\"yellow_crystal\" + 0.030*\"special_feature\" + 0.030*\"global_damage\" + '\n",
      "  '0.020*\"viral_rna\" + 0.020*\"preliminary_result\" + '\n",
      "  '0.020*\"cytoplasmic_protein\" + 0.020*\"diffraction_image\" + '\n",
      "  '0.020*\"crystal_datum\"'),\n",
      " (3,\n",
      "  '0.251*\"cyano_group\" + 0.129*\"pyrazole_ring\" + 0.126*\"pyrazole_ring_plane\" + '\n",
      "  '0.126*\"nh_h_atom\" + 0.126*\"pyrazole_ring_nh_h_atom\" + 0.017*\"metal_atom\" + '\n",
      "  '0.014*\"structural_comparison\" + 0.013*\"cui_atom\" + '\n",
      "  '0.013*\"scientific_science\" + 0.013*\"phnz_structural_comparison\"'),\n",
      " (20,\n",
      "  '0.276*\"b_axis\" + 0.276*\"b_axis_ribbon\" + 0.066*\"pi_interaction\" + '\n",
      "  '0.044*\"solvent_water_molecule_nitrate_anion\" + 0.044*\"criii_atom\" + '\n",
      "  '0.019*\"catechol_aromatic_ring\" + 0.015*\"complex_salt_hydrate\" + '\n",
      "  '0.015*\"salt_hydrate\" + 0.009*\"investigate_crystal\" + '\n",
      "  '0.009*\"independent_iodide_anion_complex_cation\"'),\n",
      " (37,\n",
      "  '0.038*\"redesign_construct\" + 0.029*\"structure_datum\" + '\n",
      "  '0.029*\"relate_analysis\" + 0.019*\"mesoporous_silica_matrix\" + '\n",
      "  '0.019*\"dsd_initial_crystal\" + 0.019*\"initial_crystal\" + '\n",
      "  '0.019*\"alkoxide_complex\" + '\n",
      "  '0.019*\"mesoporous_silica_matrix_functional_material_type\" + '\n",
      "  '0.019*\"flat_molecule_stack\" + 0.019*\"stability_because\"'),\n",
      " (23,\n",
      "  '0.070*\"active_form\" + 0.053*\"solid_state_laser\" + '\n",
      "  '0.053*\"solid_state_laser_commercial_host\" + 0.053*\"state_laser\" + '\n",
      "  '0.035*\"hydrostatic_pressure_effect\" + 0.035*\"open_question\" + '\n",
      "  '0.035*\"high_pressure_high_temperature\" + 0.035*\"chlorpropamide_polymorph\" + '\n",
      "  '0.035*\"bind_cargo\" + 0.026*\"low_temperature\"'),\n",
      " (16,\n",
      "  '0.222*\"title_compound_asymmetric_unit\" + 0.135*\"adjacent_molecule\" + '\n",
      "  '0.053*\"coordination_polyhedron\" + 0.047*\"octahedral_environment\" + '\n",
      "  '0.018*\"neighbour_oxalate_anion\" + 0.018*\"oxalate_ion\" + '\n",
      "  '0.018*\"oxalate_ion_o_atom\" + 0.015*\"adjacent_mononuclear_unit\" + '\n",
      "  '0.015*\"mononuclear_unit\" + 0.009*\"gauche_torsion\"'),\n",
      " (28,\n",
      "  '0.207*\"asymmetric_unit\" + 0.153*\"molecular_conformation\" + '\n",
      "  '0.048*\"datum_collection\" + 0.032*\"twofold_axis\" + '\n",
      "  '0.028*\"neighbouring_chain\" + 0.024*\"single_oxide_ligand\" + '\n",
      "  '0.024*\"iriii_atom_bridge_single_oxide_ligand\" + 0.021*\"mnii_cation\" + '\n",
      "  '0.019*\"dimeric_unit\" + 0.014*\"chloride_bridge\"'),\n",
      " (18,\n",
      "  '0.453*\"hydrogen_bond\" + 0.147*\"o_hydrogen_bond\" + 0.063*\"inversion_centre\" '\n",
      "  '+ 0.022*\"selectivity_difference_investigate_order\" + '\n",
      "  '0.022*\"selectivity_difference\" + 0.015*\"cdo_crystal\" + '\n",
      "  '0.015*\"optimal_cdo_crystal\" + 0.013*\"intermolecular_hydrogen_bond\" + '\n",
      "  '0.010*\"channel_type\" + 0.010*\"adjacent_zwitterion\"'),\n",
      " (13,\n",
      "  '0.535*\"crystal_structure\" + 0.050*\"case_twin_operation\" + 0.043*\"h_atom\" + '\n",
      "  '0.034*\"o_atom\" + 0.025*\"oligomerization_interface\" + '\n",
      "  '0.025*\"novel_jmjc_domain\" + 0.025*\"crystal_structure_study\" + '\n",
      "  '0.025*\"protein_contain_novel_jmjc_domain\" + 0.025*\"jmjc_domain\" + '\n",
      "  '0.008*\"unligand_complex_enzyme_crystal_structure\"'),\n",
      " (0,\n",
      "  '0.268*\"crystal_pack\" + 0.114*\"aring_resolution\" + 0.082*\"diffraction_datum\" '\n",
      "  '+ 0.046*\"n_hydrogen_bond\" + 0.046*\"benzene_ring\" + 0.043*\"adjacent_layer\" + '\n",
      "  '0.029*\"structural_analysis\" + 0.027*\"geometric_parameter\" + '\n",
      "  '0.018*\"morpholine_ring\" + 0.017*\"n_hydrogen\"')]\n"
     ]
    }
   ],
   "source": [
    "id2word = corpora.Dictionary(data)\n",
    "texts = data\n",
    "\n",
    "corpus = [id2word.doc2bow(text) for text in texts]\n",
    "\n",
    "lda_model = gensim.models.ldamodel.LdaModel(corpus=corpus,\n",
    "                                       id2word=id2word,\n",
    "                                       num_topics=40, \n",
    "                                       random_state=100,\n",
    "                                       update_every=1,\n",
    "                                       chunksize=20,\n",
    "                                       passes=20,\n",
    "                                       alpha='auto',\n",
    "                                       per_word_topics=True)\n",
    "\n",
    "\n",
    "pprint(lda_model.print_topics())\n",
    "doc_lda = lda_model[corpus]\n"
   ]
  },
  {
   "cell_type": "markdown",
   "metadata": {},
   "source": [
    "#### Visualize"
   ]
  },
  {
   "cell_type": "code",
   "execution_count": null,
   "metadata": {},
   "outputs": [
    {
     "name": "stderr",
     "output_type": "stream",
     "text": [
      "C:\\Users\\pjz1\\AppData\\Local\\Continuum\\anaconda3\\lib\\site-packages\\pyLDAvis\\_prepare.py:257: FutureWarning: Sorting because non-concatenation axis is not aligned. A future version\n",
      "of pandas will change to not sort by default.\n",
      "\n",
      "To accept the future behavior, pass 'sort=False'.\n",
      "\n",
      "To retain the current behavior and silence the warning, pass 'sort=True'.\n",
      "\n",
      "  return pd.concat([default_term_info] + list(topic_dfs))\n"
     ]
    },
    {
     "name": "stdout",
     "output_type": "stream",
     "text": [
      "\n",
      "Note: if you're in the IPython notebook, pyLDAvis.show() is not the best command\n",
      "      to use. Consider using pyLDAvis.display(), or pyLDAvis.enable_notebook().\n",
      "      See more information at http://pyLDAvis.github.io/quickstart.html .\n",
      "\n",
      "You must interrupt the kernel to end this command\n",
      "\n",
      "Serving to http://127.0.0.1:8889/    [Ctrl-C to exit]\n"
     ]
    },
    {
     "name": "stderr",
     "output_type": "stream",
     "text": [
      "127.0.0.1 - - [03/Jul/2019 14:58:03] \"GET / HTTP/1.1\" 200 -\n",
      "127.0.0.1 - - [03/Jul/2019 14:58:03] \"GET /LDAvis.css HTTP/1.1\" 200 -\n",
      "127.0.0.1 - - [03/Jul/2019 14:58:03] \"GET /d3.js HTTP/1.1\" 200 -\n",
      "127.0.0.1 - - [03/Jul/2019 14:58:03] \"GET /LDAvis.js HTTP/1.1\" 200 -\n"
     ]
    }
   ],
   "source": [
    "pyLDAvis.enable_notebook()\n",
    "vis = pyLDAvis.gensim.prepare(lda_model, corpus, id2word)\n",
    "pyLDAvis.show(vis)"
   ]
  },
  {
   "cell_type": "code",
   "execution_count": null,
   "metadata": {},
   "outputs": [],
   "source": []
  }
 ],
 "metadata": {
  "kernelspec": {
   "display_name": "Python 3",
   "language": "python",
   "name": "python3"
  },
  "language_info": {
   "codemirror_mode": {
    "name": "ipython",
    "version": 3
   },
   "file_extension": ".py",
   "mimetype": "text/x-python",
   "name": "python",
   "nbconvert_exporter": "python",
   "pygments_lexer": "ipython3",
   "version": "3.7.3"
  }
 },
 "nbformat": 4,
 "nbformat_minor": 2
}
