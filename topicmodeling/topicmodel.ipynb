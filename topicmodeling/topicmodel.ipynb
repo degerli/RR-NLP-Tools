{
 "cells": [
  {
   "cell_type": "markdown",
   "metadata": {},
   "source": [
    "# Topic Modeling\n",
    "---\n",
    "#### Imports"
   ]
  },
  {
   "cell_type": "code",
   "execution_count": 155,
   "metadata": {},
   "outputs": [
    {
     "name": "stderr",
     "output_type": "stream",
     "text": [
      "C:\\Users\\thepe\\Anaconda3\\lib\\site-packages\\past\\types\\oldstr.py:33: DeprecationWarning: invalid escape sequence \\d\n",
      "  \"\"\"\n"
     ]
    }
   ],
   "source": [
    "# processing\n",
    "from operator import methodcaller\n",
    "import csv\n",
    "import re\n",
    "import numpy as np\n",
    "import pandas as pd\n",
    "from pprint import pprint\n",
    "\n",
    "# gensim\n",
    "import gensim\n",
    "import gensim.corpora as corpora\n",
    "from gensim.utils import simple_preprocess\n",
    "from gensim.models import CoherenceModel\n",
    "\n",
    "# plotting tools\n",
    "import pyLDAvis\n",
    "import pyLDAvis.gensim\n",
    "import matplotlib.pyplot as plt\n",
    "\n",
    "#sci-kit\n",
    "from sklearn import feature_extraction"
   ]
  },
  {
   "cell_type": "markdown",
   "metadata": {},
   "source": [
    "#### Processing"
   ]
  },
  {
   "cell_type": "code",
   "execution_count": 144,
   "metadata": {
    "scrolled": false
   },
   "outputs": [],
   "source": [
    "blacklist = [t.strip() for t in next(csv.reader(open(\"blacklist.csv\", 'r')))]\n",
    "\n",
    "inPath = \"input.csv\"\n",
    "outPath = \"out.csv\"\n",
    "wordBound = 10\n",
    "charBound = 70\n",
    "\n",
    "inFile = open(inPath, 'r')\n",
    "inReader = csv.reader(inFile)\n",
    "\n",
    "outFile = open(outPath, 'w')\n",
    "outWriter = csv.writer(outFile)\n",
    "\n",
    "\n",
    "docTokens = dict()\n",
    "\n",
    "\n",
    "next(inReader)\n",
    "for inRow in inReader:\n",
    "\n",
    "    charDist = int(inRow[0])\n",
    "    wordDist = int(inRow[1])\n",
    "\n",
    "    if wordDist < wordBound and charDist < charBound:\n",
    "\n",
    "        #predTerm, subTerm, objTerm = map(methodcaller(\"split\", \":\"), inRow[2:5])\n",
    "        #allTerms = predTerm + subTerm + objTerm\n",
    "\n",
    "        subTerm, objTerm = map(methodcaller(\"split\", \":\"), inRow[3:5])\n",
    "        \n",
    "        sub = \"_\".join([t for t in subTerm if re.match(r'[^\\W\\d]*$', t) and not t in blacklist])\n",
    "        obj = \"_\".join([t for t in subTerm if re.match(r'[^\\W\\d]*$', t) and not t in blacklist])\n",
    "        \n",
    "        tokens = list()\n",
    "        if not sub in blacklist and not obj in blacklist and len(sub) > 0 and len(obj) > 0:\n",
    "            tokens = [sub, obj]\n",
    "\n",
    "            docID = inRow[5]\n",
    "\n",
    "            if docID in docTokens:\n",
    "                docTokens[docID] += tokens\n",
    "            else:\n",
    "                docTokens[docID] = tokens\n",
    "docIDs = list(docTokens.keys())\n",
    "data = list(docTokens.values())"
   ]
  },
  {
   "cell_type": "markdown",
   "metadata": {},
   "source": [
    "#### Model"
   ]
  },
  {
   "cell_type": "code",
   "execution_count": 3,
   "metadata": {},
   "outputs": [
    {
     "name": "stdout",
     "output_type": "stream",
     "text": [
      "[(21,\n",
      "  '0.195*\"molecular_hydrogen\" + 0.065*\"one_solution\" + 0.060*\"inversion_dimer\" '\n",
      "  '+ 0.034*\"diffraction_spot\" + 0.034*\"basal_diffraction_spot_intensity\" + '\n",
      "  '0.034*\"cone_series\" + 0.034*\"basal_diffraction_spot\" + '\n",
      "  '0.028*\"piperazine_ring\" + 0.020*\"double_bond\" + 0.020*\"c_double_bond\"'),\n",
      " (36,\n",
      "  '0.124*\"structure_solution\" + 0.101*\"water_molecule\" + '\n",
      "  '0.062*\"molecular_skeleton\" + 0.062*\"water_molecule_involve_n_hydrogen_bond\" '\n",
      "  '+ 0.038*\"vv_atom\" + 0.038*\"molecular_salt\" + 0.038*\"basal_plane\" + '\n",
      "  '0.025*\"octahedral_coordination\" + 0.019*\"title_complete_cation\" + '\n",
      "  '0.019*\"strongly_distort_octahedron\"'),\n",
      " (19,\n",
      "  '0.078*\"kda_protein\" + 0.078*\"da_minus\" + 0.052*\"sluggish_transformation\" + '\n",
      "  '0.052*\"vm_value\" + 0.052*\"obtain_agreement\" + 0.027*\"cuii_atom\" + '\n",
      "  '0.026*\"atp_complex_erk_detail_structural_analysis\" + '\n",
      "  '0.026*\"detail_structural_analysis\" + 0.026*\"dihydroorotate_dehydrogenase\" + '\n",
      "  '0.026*\"putative_dihydroorotate_dehydrogenase\"'),\n",
      " (6,\n",
      "  '0.101*\"important_role\" + 0.068*\"nucleocapsid_protein_interest\" + '\n",
      "  '0.068*\"monomer_position\" + 0.068*\"bi_atom\" + 0.068*\"e_pathway\" + '\n",
      "  '0.034*\"syncytial_virus_nucleocapsid\" + 0.034*\"hrsvn_structure\" + '\n",
      "  '0.034*\"periplasmic_protein\" + 0.034*\"march_function_correction\" + '\n",
      "  '0.023*\"imidazolidine_ring\"'),\n",
      " (15,\n",
      "  '0.125*\"area_detector\" + 0.125*\"great_effort\" + '\n",
      "  '0.063*\"improve_property_novel_material\" + '\n",
      "  '0.063*\"dehydrogenation_process_hydrogenation\" + 0.063*\"material_structure\" '\n",
      "  '+ 0.059*\"molecular_replacement\" + 0.057*\"weak_pi\" + '\n",
      "  '0.043*\"neighbouring_layer\" + 0.035*\"structural_feature\" + '\n",
      "  '0.031*\"dehydrogenation_process\"'),\n",
      " (10,\n",
      "  '0.079*\"methyl_group\" + 0.076*\"methyl_group_h_atom\" + '\n",
      "  '0.056*\"supramolecular_aggregation\" + 0.056*\"incident_neutron_wavelength\" + '\n",
      "  '0.056*\"incident_neutron\" + 0.056*\"scatter_property\" + 0.020*\"ni_atom\" + '\n",
      "  '0.020*\"individual_network\" + 0.018*\"absolute_structure\" + '\n",
      "  '0.010*\"methylsulfinyl_substituent_methyl_group\"'),\n",
      " (12,\n",
      "  '0.074*\"trimeric_crystal\" + 0.055*\"similar_device\" + '\n",
      "  '0.055*\"wavelength_change\" + 0.037*\"individual_experiment_reflection\" + '\n",
      "  '0.037*\"hkl_reflection\" + 0.037*\"conceptually_simple_device\" + '\n",
      "  '0.037*\"different_hkl_reflection\" + 0.037*\"chemical_probe\" + '\n",
      "  '0.037*\"chemical_probe_application\" + 0.037*\"human_coronavirus\"'),\n",
      " (11,\n",
      "  '0.056*\"transition_metal_development\" + 0.056*\"transition_metal\" + '\n",
      "  '0.056*\"structure_different_anion_incorporation\" + 0.056*\"different_anion\" + '\n",
      "  '0.056*\"high_pressure_issue_overcome_technique\" + '\n",
      "  '0.056*\"issue_overcome_technique\" + 0.056*\"structure_different_anion\" + '\n",
      "  '0.056*\"c_atom\" + 0.023*\"methylene_c_atom\" + '\n",
      "  '0.023*\"k_cl_ion_repulsive_parameter\"'),\n",
      " (5,\n",
      "  '0.123*\"possible_caveat_free_diffraction_datum\" + 0.123*\"possible_caveat\" + '\n",
      "  '0.094*\"initial_phasis\" + 0.077*\"protein_crystal\" + '\n",
      "  '0.072*\"crystallization_condition\" + 0.043*\"cdii_atom\" + '\n",
      "  '0.041*\"protein_crystal_amorphous_protein\" + '\n",
      "  '0.033*\"crystal_datum_collection\" + 0.033*\"chloride_anion_water_molecule\" + '\n",
      "  '0.015*\"two_ligand\"'),\n",
      " (14,\n",
      "  '0.084*\"coii_cation\" + 0.081*\"organic_material\" + '\n",
      "  '0.062*\"damage_strain_profile\" + 0.062*\"atmospheric_pressure\" + '\n",
      "  '0.031*\"diffraction_equation\" + '\n",
      "  '0.031*\"debye_fundamental_diffraction_equation\" + '\n",
      "  '0.031*\"fundamental_diffraction_equation\" + '\n",
      "  '0.031*\"material_layer_order_region\" + 0.031*\"material_layer\" + '\n",
      "  '0.031*\"nucleotide_analogue\"'),\n",
      " (39,\n",
      "  '0.059*\"normal_access\" + 0.059*\"refinement_model_build\" + '\n",
      "  '0.030*\"yellow_crystal\" + 0.030*\"special_feature\" + 0.030*\"global_damage\" + '\n",
      "  '0.020*\"viral_rna\" + 0.020*\"preliminary_result\" + '\n",
      "  '0.020*\"cytoplasmic_protein\" + 0.020*\"diffraction_image\" + '\n",
      "  '0.020*\"crystal_datum\"'),\n",
      " (3,\n",
      "  '0.251*\"cyano_group\" + 0.129*\"pyrazole_ring\" + 0.126*\"pyrazole_ring_plane\" + '\n",
      "  '0.126*\"nh_h_atom\" + 0.126*\"pyrazole_ring_nh_h_atom\" + 0.017*\"metal_atom\" + '\n",
      "  '0.014*\"structural_comparison\" + 0.013*\"cui_atom\" + '\n",
      "  '0.013*\"scientific_science\" + 0.013*\"phnz_structural_comparison\"'),\n",
      " (20,\n",
      "  '0.276*\"b_axis\" + 0.276*\"b_axis_ribbon\" + 0.066*\"pi_interaction\" + '\n",
      "  '0.044*\"solvent_water_molecule_nitrate_anion\" + 0.044*\"criii_atom\" + '\n",
      "  '0.019*\"catechol_aromatic_ring\" + 0.015*\"complex_salt_hydrate\" + '\n",
      "  '0.015*\"salt_hydrate\" + 0.009*\"investigate_crystal\" + '\n",
      "  '0.009*\"independent_iodide_anion_complex_cation\"'),\n",
      " (37,\n",
      "  '0.038*\"redesign_construct\" + 0.029*\"relate_analysis\" + '\n",
      "  '0.029*\"structure_datum\" + 0.019*\"mesoporous_silica_matrix\" + '\n",
      "  '0.019*\"initial_crystal\" + '\n",
      "  '0.019*\"mesoporous_silica_matrix_functional_material_type\" + '\n",
      "  '0.019*\"alkoxide_complex\" + 0.019*\"dsd_initial_crystal\" + '\n",
      "  '0.019*\"relatively_rapid_dissolution_crystal_structure_stack_direction\" + '\n",
      "  '0.019*\"relatively_rapid_dissolution\"'),\n",
      " (23,\n",
      "  '0.070*\"active_form\" + 0.053*\"solid_state_laser\" + '\n",
      "  '0.053*\"solid_state_laser_commercial_host\" + 0.053*\"state_laser\" + '\n",
      "  '0.035*\"hydrostatic_pressure_effect\" + 0.035*\"open_question\" + '\n",
      "  '0.035*\"high_pressure_high_temperature\" + 0.035*\"chlorpropamide_polymorph\" + '\n",
      "  '0.035*\"bind_cargo\" + 0.026*\"low_temperature\"'),\n",
      " (16,\n",
      "  '0.222*\"title_compound_asymmetric_unit\" + 0.135*\"adjacent_molecule\" + '\n",
      "  '0.053*\"coordination_polyhedron\" + 0.047*\"octahedral_environment\" + '\n",
      "  '0.018*\"neighbour_oxalate_anion\" + 0.018*\"oxalate_ion\" + '\n",
      "  '0.018*\"oxalate_ion_o_atom\" + 0.015*\"adjacent_mononuclear_unit\" + '\n",
      "  '0.015*\"mononuclear_unit\" + 0.009*\"gauche_torsion\"'),\n",
      " (28,\n",
      "  '0.207*\"asymmetric_unit\" + 0.153*\"molecular_conformation\" + '\n",
      "  '0.048*\"datum_collection\" + 0.032*\"twofold_axis\" + '\n",
      "  '0.028*\"neighbouring_chain\" + 0.024*\"single_oxide_ligand\" + '\n",
      "  '0.024*\"iriii_atom_bridge_single_oxide_ligand\" + 0.021*\"mnii_cation\" + '\n",
      "  '0.019*\"dimeric_unit\" + 0.014*\"chloride_bridge\"'),\n",
      " (18,\n",
      "  '0.453*\"hydrogen_bond\" + 0.147*\"o_hydrogen_bond\" + 0.063*\"inversion_centre\" '\n",
      "  '+ 0.022*\"selectivity_difference_investigate_order\" + '\n",
      "  '0.022*\"selectivity_difference\" + 0.015*\"cdo_crystal\" + '\n",
      "  '0.015*\"optimal_cdo_crystal\" + 0.013*\"intermolecular_hydrogen_bond\" + '\n",
      "  '0.010*\"channel_type\" + 0.010*\"adjacent_zwitterion\"'),\n",
      " (13,\n",
      "  '0.535*\"crystal_structure\" + 0.050*\"case_twin_operation\" + 0.043*\"h_atom\" + '\n",
      "  '0.034*\"o_atom\" + 0.025*\"oligomerization_interface\" + '\n",
      "  '0.025*\"novel_jmjc_domain\" + 0.025*\"crystal_structure_study\" + '\n",
      "  '0.025*\"protein_contain_novel_jmjc_domain\" + 0.025*\"jmjc_domain\" + '\n",
      "  '0.008*\"unligand_complex_enzyme_crystal_structure\"'),\n",
      " (0,\n",
      "  '0.268*\"crystal_pack\" + 0.114*\"aring_resolution\" + 0.082*\"diffraction_datum\" '\n",
      "  '+ 0.046*\"n_hydrogen_bond\" + 0.046*\"benzene_ring\" + 0.043*\"adjacent_layer\" + '\n",
      "  '0.029*\"structural_analysis\" + 0.027*\"geometric_parameter\" + '\n",
      "  '0.018*\"morpholine_ring\" + 0.017*\"n_hydrogen\"')]\n"
     ]
    }
   ],
   "source": [
    "id2word = corpora.Dictionary(data)\n",
    "texts = data\n",
    "\n",
    "corpus = [id2word.doc2bow(text) for text in texts]\n",
    "\n",
    "lda_model = gensim.models.ldamodel.LdaModel(corpus=corpus,\n",
    "                                       id2word=id2word,\n",
    "                                       num_topics=40, \n",
    "                                       random_state=100,\n",
    "                                       update_every=1,\n",
    "                                       chunksize=20,\n",
    "                                       passes=20,\n",
    "                                       alpha='auto',\n",
    "                                       per_word_topics=True)\n",
    "\n",
    "\n",
    "pprint(lda_model.print_topics())\n",
    "doc_lda = lda_model[corpus]\n"
   ]
  },
  {
   "cell_type": "markdown",
   "metadata": {},
   "source": [
    "#### Visualize"
   ]
  },
  {
   "cell_type": "code",
   "execution_count": 156,
   "metadata": {},
   "outputs": [
    {
     "name": "stderr",
     "output_type": "stream",
     "text": [
      "C:\\Users\\thepe\\Anaconda3\\lib\\site-packages\\pyLDAvis\\_prepare.py:257: FutureWarning: Sorting because non-concatenation axis is not aligned. A future version\n",
      "of pandas will change to not sort by default.\n",
      "\n",
      "To accept the future behavior, pass 'sort=False'.\n",
      "\n",
      "To retain the current behavior and silence the warning, pass 'sort=True'.\n",
      "\n",
      "  return pd.concat([default_term_info] + list(topic_dfs))\n"
     ]
    },
    {
     "name": "stdout",
     "output_type": "stream",
     "text": [
      "\n",
      "Note: if you're in the IPython notebook, pyLDAvis.show() is not the best command\n",
      "      to use. Consider using pyLDAvis.display(), or pyLDAvis.enable_notebook().\n",
      "      See more information at http://pyLDAvis.github.io/quickstart.html .\n",
      "\n",
      "You must interrupt the kernel to end this command\n",
      "\n",
      "Serving to http://127.0.0.1:8889/    [Ctrl-C to exit]\n"
     ]
    },
    {
     "name": "stderr",
     "output_type": "stream",
     "text": [
      "127.0.0.1 - - [03/Jul/2019 22:08:27] \"GET / HTTP/1.1\" 200 -\n",
      "127.0.0.1 - - [03/Jul/2019 22:08:27] \"GET /LDAvis.css HTTP/1.1\" 200 -\n",
      "127.0.0.1 - - [03/Jul/2019 22:08:27] \"GET /d3.js HTTP/1.1\" 200 -\n",
      "127.0.0.1 - - [03/Jul/2019 22:08:27] \"GET /LDAvis.js HTTP/1.1\" 200 -\n",
      "127.0.0.1 - - [03/Jul/2019 22:08:27] code 404, message Not Found\n",
      "127.0.0.1 - - [03/Jul/2019 22:08:27] \"GET /favicon.ico HTTP/1.1\" 404 -\n"
     ]
    },
    {
     "name": "stdout",
     "output_type": "stream",
     "text": [
      "\n",
      "stopping Server...\n"
     ]
    }
   ],
   "source": [
    "pyLDAvis.enable_notebook()\n",
    "vis = pyLDAvis.gensim.prepare(lda_model, corpus, id2word)\n",
    "pyLDAvis.show(vis)"
   ]
  },
  {
   "cell_type": "code",
   "execution_count": 139,
   "metadata": {},
   "outputs": [
    {
     "name": "stdout",
     "output_type": "stream",
     "text": [
      "(923, 2200)\n"
     ]
    }
   ],
   "source": [
    "\n",
    "from sklearn.feature_extraction.text import TfidfVectorizer\n",
    "\n",
    "newDocs = list()\n",
    "for doc in data:\n",
    "    newDocs.append(\" \".join(doc))\n",
    "\n",
    "\n",
    "#define vectorizer parameters\n",
    "tfidf_vectorizer = TfidfVectorizer(max_df=0.05, max_features=200000,\n",
    "                                 min_df=0.000, stop_words='english',\n",
    "                                 use_idf=True, tokenizer=None, ngram_range=(1, 1))\n",
    "\n",
    "tfidf_matrix = tfidf_vectorizer.fit_transform(newDocs) #fit the vectorizer to synopses\n",
    "\n",
    "print(tfidf_matrix.shape)"
   ]
  },
  {
   "cell_type": "code",
   "execution_count": 140,
   "metadata": {},
   "outputs": [],
   "source": [
    "terms = tfidf_vectorizer.get_feature_names()\n",
    "\n",
    "from sklearn.metrics.pairwise import cosine_similarity\n",
    "dist = 1 - cosine_similarity(tfidf_matrix)"
   ]
  },
  {
   "cell_type": "code",
   "execution_count": 161,
   "metadata": {},
   "outputs": [
    {
     "name": "stdout",
     "output_type": "stream",
     "text": [
      "Wall time: 342 ms\n"
     ]
    }
   ],
   "source": [
    "from sklearn.cluster import KMeans\n",
    "\n",
    "num_clusters = 20\n",
    "\n",
    "km = KMeans(n_clusters=num_clusters)\n",
    "\n",
    "%time km.fit(tfidf_matrix)\n",
    "\n",
    "clusters = km.labels_.tolist()"
   ]
  },
  {
   "cell_type": "code",
   "execution_count": 183,
   "metadata": {},
   "outputs": [],
   "source": [
    "import sys\n",
    "import urllib.request\n",
    "from urllib.error import HTTPError\n",
    "\n",
    "\n",
    "BASE_URL = 'http://dx.doi.org/'\n",
    "\n",
    "def getTitle(doi):\n",
    "    url = BASE_URL + doi\n",
    "    req = urllib.request.Request(url)\n",
    "    req.add_header('Accept', 'application/x-bibtex')\n",
    "    try:\n",
    "        with urllib.request.urlopen(req) as f:\n",
    "            bibtex = f.read().decode()\n",
    "        start = bibtex.find(\"title = {\")\n",
    "        end = bibtex.find(\"},\", start)\n",
    "        return bibtex[start + 9:end]\n",
    "        \n",
    "        \n",
    "    except HTTPError as e:\n",
    "        if e.code == 404:\n",
    "            return('DOI not found.')\n",
    "        else:\n",
    "            return('Service unavailable.')"
   ]
  },
  {
   "cell_type": "code",
   "execution_count": 162,
   "metadata": {},
   "outputs": [
    {
     "name": "stdout",
     "output_type": "stream",
     "text": [
      "[7, 7, 7, 7, 7, 7, 7, 7, 13, 1, 7, 1, 7, 7, 7, 7, 7, 7, 7, 7, 7, 7, 7, 7, 1, 7, 7, 7, 7, 7, 7, 7, 7, 7, 7, 1, 7, 7, 7, 7, 1, 7, 7, 1, 7, 19, 12, 7, 7, 7, 1, 7, 7, 7, 7, 7, 1, 7, 9, 1, 7, 1, 1, 7, 7, 1, 7, 7, 7, 3, 7, 7, 7, 7, 7, 7, 7, 7, 7, 7, 7, 7, 7, 7, 7, 16, 1, 7, 0, 1, 7, 7, 7, 6, 7, 1, 3, 7, 17, 7, 7, 7, 7, 7, 9, 7, 1, 2, 7, 7, 7, 1, 7, 10, 1, 7, 7, 7, 1, 7, 7, 11, 7, 1, 7, 6, 7, 7, 0, 8, 7, 1, 1, 7, 7, 7, 1, 7, 10, 7, 7, 1, 7, 1, 7, 1, 7, 7, 7, 7, 7, 7, 7, 10, 7, 1, 7, 7, 19, 7, 7, 1, 14, 7, 1, 7, 1, 7, 7, 7, 7, 7, 1, 16, 7, 7, 7, 7, 7, 7, 7, 1, 7, 1, 7, 1, 1, 7, 7, 1, 1, 7, 7, 13, 7, 7, 7, 1, 7, 1, 1, 1, 7, 7, 1, 9, 7, 7, 7, 7, 7, 7, 7, 7, 7, 7, 1, 7, 7, 7, 7, 7, 1, 1, 7, 7, 7, 1, 7, 7, 7, 7, 7, 7, 7, 7, 7, 1, 7, 9, 7, 7, 7, 7, 7, 7, 7, 7, 7, 5, 7, 7, 1, 7, 7, 7, 7, 1, 9, 7, 7, 5, 7, 7, 7, 7, 7, 7, 0, 1, 14, 7, 7, 0, 1, 7, 1, 1, 7, 7, 7, 7, 7, 7, 7, 7, 7, 1, 7, 14, 7, 18, 7, 1, 1, 1, 7, 1, 1, 0, 1, 7, 7, 7, 7, 7, 7, 0, 1, 1, 7, 7, 7, 7, 7, 16, 7, 7, 1, 7, 1, 7, 7, 7, 7, 7, 7, 7, 7, 5, 7, 7, 1, 7, 7, 1, 1, 7, 7, 7, 7, 7, 7, 1, 1, 10, 7, 7, 7, 7, 7, 7, 19, 7, 7, 7, 7, 7, 1, 1, 11, 7, 7, 7, 7, 7, 9, 8, 7, 7, 7, 7, 7, 7, 7, 7, 7, 7, 2, 7, 7, 7, 7, 7, 7, 1, 7, 7, 14, 7, 8, 1, 2, 1, 7, 11, 2, 7, 7, 2, 3, 7, 14, 7, 17, 7, 7, 7, 15, 7, 7, 1, 7, 7, 7, 11, 7, 7, 7, 7, 7, 7, 9, 7, 7, 7, 1, 7, 2, 7, 7, 7, 1, 6, 7, 7, 2, 7, 7, 7, 7, 7, 9, 5, 7, 1, 7, 7, 7, 7, 7, 2, 6, 7, 7, 7, 1, 7, 7, 7, 7, 7, 7, 2, 7, 7, 7, 7, 2, 14, 7, 7, 7, 7, 7, 14, 7, 7, 1, 7, 7, 7, 7, 7, 7, 7, 7, 7, 7, 7, 7, 4, 2, 10, 17, 7, 7, 7, 7, 7, 2, 5, 2, 7, 7, 7, 9, 8, 10, 7, 7, 1, 7, 14, 7, 7, 7, 7, 7, 2, 7, 7, 1, 1, 7, 7, 15, 7, 7, 1, 7, 2, 7, 1, 7, 7, 7, 7, 7, 7, 6, 2, 7, 7, 7, 7, 7, 1, 7, 10, 17, 1, 14, 7, 7, 7, 7, 7, 5, 11, 7, 7, 7, 7, 7, 1, 7, 7, 7, 7, 7, 7, 7, 8, 7, 7, 7, 7, 7, 7, 7, 7, 7, 11, 7, 14, 7, 7, 7, 1, 7, 7, 7, 7, 7, 7, 7, 7, 7, 6, 7, 1, 7, 7, 7, 9, 1, 2, 2, 6, 7, 7, 7, 9, 9, 2, 1, 7, 5, 10, 9, 7, 14, 17, 7, 9, 2, 7, 2, 7, 7, 7, 17, 10, 7, 7, 7, 15, 7, 11, 7, 7, 14, 9, 7, 17, 15, 7, 11, 7, 5, 3, 7, 6, 7, 9, 7, 7, 7, 9, 2, 7, 4, 1, 7, 7, 7, 7, 7, 15, 9, 1, 7, 3, 7, 7, 7, 7, 7, 2, 1, 2, 7, 6, 7, 1, 1, 1, 7, 7, 7, 2, 10, 7, 7, 7, 4, 7, 9, 6, 7, 1, 7, 1, 7, 11, 7, 9, 1, 11, 4, 1, 7, 2, 17, 3, 7, 1, 1, 9, 1, 7, 7, 1, 4, 1, 7, 2, 7, 7, 7, 7, 7, 7, 1, 7, 7, 15, 7, 2, 7, 7, 2, 7, 7, 7, 10, 7, 7, 7, 1, 7, 2, 19, 7, 1, 7, 7, 7, 1, 1, 7, 19, 7, 7, 7, 7, 7, 13, 7, 6, 7, 7, 7, 10, 5, 7, 7, 9, 1, 7, 3, 7, 7, 7, 7, 7, 7, 7, 1, 7, 7, 7, 7, 1, 7, 7, 7, 7, 14, 7, 5, 7, 10, 1, 7, 7, 7, 7, 0, 7, 7, 1, 7, 7, 7, 1, 7, 0, 7, 7, 7, 0, 7, 1, 7, 7, 7, 7, 7, 7, 7, 7, 1, 7, 4, 7, 7, 7, 7, 7, 2, 7, 7, 7, 0, 7, 7, 7, 7, 7, 7, 7, 1, 1, 1, 1, 7, 1, 16, 1, 1, 7, 7, 7, 1, 7, 1, 7, 7, 1, 7, 7, 1, 7, 1, 7, 7, 7, 7, 7, 7, 7, 1, 7, 7, 7, 7, 1, 1, 7, 1, 7, 1, 7, 1, 7, 7, 1, 7, 7, 7, 7, 7, 7, 7, 7, 7, 7, 7, 7, 7, 7, 7, 7, 1, 17, 7, 7, 7, 7, 1, 14]\n"
     ]
    }
   ],
   "source": [
    "from sklearn.externals import joblib\n",
    "\n",
    "#uncomment the below to save your model \n",
    "#since I've already run my model I am loading from the pickle\n",
    "\n",
    "joblib.dump(km,  'doc_cluster.pkl')\n",
    "\n",
    "km = joblib.load('doc_cluster.pkl')\n",
    "clusters = km.labels_.tolist()\n",
    "\n",
    "\n",
    "print(clusters)"
   ]
  },
  {
   "cell_type": "code",
   "execution_count": 163,
   "metadata": {},
   "outputs": [
    {
     "data": {
      "text/plain": [
       "7     614\n",
       "1     141\n",
       "2      31\n",
       "9      22\n",
       "14     14\n",
       "10     13\n",
       "6      11\n",
       "5      10\n",
       "0      10\n",
       "11     10\n",
       "17      9\n",
       "3       7\n",
       "15      6\n",
       "4       6\n",
       "8       5\n",
       "19      5\n",
       "16      4\n",
       "13      3\n",
       "18      1\n",
       "12      1\n",
       "Name: cluster, dtype: int64"
      ]
     },
     "execution_count": 163,
     "metadata": {},
     "output_type": "execute_result"
    }
   ],
   "source": [
    "documents = {'docID': docIDs, 'text': data, 'cluster': clusters }\n",
    "\n",
    "frame = pd.DataFrame(documents, index = [clusters] , columns = ['docID','cluster'])\n",
    "\n",
    "frame['cluster'].value_counts() #number of films per cluster (clusters from 0 to 4)\n",
    "\n"
   ]
  },
  {
   "cell_type": "code",
   "execution_count": null,
   "metadata": {
    "scrolled": false
   },
   "outputs": [
    {
     "name": "stdout",
     "output_type": "stream",
     "text": [
      "Top terms per cluster:\n",
      "\n",
      "Cluster 0 docIDs:"
     ]
    },
    {
     "name": "stderr",
     "output_type": "stream",
     "text": [
      "C:\\Users\\thepe\\Anaconda3\\lib\\site-packages\\ipykernel_launcher.py:13: DeprecationWarning: \n",
      ".ix is deprecated. Please use\n",
      ".loc for label based indexing or\n",
      ".iloc for positional indexing\n",
      "\n",
      "See the documentation here:\n",
      "http://pandas.pydata.org/pandas-docs/stable/indexing.html#ix-indexer-is-deprecated\n",
      "  del sys.path[0]\n"
     ]
    },
    {
     "name": "stdout",
     "output_type": "stream",
     "text": [
      "['Di-2-pyridyl ketonep-aminobenzoylhydrazone hydrate', 'A novel metallo-organically templated pentaborate: acetato[N,N$\\\\prime$-bis(2-aminoethyl)ethane-1,2-diamine]zinc({II}) 4,4$\\\\prime$,6,6$\\\\prime$-tetrahydroxy-2,2$\\\\prime$-spirobi[cyclotriboroxane](1-)', 'Crystal structure of $\\\\upbeta$-luffin, a ribosome-inactivating protein, at 2.0{\\\\hspace{0.25em}}{\\\\{AA}} resolution', 'Gene design, expression, crystallization and preliminary diffraction analysis of two isolectins from the {fungusCoprinus} cinereus: a model for studying functional diversification of galectins in the same organism and their evolutionary pathways', 'Structural basis of high-order oligomerization of the cullin-3 adaptor {SPOP}', 'Preliminary crystallographic characterization of anin vitroevolved biotin-binding {RNA} pseudoknot', 'Purification and crystallization of Cor a 9, a major hazelnut allergen', 'Cloning, expression, purification and crystallization of an endotoxin-biosynthesis enzyme {fromNeisseria} meningitidis', 'Serial femtosecond X-ray diffraction of 30S ribosomal subunit microcrystals in liquid suspension at ambient temperature using an X-ray free-electron laser', 'Crystallographic analysis of {NosA']\n",
      "\n",
      "\n",
      "Cluster 1 docIDs:"
     ]
    },
    {
     "name": "stderr",
     "output_type": "stream",
     "text": [
      "C:\\Users\\thepe\\Anaconda3\\lib\\site-packages\\ipykernel_launcher.py:13: DeprecationWarning: \n",
      ".ix is deprecated. Please use\n",
      ".loc for label based indexing or\n",
      ".iloc for positional indexing\n",
      "\n",
      "See the documentation here:\n",
      "http://pandas.pydata.org/pandas-docs/stable/indexing.html#ix-indexer-is-deprecated\n",
      "  del sys.path[0]\n"
     ]
    },
    {
     "name": "stdout",
     "output_type": "stream",
     "text": [
      "['Polarised neutron investigation of iron composite nanoparticles', 'Accuracy in Rietveld quantitative phase analysis of Portland cements', 'Combined synchrotron X-ray and image-correlation analyses of biaxially deformed W/Cu nanocomposite thin films on Kapton', 'A dynamic study of the crystallization of polyethylene from the melt', 'A new method to determine the exact values of the fiber identity period of polyamides', 'Whole-powder-pattern fitting without reference to a structural model: application to X-ray powder diffraction data', 'Structure refinement of {GeO}2 polymorphs at high pressures and temperatures by energy-dispersive spectra of powder diffraction', 'Relation between the optical properties and structure of {KLiSO}4in the room-temperature phase', 'The structure of pumice by neutron diffraction', 'An open-flow cryogenic cooler for single-crystal diffraction experiments', 'Determination of the Cation Distribution in {NiFe}2({PO}4)2 using Resonant X-ray and Neutron Powder Diffraction', 'Response to Morawiec{\\\\textquotesingle}s (1998) comment on Determination of a mean orientation from a cloud of orientations. Application to electron back-scattering pattern measurements', 'Chlorobis(triphenylphosphine)nickel(I)', '{KHCoP}2O7$\\\\cdotp$2H2O: a novel acidic pyrophosphate', 'A novel bridged asymmetric binuclear manganese({II}) complex with {DTPB} [{DTPB} is 1,1,4,7,7-pentakis(1H-benzimidazol-2-ylmethyl)-1,4,7-triazaheptane]', '2-Acetamido-N-benzyl-2-(methoxyamino)acetamides: functionalized amino acid anticonvulsants', 'Dihydrobis(methylamine)borate triiodide', '2,4,6-Trimethyl-N-nitroaniline', 'Poly[[pentaaquasulfato-$\\\\upmu$4-(R,R)-tartrato-dicadmium({II})] trihydrate]', 'A new type of mixed anionic framework in microporous rubidium copper vanadyl(V) phosphate, Rb2Cu({VO}2)2({PO}4)2', 'N-(3-tert-Butyl-1-phenyl-1H-pyrazol-5-yl)-N-(4-methoxybenzyl)acetamide: a hydrogen-bonded chain of centrosymmetric rings', 'Constructor graph description of the hydrogen-bonding supramolecular assembly in two ionic compounds: 2-(pyrazol-1-yl)ethylammonium chloride and diaquadichloridobis(2-hydroxyethylammonium)cobalt({II}) dichloride', 'Gadolinium ytterbium trifluoride, Gd0.81Yb0.19F3', 'Br...O contacts and $\\\\uppi${\\\\textendash}$\\\\uppi$ stacking dominate the packing in methyl 4-bromo-3,5-dimethoxybenzoate', 'A mixed chloride/trifluoromethanesulfonate ligand species in a ruthenium({II}) complex', 'Bis(1,2-benzenediolato)dimethanolgermanium({IV})', 'The Antifungal Agent 1-[2-(4-Chlorobenzylamino)benzyl]-1H-imidazole', 'Magnesium Sulfate Tetraurea Monohydrate', 'Bis[di-2-pyridylmethanediolato(1{\\\\textendash})-N,O,N{\\\\textquotesingle}]cobalt({III}) Perchlorate Trihydrate', 'H2N({CH}2)2NH3$\\\\mathplus$.[Mn$\\\\lbrace$H2N({CH}2)2NH2$\\\\rbrace$3]2$\\\\mathplus$.[Sb Se4]3-', '2-(4-Nitroanilino)-2-phenylethanol', 'A model for diffraction from {MCM}-41 materials', 'Forbidden X-ray wavefields of three-beam Bragg reflections from thick crystals', 'An integer programming approach to the phase problem for centrosymmetric structures', 'Topological density of nets: a direct calculation', 'Orthorhombic sphere packings. {II}. Bivariant lattice complexes', 'Phase stability in ferroelectric bismuth titanate: a first-principles study', 'Exact joint probability distribution for centrosymmetric structure factors. Derivation and application to the $\\\\{upPhi}$1relationship in the space {groupPgif}\"$\\\\greater${\\\\textbackslash}overline$\\\\lbrace$1$\\\\rbrace$', 'Triplet phase invariants from single isomorphous replacement or one-wavelength anomalous dispersion data, given heavy-atom information', 'Reflection and refraction of fast electrons at solid/solid interfaces', 'Bragg{\\\\textquotesingle}s law with refraction', 'Combining direct methods with isomorphous replacement or anomalous scattering data. {VII}.Ab initiophasing of one-wavelength anomalous scattering data from a small protein', 'Structural chemistry of {NaCoPO}4', 'Crystal chemical studies of the 5f-series of elements. I. New structure types', 'X-ray Pendellösung fringes in Darwin reflection', 'Structure of short-range ordered alloys. {II}. Ordered zones in a disordered matrix', 'Neutron diffraction from a {smecticAmonodomain}', 'Structures of feline immunodeficiency virus {dUTP} pyrophosphatase and its nucleotide complexes in three crystal forms', 'Comparison of different crystal forms of 3-dehydroquinase {fromSalmonella} typhiand its implication for the enzyme activity', 'Structure of xylanase Xys1$\\\\{upDelta}$ {fromStreptomyces} halstedii', 'Crystallization and preliminary crystallographic analysis of the circadian clock protein {KaiB} from the thermophilic {cyanobacteriumThermosynechococcus} {elongatusBP}-1', 'Purification, crystallization and preliminary X-ray analysis of an acetylxylan esterase {fromBacillus} pumilus. Erratum', 'The atomic resolution structure of methanol dehydrogenase {fromMethylobacterium} extorquens', 'Suggestive evidence for the involvement of the second calcium and surface loop in interfacial binding: monoclinic and trigonal crystal structures of a quadruple mutant of phospholipase A2', 'The structure of the {PERK} kinase domain suggests the mechanism for its activation', 'Pi sampling: a methodical and flexible approach to initial macromolecular crystallization screening', 'Completion of autobuilt protein models using a database of protein fragments', 'Evolution of vitamin B2biosynthesis: eubacterial {RibG} and fungal Rib2 deaminases', 'Structural basis for the dephosphorylating activity of {PTPRQ} towards phosphatidylinositide substrates', 'Wild-type and E106Q mutant carbonic anhydrase complexed with acetate', 'The decameric structure of bovine pancreatic trypsin inhibitor ({BPTI}) crystallized from thiocyanate at 2.7{\\\\hspace{0.25em}}{\\\\{AA}} resolution', 'Crystallization and characterization of a fragment of pseudouridine synthase {RluC} {fromEscherichia} coli', 'Absorbed dose calculations for macromolecular crystals: improvements to {RADDOSE}', 'Six-reflection {meV}-monochromator for synchrotron radiation', 'The multicrystal monochromators of the {TROIKA} beamline at {ESRF}', 'Unprecedented conformational flexibility revealed in the ligand-binding domains of {theBovicola} ovisecdysone receptor ({EcR}) and ultraspiracle ({USP}) subunits', 'Memprot: a program to model the detergent corona around a membrane protein based on {SEC}{\\\\textendash}{SAXS} data', '3,17-Dioxo-11-fluoroandrosta-4,6-diene', '2-Phenyl-4-(p-toluidinomethylene)-5-oxazolone', '5-Benzo[c]-1,5-naphthyridinium bromide', 'Tetradecaaquatetrasodium hexaaquanickel({II}) decavanadate(V) trihydrate', 'Dimethyl 7-(N,N-dimethylamino)-3-(4-methylbenzoyl)indolizine-1,2-dicarboxylate', 'Redetermination of 1-naphthalenol', '2-Chloro-3,4-dimethoxybenzaldehyde (4-nitrophenyl)hydrazone', 'Cyclohexylammonium picrate', '2-Methoxy-N-[2-(3-thienyl)-1,2,3,4-tetrahydro-1-naphthyl]acetamide', 'Bis(tetraethylammonium) bis[N-(2-mercaptobenzoyl)-1,3-benzothiazole-2-carboxamidato]cobaltate({III}) chloride', 'Erbium dinickel disilicide, {ErNi}2Si2', 'Diethyl 4-iodo-1,22-dioxo-15-(4-pyridylethynyl)-1,20,12,21-tetraazahexacyclo[10.10.2.03,8.010,23.014,20.021,24]tetracosa-3,5,7,14,16,18-hexaene-23,24-dicarboxylate: a molecular clip based on bis(ethoxycarbonyl)glycoluril', 'Triaqua(5-methyl-1H-tetrazolato-$\\\\upkappa$N1)zinc({II}) perchlorate', 'Di-$\\\\upmu$-aqua-bis[(2-amino-4,5-dimethylbenzenesulfonato-$\\\\upkappa$N)aquasilver(I)]', 'N-(1,5-Dimethyl-3-oxo-2-phenyl-2,3-dihydro-1H-pyrazol-4-yl)-2-hydroxybenzamide', 'catena-Poly[[[bis(1H-benzimidazole-$\\\\upkappa$N3)copper({II})]-$\\\\upmu$-3-(4-carboxylatophenoxy)propionato-$\\\\upkappa$2O:O$\\\\prime$]N,N-dimethylformamide solvate pentahydrate]', 'Melaminium sulfate', 'Diammonium bis[(2-aminoacetato-$\\\\upkappa$2N,O)(2,2$\\\\prime$-bipyridine-$\\\\upkappa$2N,N$\\\\prime$)(N,N-dimethylformamide-$\\\\upkappa$O)copper({II})] hexacosaoxidooctamolybdate({VI})', '(E)-N$\\\\prime$-(5-Chloro-2-hydroxybenzylidene)-p-toluenesulfonohydrazide', '2,4-Difluorophenylboronic acid', 'catena-Poly[[bis(2-hydroxy-2-phenylacetato-$\\\\upkappa$2O1,O2)zinc({II})]-$\\\\upmu$-1,2-di-4-pyridylethane-$\\\\upkappa$2N:N$\\\\prime$]', 'Bis(acetato-$\\\\upkappa$2O,O$\\\\prime$)diphenyl(pyridine-$\\\\upkappa$N)tin({IV})', '1,4,5,8-Tetraisopropylanthracene', '4-Chloro-2-methyl-N-(4-methylphenyl)benzenesulfonamide', 'catena-Poly[[[diaquacadmium({II})]bis[$\\\\upmu$-2-(pyridinium-1-yl)butanedioato]-$\\\\upkappa$2O1:O4$\\\\mathsemicolon$$\\\\upkappa$2O4:O1] tetrahydrate], a polymeric chain structure', '(Z)-Methyl 3-(2,4-dichlorophenyl)-2-[(2-formylphenoxy)methyl]acrylate', '4-Chloro-N-(2,5-dimethylphenyl)-2-methylbenzenesulfonamide', 'Methyl pyrido[2,3-b]pyrazine-3-carboxylate', 'Bis(benzyltrimethylammonium) di-$\\\\upmu$-bromido-bis[dibromidomercurate({II})]', '5-Bromo-3-cyclopentylsulfinyl-2,7-dimethyl-1-benzofuran', '2-[(Adamantan-1-ylamino)methyl]phenol', '2-Amino-4-(2-chlorophenyl)-7,7-dimethyl-5-oxo-5,6,7,8-tetrahydro-4H-chromene-3-carbonitrile hemihydrate', 'Bis[4-amino-N-(pyrimidin-2-yl-$\\\\upkappa$N)benzenesulfonamidato-$\\\\upkappa$N](4,4$\\\\prime$-dimethyl-2,2$\\\\prime$-bipyridine-$\\\\upkappa$2N,N$\\\\prime$)cadmium dimethylformamide disolvate', '2-Methylsulfanyl-5,6-dihydro-2H-1,3-dithiolo[4,5-b][1,4]dioxin-2-ium tetrafluoroborate', 'Bis(4-methyl-N-$\\\\lbrace$(2Z,4E)-4-[(4-methylphenyl)imino]pent-2-en-2-yl$\\\\rbrace$anilinido)zinc', 'A redetermination of the structure of poly[[$\\\\upmu$4-(R)-2-ammonio-3-sulfonatopropanoato]aquasodium], originally reported as poly[[$\\\\upmu$7-L-cysteato(2-)]disodium]', '3,5-Dimethyl-1-(4-nitrobenzyl)pyridinium bis(benzene-1,2-dithiolato-$\\\\upkappa$2S,S$\\\\prime$)nickelate({III})', '$\\\\lbrace$2-[(2-Aminocyclohexyl)iminomethyl]phenolato$\\\\rbrace$dioxidovanadium(V)', '2-Chlorobenzohydrazide', '6-Methylideneandrost-4-ene-3,17-dione', '1-(Adamantan-1-ylcarbonyl)-3-(2,6-difluoro-4-hydroxyphenyl)thiourea', '3,3$\\\\prime$-(Ethane-1,2-diyl)bis(6-methoxy-3,4-dihydro-2H-1,3-benzoxazine) monohydrate', '2-(2H-Indazol-2-yl)-1-phenylethanone', '2-(4-Oxo-3-phenyl-1,3-thiazolidin-2-ylidene)malononitrile', '1,3-Dimethyl-1H-1,2,3-benzotriazol-3-ium tetrachloridoferrate({III})', 'Definitive crystal structure of 1,1$\\\\prime$-bis[1,2-dicarba-closo-dodecaborane(11)]', 'Monochromatic computed microtomography using laboratory and synchrotron sources and X-ray fluorescence analysis for comprehensive analysis of structural changes in bones', 'Growth and annealing kinetics of $\\\\upalpha$-sexithiophene and fullerene C60mixed films', 'Expression, crystallization and preliminary X-ray analysis of the periplasmic stress sensory protein {RseB} {fromEscherichia} coli', 'Purification, crystallization and preliminary X-ray crystallographic analysis of 23S {RNA} m2G2445 methyltransferase {RlmL} {fromEscherichia} coli', 'Structures of respiratory syncytial virus nucleocapsid protein from two crystal forms: details of potential packing interactions in the native helical form', 'Crystallization and preliminary crystallographic analysis of a viral {RNA}-silencing suppressor encoded {byWuhan} nodavirus', 'Ionothermal synthesis and crystal structure of a new organic{\\\\textendash}inorganic hybrid compound:catena-poly[bis(1-ethyl-3-methylimidazolium) [hepta-$\\\\upmu$-bromido-pentacuprate(I)]]', '{PDF} calculations from {STOE} {STADI} P Ag K$\\\\upalpha$1 low- and high-temperature data', 'X-ray powder diffraction use in forensic analysis in Brazilian context', 'Crystal wafer as a wavelength monitor', 'Commissioning the Neutron Laue Diffractometer in Berlin', '{NSLS}-{II} {MX} beamlines {FMX} for micro-crystallography {\\\\&} {AMX} for highly automated {MX}', 'Inhibitor Binding Mode Differences Within the {AGC} Subfamily', 'Structure factor measurement by 3-beam convergent beam electron diffraction', 'Validation of carbohydrate structures: not just nomenclature', 'Dynamics of nanoparticles in elongated rubber investigated with heterodyne {XPCS}', 'The crystallochemical role of malonate ions in coordination polymers', 'Crystal structure of a new lithium iron vanadate', 'Bridging the gaps$\\\\mathsemicolon$ imaging of catalytic materials under reaction conditions', 'High-pressure Synthesis of New layered Oxyhalide Perovskites', 'Anisotropic crystal growth of carbamazepine form I and a hydroxysulfonamide', 'Photochromism change by conformation control in macrocyclic boronic ester cavity', 'Stable Compound of Helium and Sodium at High Pressure', 'Adventures in Phasing: Flavivirus {NS}1 solved by low resolution native S-{SAD}', 'Weak interaction of an inhibitor in the 20S proteasome', '{SAXS', 'Crystal structure of 2-[(3aS,6R)-3,3,6-trimethyl-3,3a,4,5,6,7-hexahydro-2H-indazol-2-yl]thiazol-4(5H)-one', '3,5-Di-tert-butyl-1H-pyrazole-4-carbonitrile']\n",
      "\n",
      "\n",
      "Cluster 2 docIDs:"
     ]
    },
    {
     "name": "stderr",
     "output_type": "stream",
     "text": [
      "C:\\Users\\thepe\\Anaconda3\\lib\\site-packages\\ipykernel_launcher.py:13: DeprecationWarning: \n",
      ".ix is deprecated. Please use\n",
      ".loc for label based indexing or\n",
      ".iloc for positional indexing\n",
      "\n",
      "See the documentation here:\n",
      "http://pandas.pydata.org/pandas-docs/stable/indexing.html#ix-indexer-is-deprecated\n",
      "  del sys.path[0]\n"
     ]
    },
    {
     "name": "stdout",
     "output_type": "stream",
     "text": [
      "['Do C{\\\\textemdash}H...O and C{\\\\textemdash}H...$\\\\uppi$ interactions help to stabilize a non-centrosymmetric structure for racemic 2,3-dibromo-1,3-diphenylpropan-1-one?', '21$\\\\upalpha$-Fluoro-7-nor-12,13,15,16-tetrahydrovouacapane-17$\\\\upbeta$,21$\\\\upalpha$-lactone', 'N$\\\\prime$-(Benzenesulfonyl)-4-methylthiazole-5-carbohydrazide', '2,5,7-Trinitro-2,5,7,9-tetraazabicyclo[4.3.0]nonan-8-one', '2-Amino-5-chloro-1,3-benzoxazole', '(E)-2-Chlorobenzaldehyde oxime', '1-(5,6-Dimethyl-1,2,4-triazin-3-yl)-2-methyl-1H-benzimidazole', '2-(2-Pyridylmethylammonio)ethanesulfonate dihydrate', '9-(Bromoacetyl)anthracene', 'Bis[iodidobis(1,10-phenanthroline-$\\\\upkappa$2N,N$\\\\prime$)copper({II})] tetraiodidocadmate({II})', 'Bis[$\\\\upmu$-5-(pyrazin-2-yl)tetrazol-1-ido]bis[azido(2,2$\\\\prime$-bipyridine)copper({II})]', 'N,N,N$\\\\prime$,N$\\\\prime$-Tetraphenylnaphthalene-1,4-dicarboxamide', '(E)-1,3-Benzodioxole-5-carbaldehyde 4-nitrophenylhydrazone', '1,t-3-Dimethyl-r-2,c-6-diphenylpiperidin-c-4-yl acetate', 'N-(2-Chloro-2-nitro-1-phenylpropyl)-4-methylbenzenesulfonamide', 'N$\\\\prime$-(4-Bromobenzylidene)isonicotinohydrazide', 'Bis[(2-aminophenyl)methanol-$\\\\upkappa$2N,O]bis(nitrato-$\\\\upkappa$O)cobalt({II})', '$\\\\lbrace$3-Methyl-2-[(1-oxido-2-naphthyl)methylideneamino-$\\\\upkappa$2O,N]butanoato-$\\\\upkappa$O$\\\\rbrace$(1H-pyrazole-$\\\\upkappa$N2)nickel({II})', 'Aqua(hippurato)bis(1,10-phenanthroline)cobalt({II}) nitrate monohydrate', 'Benzene-1,3-diammonium bis(pyridine-2,6-dicarboxylato)nickelate({II}) pentahydrate', '2,2-Dichloro-1-(4-methylphenyl)ethanone', 'N$\\\\prime$-[(E)-1-(4-Bromophenyl)ethylidene]-4-hydroxy-2-methyl-1,1-dioxo-2H-1,2-benzothiazine-3-carbohydrazide', 'Tris(3-methylanilinium) tetrachloridozincate chloride hemihydrate', '(Diaminomethylidene)sulfonium chloride{\\\\textendash}thiourea (3/2)', 'Poly[piperazine-1,4-diium [$\\\\upmu$4-chlorido-$\\\\upmu$3-chlorido-tri-$\\\\upmu$2-chlorido-chloridodicadmate({II})] monohydrate]', '1-(Ferrocen-1-ylmethyl)-3-methylimidazol-3-ium hexafluoridophosphate', '4-[(2$\\\\prime$-Cyanobiphenyl-4-yl)methyl]morpholin-4-ium hexafluoridophosphate', 'Methyl 2-$\\\\lbrace$6-[(1-methoxy-1-oxopropan-2-yl)aminocarbonyl]pyridine-2-carboxamido$\\\\rbrace$propanoate', '(1$\\\\prime$S,6$\\\\prime$S,8$\\\\prime$S,9$\\\\prime$R)-9$\\\\prime$-Bromo-12$\\\\prime$-oxaspiro[1,3-dioxolane-2,4$\\\\prime$-tricyclo[6.3.1.01,6]dodecane]', '4-Methoxy-2-$\\\\lbrace$(E)-[(thiophen-2-yl)methylimino]methyl$\\\\rbrace$phenol', 'Structure of nucleoside diphosphate kinase from pacific shrimp (Litopenaeus vannamei) in binary complexes with purine and pyrimidine nucleoside diphosphates']\n",
      "\n",
      "\n",
      "Cluster 3 docIDs:"
     ]
    },
    {
     "name": "stderr",
     "output_type": "stream",
     "text": [
      "C:\\Users\\thepe\\Anaconda3\\lib\\site-packages\\ipykernel_launcher.py:13: DeprecationWarning: \n",
      ".ix is deprecated. Please use\n",
      ".loc for label based indexing or\n",
      ".iloc for positional indexing\n",
      "\n",
      "See the documentation here:\n",
      "http://pandas.pydata.org/pandas-docs/stable/indexing.html#ix-indexer-is-deprecated\n",
      "  del sys.path[0]\n"
     ]
    },
    {
     "name": "stdout",
     "output_type": "stream",
     "text": [
      "['Asperuloside monohydrate', 'Hydrogen-bonding and C{\\\\textemdash}H...$\\\\uppi$ interactions in 1,7-bis(4-hydroxy-3-methoxyphenyl)heptane-3,5-dione (tetrahydrocurcumin)', 'N-(9-Anthrylmethyl)propylaminium diphenylphosphinate monohydrate', '1,4-Dibromonaphthalene-2,3-diol', '1,3-Bis(2-chlorophenyl)thiourea: a monoclinic polymorph', 'N-(4-Chlorobutanoyl)-N$\\\\prime$-[2-(trifluoromethyl)phenyl]thiourea', 'Crystal structure of 2-(diphenylphosphanyl)phenyl 4-(hydroxymethyl)benzoate']\n",
      "\n",
      "\n",
      "Cluster 4 docIDs:"
     ]
    },
    {
     "name": "stderr",
     "output_type": "stream",
     "text": [
      "C:\\Users\\thepe\\Anaconda3\\lib\\site-packages\\ipykernel_launcher.py:13: DeprecationWarning: \n",
      ".ix is deprecated. Please use\n",
      ".loc for label based indexing or\n",
      ".iloc for positional indexing\n",
      "\n",
      "See the documentation here:\n",
      "http://pandas.pydata.org/pandas-docs/stable/indexing.html#ix-indexer-is-deprecated\n",
      "  del sys.path[0]\n"
     ]
    },
    {
     "name": "stdout",
     "output_type": "stream",
     "text": [
      "['1-(1H-1,3-Benzimidazol-2-yl)guanidinium dihydrogendodecamolybdophosphate{\\\\textendash}methanol{\\\\textendash}water (1/2.5/4)', 'Bupropion hydrobromide propanol hemisolvate', '$\\\\lbrace$4-Bromo-2-[(5-chloro-2-oxidophenyl)iminomethyl]phenolato-$\\\\upkappa$3O,N,O$\\\\prime$$\\\\rbrace$(methanol-$\\\\upkappa$O)(methanolato-$\\\\upkappa$O)oxidovanadium(V)', 'Bis[N-(2-hydroxyethyl)-N-methyldithiocarbamato-$\\\\upkappa$S][2,4,6-tris(pyridin-2-yl)-1,3,5-triazine-$\\\\upkappa$3N1,N2,N6]zinc dioxane sesquisolvate', '2-Vinylpyridine{\\\\textendash}tris(pentafluorophenyl)borane hexane monosolvate', 'Twofac-tricarbonylrhenium(I) azadipyrromethene ({ADPM}) complexes: ligand-substitution effect on crystal structure']\n",
      "\n",
      "\n",
      "Cluster 5 docIDs:"
     ]
    },
    {
     "name": "stderr",
     "output_type": "stream",
     "text": [
      "C:\\Users\\thepe\\Anaconda3\\lib\\site-packages\\ipykernel_launcher.py:13: DeprecationWarning: \n",
      ".ix is deprecated. Please use\n",
      ".loc for label based indexing or\n",
      ".iloc for positional indexing\n",
      "\n",
      "See the documentation here:\n",
      "http://pandas.pydata.org/pandas-docs/stable/indexing.html#ix-indexer-is-deprecated\n",
      "  del sys.path[0]\n"
     ]
    },
    {
     "name": "stdout",
     "output_type": "stream",
     "text": [
      "['The negative-quartet relation from electron-density considerations', 'Separating nucleation and growth in protein crystallization using dynamic light scattering', 'Local structure study of dilute Er in {III}{\\\\textendash}V semiconductors by fluorescence {EXAFS}', 'Ethyl 2-acetyl-3-anilinobutanoate', '(Acetonitrile-$\\\\upkappa$N)(3-amino-4-methylbenzenesulfonato-$\\\\upkappa$N)aqua(triphenylphosphine-$\\\\upkappa$P)silver(I) hemihydrate', '1-(Benzylideneamino)pyridinum iodide', 'N-[11-(4-Chlorophenyl)-11,12-dihydrobenzo[c]phenanthridin-6-yl]benzamide', '1,3-Bis(4-fluorophenyl)-N,N$\\\\prime$-(propane-1,3-diylidene)dihydroxylamine', '4-tert-Butylpyridinium chloride{\\\\textendash}4,4$\\\\prime$-(propane-2,2-diyl)bis(2,6-dimethylphenol){\\\\textendash}toluene (2/2/1)', 'Crystallization and preliminary crystallographic analysis of the catechol 2,3-dioxygenase {PheB} {fromBacillus} {stearothermophilusBR}219']\n",
      "\n",
      "\n",
      "Cluster 6 docIDs:"
     ]
    },
    {
     "name": "stderr",
     "output_type": "stream",
     "text": [
      "C:\\Users\\thepe\\Anaconda3\\lib\\site-packages\\ipykernel_launcher.py:13: DeprecationWarning: \n",
      ".ix is deprecated. Please use\n",
      ".loc for label based indexing or\n",
      ".iloc for positional indexing\n",
      "\n",
      "See the documentation here:\n",
      "http://pandas.pydata.org/pandas-docs/stable/indexing.html#ix-indexer-is-deprecated\n",
      "  del sys.path[0]\n"
     ]
    },
    {
     "name": "stdout",
     "output_type": "stream",
     "text": [
      "['Dinicotinamidium squarate', 'Four 2-amino-6-aryl-4-methoxy-11H-pyrimido[4,5-b][1,4]benzodiazepines: similar molecular structures but different crystal structures', 'Bis[1-(2-hydroxyethyliminomethyl)-2-naphtholato-$\\\\upkappa$2N,O]nickel({II})', 'Triaquabis(4-formylbenzoato-$\\\\upkappa$2O,O$\\\\prime$)cadmium({II}) 3.5-hydrate', '3-Phenyl-1-[2-(3-phenylisoquinolin-1-yl)diselanyl]isoquinoline', '2-(1H-Benzotriazol-1-yl)-1-phenylethanol', '3,5-Bis(4-hydroxyphenyl)-4H-1,2,4-triazol-4-amine monohydrate', '4-Hydrazinylidene-1-methyl-3H-2$\\\\uplambda$6,1-benzothiazine-2,2-dione', '2-(4-Chloro-1H-indol-3-yl)acetonitrile', 'Ergotaminine', 'Methyl 4-(benzyloxy)-3-methoxybenzoate']\n",
      "\n",
      "\n",
      "Cluster 7 docIDs:"
     ]
    },
    {
     "name": "stderr",
     "output_type": "stream",
     "text": [
      "C:\\Users\\thepe\\Anaconda3\\lib\\site-packages\\ipykernel_launcher.py:13: DeprecationWarning: \n",
      ".ix is deprecated. Please use\n",
      ".loc for label based indexing or\n",
      ".iloc for positional indexing\n",
      "\n",
      "See the documentation here:\n",
      "http://pandas.pydata.org/pandas-docs/stable/indexing.html#ix-indexer-is-deprecated\n",
      "  del sys.path[0]\n"
     ]
    }
   ],
   "source": [
    "from __future__ import print_function\n",
    "\n",
    "print(\"Top terms per cluster:\")\n",
    "print()\n",
    "#sort cluster centers by proximity to centroid\n",
    "\n",
    "outWriter = csv.writer(open(\"out.csv\", 'w'), lineterminator = \"\\n\")\n",
    "\n",
    "\n",
    "for i in range(num_clusters):\n",
    "    print(\"Cluster %d docIDs:\" % i, end='')\n",
    "    \n",
    "    DOIs = frame.ix[i]['docID'].values.tolist()\n",
    "    titles = [getTitle(ID) for ID in DOIs]\n",
    "    print(titles)\n",
    "    outWriter.writerow(titles)\n",
    "    print() #add whitespace\n",
    "    print() #add whitespace\n",
    "    \n",
    "print()\n",
    "print()"
   ]
  },
  {
   "cell_type": "code",
   "execution_count": null,
   "metadata": {},
   "outputs": [],
   "source": []
  }
 ],
 "metadata": {
  "kernelspec": {
   "display_name": "Python 3",
   "language": "python",
   "name": "python3"
  },
  "language_info": {
   "codemirror_mode": {
    "name": "ipython",
    "version": 3
   },
   "file_extension": ".py",
   "mimetype": "text/x-python",
   "name": "python",
   "nbconvert_exporter": "python",
   "pygments_lexer": "ipython3",
   "version": "3.7.3"
  }
 },
 "nbformat": 4,
 "nbformat_minor": 2
}
