{
 "cells": [
  {
   "cell_type": "markdown",
   "metadata": {},
   "source": [
    "### Imports"
   ]
  },
  {
   "cell_type": "code",
   "execution_count": 2,
   "metadata": {},
   "outputs": [
    {
     "name": "stderr",
     "output_type": "stream",
     "text": [
      "C:\\Users\\pjz1\\AppData\\Local\\Continuum\\anaconda3\\lib\\site-packages\\gensim\\utils.py:1197: UserWarning: detected Windows; aliasing chunkize to chunkize_serial\n",
      "  warnings.warn(\"detected Windows; aliasing chunkize to chunkize_serial\")\n"
     ]
    }
   ],
   "source": [
    "# processing\n",
    "from operator import methodcaller\n",
    "import csv\n",
    "import re\n",
    "import numpy as np\n",
    "import pandas as pd\n",
    "from pprint import pprint\n",
    "import string\n",
    "\n",
    "\n",
    "# gensim\n",
    "import gensim\n",
    "import gensim.corpora as corpora\n",
    "from gensim.utils import simple_preprocess\n",
    "from gensim.models import CoherenceModel\n",
    "\n",
    "# plotting tools\n",
    "import pyLDAvis\n",
    "import pyLDAvis.gensim\n",
    "import matplotlib.pyplot as plt\n",
    "\n",
    "\n",
    "#sci-kit\n",
    "from sklearn import feature_extraction"
   ]
  },
  {
   "cell_type": "markdown",
   "metadata": {},
   "source": [
    "### Processing"
   ]
  },
  {
   "cell_type": "code",
   "execution_count": 5,
   "metadata": {},
   "outputs": [],
   "source": [
    "blacklist = [t.strip() for t in next(csv.reader(open(\"blacklist.csv\", 'r')))]\n",
    "levels = [1, 2, 3]\n",
    "\n",
    "inPath = \"raw.csv\"\n",
    "\n",
    "inFile = open(inPath, 'r')\n",
    "inReader = csv.reader(inFile)\n",
    "\n",
    "docTokens = dict()\n",
    "\n",
    "\n",
    "next(inReader)\n",
    "for inRow in inReader:\n",
    "    term = inRow[0]\n",
    "    sentence = inRow[2]\n",
    "    docID = inRow[3]\n",
    "    \n",
    "    token = \"_\".join([t for t in term.split(\":\") if re.match(r'[^\\W\\d]*$', t) and not t in blacklist])\n",
    "    \n",
    "    level = token.count(\"_\")\n",
    "    \n",
    "    if level in levels and not token in blacklist and len(token) > 0:\n",
    "        if docID in docTokens:\n",
    "            docTokens[docID] += [token]\n",
    "        else:\n",
    "            docTokens[docID] = [token]\n",
    "\n",
    "docIDs = list(docTokens.keys())\n",
    "data = list(docTokens.values())"
   ]
  },
  {
   "cell_type": "markdown",
   "metadata": {},
   "source": [
    "### LDA Modeling"
   ]
  },
  {
   "cell_type": "code",
   "execution_count": 6,
   "metadata": {},
   "outputs": [],
   "source": [
    "dictionary = corpora.Dictionary(data)\n",
    "texts = data\n",
    "\n",
    "corpus = [dictionary.doc2bow(text) for text in texts]"
   ]
  },
  {
   "cell_type": "code",
   "execution_count": 7,
   "metadata": {
    "scrolled": true
   },
   "outputs": [
    {
     "name": "stdout",
     "output_type": "stream",
     "text": [
      "[(0, '0.055*\"crystal_structure\" + 0.032*\"water_molecule\" + 0.029*\"middot_middot\" + 0.015*\"hydrogen_bond\" + 0.010*\"stack_interaction\" + 0.009*\"rotation_axis\" + 0.009*\"uncoordinated_water_molecule\" + 0.009*\"perchlorate_anion\" + 0.008*\"c_n_bond\" + 0.007*\"half_occupancy\"'), (1, '0.029*\"unit_cell\" + 0.023*\"x_ray_diffraction\" + 0.023*\"b_axis\" + 0.022*\"small_angle\" + 0.021*\"inversion_centre\" + 0.018*\"c_bond\" + 0.013*\"o_interaction\" + 0.008*\"symmetry_centre\" + 0.008*\"dimensional_structure\" + 0.007*\"basal_plane\"'), (2, '0.009*\"ring_system\" + 0.009*\"special_position\" + 0.007*\"saxs_intensity\" + 0.007*\"thermal_expansion\" + 0.007*\"membrane_protein\" + 0.005*\"transmembrane_protein\" + 0.005*\"respectively_deg_dihedral_angle\" + 0.004*\"detail_analysis\" + 0.004*\"rotate_phenylene_ring_deg\" + 0.004*\"function_positive_construction\"'), (3, '0.044*\"aring_resolution\" + 0.009*\"crystal_form\" + 0.008*\"aromatic_system\" + 0.008*\"crystal_symmetry\" + 0.007*\"molecular_replacement\" + 0.006*\"active_site\" + 0.006*\"unit_cell_dimension\" + 0.005*\"double_bond\" + 0.005*\"c_terminal\" + 0.004*\"benzophenone_asymmetric_substitution_product\"'), (4, '0.044*\"space_group\" + 0.031*\"h_atom\" + 0.009*\"scatter_curve\" + 0.008*\"crystallographic_study\" + 0.007*\"structure_factor\" + 0.006*\"c_c\" + 0.005*\"biophysical_technique\" + 0.005*\"huge_advance\" + 0.005*\"brief_overview\" + 0.005*\"near_future\"'), (5, '0.027*\"crystal_pack\" + 0.018*\"n_o\" + 0.017*\"n_o_h\" + 0.015*\"c_torsion_angle\" + 0.008*\"structural_information\" + 0.008*\"start_material\" + 0.008*\"c_torsion\" + 0.007*\"c_c_torsion_angle\" + 0.006*\"distribution_function\" + 0.006*\"powder_pattern\"'), (6, '0.062*\"benzene_ring\" + 0.031*\"c_o\" + 0.027*\"c_o_h\" + 0.025*\"n_n_h\" + 0.020*\"molecular_structure\" + 0.017*\"benzene_ring_dihedral_angle\" + 0.016*\"tetrahedral_geometry\" + 0.014*\"centroid_distance\" + 0.011*\"cl_atom\" + 0.011*\"ring_motif\"'), (7, '0.117*\"c_h\" + 0.060*\"pi_interaction\" + 0.041*\"weak_c_h\" + 0.027*\"intermolecular_c_h\" + 0.016*\"weak_intermolecular_c_h\" + 0.013*\"membered_ring\" + 0.012*\"weak_c\" + 0.012*\"o_contact\" + 0.008*\"methyl_group\" + 0.008*\"respectively_deg\"'), (8, '0.015*\"metal_atom\" + 0.010*\"tran_effect\" + 0.008*\"deg_tran_angle\" + 0.007*\"small_angle_neutron_scatter\" + 0.007*\"small_angle_neutron\" + 0.006*\"si_atom\" + 0.005*\"domain_ratio\" + 0.004*\"cis_bis_complex\" + 0.004*\"bond_behaviour\" + 0.004*\"common_sigma\"'), (9, '0.094*\"asymmetric_unit\" + 0.042*\"n_atom\" + 0.016*\"independent_molecule\" + 0.015*\"o_atom\" + 0.014*\"asymmetric_unit_molecule\" + 0.012*\"molecule_deg\" + 0.011*\"axial_position\" + 0.010*\"asymmetric_unit_independent_molecule\" + 0.010*\"prime_ligand\" + 0.009*\"aromatic_pi\"'), (10, '0.030*\"n_bond\" + 0.016*\"absolute_configuration\" + 0.014*\"znii_atom\" + 0.007*\"k_edge\" + 0.007*\"double_crystal\" + 0.006*\"room_temperature\" + 0.005*\"twofold_symmetry\" + 0.005*\"general_formula\" + 0.005*\"bragg_geometry\" + 0.004*\"square_plane\"'), (11, '0.080*\"n_h\" + 0.067*\"crystal_structure\" + 0.045*\"intermolecular_n_h\" + 0.040*\"n_hydrogen_bond\" + 0.037*\"hydrogen_bond\" + 0.018*\"n_hydrogen\" + 0.015*\"chair_conformation\" + 0.012*\"o_n_h\" + 0.010*\"ab_plane\" + 0.009*\"square_planar\"'), (12, '0.027*\"dimensional_network\" + 0.011*\"tetrahedral_configuration\" + 0.011*\"distort_tetrahedral_configuration\" + 0.008*\"infinite_dimensional_network\" + 0.008*\"structural_analysis\" + 0.008*\"bond_length\" + 0.007*\"partial_weight_sum\" + 0.007*\"two_different_formalism\" + 0.007*\"partial_structure_function\" + 0.007*\"amorphous_binary_system_structure\"'), (13, '0.021*\"n_interaction\" + 0.021*\"wide_range\" + 0.019*\"h_group\" + 0.010*\"solvent_molecule\" + 0.008*\"n_h_group\" + 0.006*\"light_source\" + 0.005*\"structural_investigation\" + 0.004*\"w_total_absorb_power\" + 0.004*\"piperidine_ring\" + 0.004*\"modest_c_h\"'), (14, '0.099*\"dihedral_angle\" + 0.029*\"phenyl_ring\" + 0.026*\"centroid_centroid_distance\" + 0.016*\"pi_pi\" + 0.014*\"aromatic_ring\" + 0.014*\"mean_plane\" + 0.014*\"intermolecular_interaction\" + 0.012*\"c_atom\" + 0.011*\"zigzag_chain\" + 0.010*\"imidazole_ring\"'), (15, '0.025*\"inversion_center\" + 0.021*\"square_pyramidal\" + 0.015*\"solid_state\" + 0.013*\"octahedral_geometry\" + 0.013*\"distort_octahedral_geometry\" + 0.012*\"o_bond\" + 0.010*\"escherichia_coli\" + 0.009*\"elemental_analysis\" + 0.007*\"cu_atom\" + 0.007*\"site_symmetry\"'), (16, '0.139*\"hydrogen_bond\" + 0.081*\"o_h\" + 0.062*\"o_hydrogen_bond\" + 0.035*\"intermolecular_o_h\" + 0.020*\"o_atom\" + 0.013*\"o_o_h\" + 0.009*\"square_pyramidal_geometry\" + 0.008*\"n_n\" + 0.008*\"hydroxy_group\" + 0.007*\"c_n_h\"'), (17, '0.014*\"fuse_ring\" + 0.013*\"intermolecular_hydrogen_bond\" + 0.011*\"envelope_conformation\" + 0.010*\"aring_deviation\" + 0.008*\"cone_angle\" + 0.008*\"effective_cone_angle\" + 0.007*\"respect_deg\" + 0.007*\"essentially_planar_chlorobenzene\" + 0.007*\"essentially_planar\" + 0.007*\"tran_configuration\"'), (18, '0.037*\"middot_minus\" + 0.023*\"unit_cell_parameter\" + 0.016*\"diffraction_datum\" + 0.014*\"vapour_diffusion\" + 0.014*\"vapour_diffusion_method\" + 0.012*\"hang_drop\" + 0.011*\"electron_density\" + 0.009*\"x_ray_diffraction_datum\" + 0.008*\"nitro_group\" + 0.008*\"dna_synthesis\"'), (19, '0.070*\"x_ray\" + 0.020*\"single_crystal\" + 0.015*\"x_ray_scatter\" + 0.010*\"high_resolution\" + 0.008*\"thick_crystal\" + 0.006*\"x_ray_analysis\" + 0.006*\"high_temperature\" + 0.005*\"protein_crystal\" + 0.005*\"structure_refinement\" + 0.004*\"aring_plusmn\"')]\n"
     ]
    }
   ],
   "source": [
    "numTops = 20\n",
    "\n",
    "lda_model = gensim.models.ldamodel.LdaModel(corpus=corpus,\n",
    "                                       id2word=dictionary,\n",
    "                                       num_topics=numTops, \n",
    "                                       random_state=100,\n",
    "                                       update_every=1,\n",
    "                                       chunksize=8,\n",
    "                                       passes=1,\n",
    "                                       alpha='auto',\n",
    "                                       per_word_topics=True)\n",
    "\n",
    "\n",
    "print(lda_model.print_topics())\n",
    "\n",
    "#select dist topic\n",
    "#for each dist id\n",
    "#where p > bound\n",
    "#for each term\n",
    "#check if it's in previous list\n",
    "\n",
    "doc_lda = lda_model[corpus]"
   ]
  },
  {
   "cell_type": "markdown",
   "metadata": {},
   "source": [
    "### HDP Modeling"
   ]
  },
  {
   "cell_type": "code",
   "execution_count": 52,
   "metadata": {},
   "outputs": [
    {
     "name": "stderr",
     "output_type": "stream",
     "text": [
      "C:\\Users\\pjz1\\AppData\\Local\\Continuum\\anaconda3\\lib\\site-packages\\gensim\\models\\hdpmodel.py:222: DeprecationWarning: time.clock has been deprecated in Python 3.3 and will be removed from Python 3.8: use time.perf_counter or time.process_time instead\n",
      "  start_time = time.clock()\n"
     ]
    },
    {
     "ename": "NameError",
     "evalue": "name 'numTops' is not defined",
     "output_type": "error",
     "traceback": [
      "\u001b[1;31m---------------------------------------------------------------------------\u001b[0m",
      "\u001b[1;31mNameError\u001b[0m                                 Traceback (most recent call last)",
      "\u001b[1;32m<ipython-input-52-f2d7ec6dd750>\u001b[0m in \u001b[0;36m<module>\u001b[1;34m\u001b[0m\n\u001b[0;32m      7\u001b[0m \u001b[0mlda_model\u001b[0m \u001b[1;33m=\u001b[0m \u001b[0mhdp\u001b[0m\u001b[1;33m.\u001b[0m\u001b[0msuggested_lda_model\u001b[0m\u001b[1;33m(\u001b[0m\u001b[1;33m)\u001b[0m\u001b[1;33m\u001b[0m\u001b[1;33m\u001b[0m\u001b[0m\n\u001b[0;32m      8\u001b[0m \u001b[1;33m\u001b[0m\u001b[0m\n\u001b[1;32m----> 9\u001b[1;33m \u001b[1;32mfor\u001b[0m \u001b[0mk\u001b[0m \u001b[1;32min\u001b[0m \u001b[0mrange\u001b[0m\u001b[1;33m(\u001b[0m\u001b[0mnumTops\u001b[0m\u001b[1;33m)\u001b[0m\u001b[1;33m:\u001b[0m\u001b[1;33m\u001b[0m\u001b[1;33m\u001b[0m\u001b[0m\n\u001b[0m\u001b[0;32m     10\u001b[0m     \u001b[0mprint\u001b[0m\u001b[1;33m(\u001b[0m\u001b[0mlda_model\u001b[0m\u001b[1;33m.\u001b[0m\u001b[0mprint_topic\u001b[0m\u001b[1;33m(\u001b[0m\u001b[0mk\u001b[0m\u001b[1;33m)\u001b[0m\u001b[1;33m)\u001b[0m\u001b[1;33m\u001b[0m\u001b[1;33m\u001b[0m\u001b[0m\n\u001b[0;32m     11\u001b[0m \u001b[1;33m\u001b[0m\u001b[0m\n",
      "\u001b[1;31mNameError\u001b[0m: name 'numTops' is not defined"
     ]
    }
   ],
   "source": [
    "\n",
    "\n",
    "numtops = 100\n",
    "\n",
    "hdp = HdpModel(corpus, dictionary, T=  numtops)\n",
    "\n",
    "lda_model = hdp.suggested_lda_model()\n"
   ]
  },
  {
   "cell_type": "code",
   "execution_count": 57,
   "metadata": {},
   "outputs": [
    {
     "name": "stdout",
     "output_type": "stream",
     "text": [
      "0.000*\"mu_acid\" + 0.000*\"hps_hydrogen_bond\" + 0.000*\"molecular_crystal\" + 0.000*\"elastic_displacement_origin\" + 0.000*\"picolinate_ligand\" + 0.000*\"dimeric_ngal_crystal\" + 0.000*\"crystallochemical_role\" + 0.000*\"conformation_systematic_study\" + 0.000*\"volume_reduction\" + 0.000*\"hexaanion_minus_independent_centrosymmetric\"\n",
      "0.000*\"protein_molecule\" + 0.000*\"symmetrical_tile\" + 0.000*\"herringbone_motif\" + 0.000*\"strong_c_h_pi\" + 0.000*\"magnetic_field_perpendicular_plane\" + 0.000*\"relatively_weak_magnetic_field\" + 0.000*\"structural_investigation\" + 0.000*\"n_butylammonium\" + 0.000*\"complete_chain\" + 0.000*\"delta_lambda\"\n",
      "0.000*\"solid_helium_anneal_effect\" + 0.000*\"dispersion_surface\" + 0.000*\"arc_ni_presence_melt\" + 0.000*\"protein_limit_trypsin_digestion\" + 0.000*\"energy_dispersive\" + 0.000*\"angular_interaction\" + 0.000*\"convergent_beam\" + 0.000*\"archaeal_tim_surface\" + 0.000*\"substituent_low_effectivity\" + 0.000*\"one_cu_atom\"\n",
      "0.000*\"paroxetine_hemihydrate_arrangement_stability\" + 0.000*\"protein_atom\" + 0.000*\"intermolecular_aromatic_pi\" + 0.000*\"a_bind\" + 0.000*\"zwitterionic_molecule\" + 0.000*\"strong_n_h\" + 0.000*\"complex_scn_unit\" + 0.000*\"lithium_polymer_battery_concept\" + 0.000*\"coprinus_cinereus\" + 0.000*\"post_refinement\"\n",
      "0.000*\"strong_n_h_pair\" + 0.000*\"lang_projection_topograph\" + 0.000*\"low_anti_chi_deg\" + 0.000*\"monosolvate_pentahydrate_dimethylformamide\" + 0.000*\"mycobacterium_tuberculosis_putative_pnpox\" + 0.000*\"large_scale\" + 0.000*\"numerous_human_tumor\" + 0.000*\"asymmetric_unit_decameric_ring\" + 0.000*\"high_solubility\" + 0.000*\"mass_density\"\n",
      "0.000*\"tetrahydropyrimidine_ring\" + 0.000*\"olfactomedin_olf_domain\" + 0.000*\"anion_minus_prime_prime\" + 0.000*\"mean_orientation\" + 0.000*\"phosphide_pentanickel\" + 0.000*\"lactone_ring_pucker\" + 0.000*\"carboxylate_o_anion_atom\" + 0.000*\"cu_nimine\" + 0.000*\"pylorus_infection\" + 0.000*\"sequence_identity_model\"\n",
      "0.000*\"high_performance\" + 0.000*\"angular_displacement\" + 0.000*\"present_chemical_specie\" + 0.000*\"x_ray_reflectivity\" + 0.000*\"weak_c_h_incidence\" + 0.000*\"previously_know_structure\" + 0.000*\"amine_carboxyl\" + 0.000*\"situ_biaxial_tensile_test\" + 0.000*\"standard_datum_acquisition_system\" + 0.000*\"h_h\"\n",
      "0.000*\"dimensional_hybrid_pixel_detector\" + 0.000*\"hydrogen_bond_infinite_chain\" + 0.000*\"unit_cell_formation\" + 0.000*\"human_body_vulnificus_survival\" + 0.000*\"o_crystal_hydrogen_bond\" + 0.000*\"site_symmetry_special_position\" + 0.000*\"ptp_receptor_type\" + 0.000*\"mean_plane_conformation\" + 0.000*\"p_prime_p\" + 0.000*\"new_optical_system\"\n",
      "0.000*\"intermolecular_pi\" + 0.000*\"acidothermophilic_archaeon\" + 0.000*\"b_ring_link\" + 0.000*\"different_tcnoet_ligand\" + 0.000*\"independent_intermolecular_o_h\" + 0.000*\"monodendate_imidazole_ligand\" + 0.000*\"neighbor_molecule\" + 0.000*\"torsion_bend_axis\" + 0.000*\"disorder_fluorine_atom\" + 0.000*\"asymmetric_unit_half_molecule\"\n",
      "0.000*\"structure_information\" + 0.000*\"structural_characterization\" + 0.000*\"plus_protein_envelope\" + 0.000*\"hmtpo_acidic_h_atom\" + 0.000*\"weissenberg_photograph\" + 0.000*\"neighbour_molecule_imine_group\" + 0.000*\"benzene_ring_pyridine\" + 0.000*\"syndrome_coronavirus\" + 0.000*\"step_motor\" + 0.000*\"cyclization_product\"\n",
      "0.000*\"s_contact\" + 0.000*\"overall_protein_structure\" + 0.000*\"coordination_polymer\" + 0.000*\"dimensional_layer_structure\" + 0.000*\"routine_h_position_definition\" + 0.000*\"carboxylate_amino_group\" + 0.000*\"multiple_equidistant_split\" + 0.000*\"human_prostate\" + 0.000*\"deg_range\" + 0.000*\"z_scan_technique\"\n",
      "0.000*\"n_dimensional_net\" + 0.000*\"zero_position\" + 0.000*\"phase_approximation\" + 0.000*\"two_thiocyanate\" + 0.000*\"experimental_diffuse\" + 0.000*\"dimethylaminophenyl_ring_system\" + 0.000*\"large_objective_aperture\" + 0.000*\"sans_saxs_neutron_scatter\" + 0.000*\"derivative_form_dihedral_angle\" + 0.000*\"different_datum_collection_strategy\"\n",
      "0.000*\"positive_probability\" + 0.000*\"value_approximately_deviate\" + 0.000*\"complexing_property\" + 0.000*\"pseudo_mm_symmetry\" + 0.000*\"polyether_ring\" + 0.000*\"temperature_parameter\" + 0.000*\"crystalline_product\" + 0.000*\"carbon_phosphoru\" + 0.000*\"thiourea_fragment_benzene_ring\" + 0.000*\"kolbeckite_structural_report\"\n",
      "0.000*\"monoclinic_space\" + 0.000*\"main_interest\" + 0.000*\"b_mr_triclinic_structure\" + 0.000*\"coordination_numb\" + 0.000*\"c_h\" + 0.000*\"investigate_system\" + 0.000*\"different_molecular_fragment\" + 0.000*\"initio_method\" + 0.000*\"bridge_bipyridine_ligand\" + 0.000*\"pi_pi_pi\"\n",
      "0.000*\"ctd_phosphorylation_state\" + 0.000*\"cuboctahedral_environment\" + 0.000*\"grow_numb\" + 0.000*\"krause_uerdingen_amp\" + 0.000*\"molecule_nh_c_segment\" + 0.000*\"aring_c_sime\" + 0.000*\"beta_alkaline_catalytic_domain\" + 0.000*\"grain_size\" + 0.000*\"polymorph_crystal_structure\" + 0.000*\"macrocycle_amine_group_molecule\"\n",
      "0.000*\"aring_large_deviation_plane\" + 0.000*\"middot_guanidine\" + 0.000*\"extra_peak_intensity\" + 0.000*\"hydrogen_bond_donor\" + 0.000*\"deg_effective_cone_angle\" + 0.000*\"valuable_information\" + 0.000*\"r_predictable_relation\" + 0.000*\"different_approach\" + 0.000*\"pi_sample_method\" + 0.000*\"f_centre_superstructure\"\n",
      "0.000*\"gauche_ii_conformation\" + 0.000*\"bind_orn_analog_structure\" + 0.000*\"bader_mulliken_partition\" + 0.000*\"electron_microscope\" + 0.000*\"neighbour_oxalate_anion\" + 0.000*\"osteoblast_differentiation_bone_formation\" + 0.000*\"intact_crystal_habit\" + 0.000*\"similar_geometry\" + 0.000*\"technique_block_different_contrast\" + 0.000*\"crystallographic_b_axis_chain\"\n",
      "0.000*\"approach_application\" + 0.000*\"twin_volume\" + 0.000*\"bind_cargo\" + 0.000*\"coincidence_orientation\" + 0.000*\"coincidence_concept_generalization\" + 0.000*\"datum_analysis_graphic\" + 0.000*\"specific_substrate\" + 0.000*\"available_datum\" + 0.000*\"refinement_purpose\" + 0.000*\"single_particle\"\n",
      "0.000*\"hirudin_peptide\" + 0.000*\"ether_o_atom\" + 0.000*\"symmetry_axis_parallel_chain\" + 0.000*\"new_insight\" + 0.000*\"metal_affinity\" + 0.000*\"catalytic_cofactor\" + 0.000*\"visible_light\" + 0.000*\"tetrahedral_environment\" + 0.000*\"profile_shape\" + 0.000*\"dutp_alpha_beta_phosphodiester\"\n",
      "0.000*\"decameric_ring\" + 0.000*\"amino_acid_substitution\" + 0.000*\"phase_extension\" + 0.000*\"atom_specific_metric\" + 0.000*\"detail_structural_information\" + 0.000*\"post_tysonite\" + 0.000*\"estimate_weight_accuracy\" + 0.000*\"wet_dry_biospecimen\" + 0.000*\"deg_cl_sequence_hg\" + 0.000*\"call_pole_figure\"\n",
      "0.000*\"refinement_refmac_follow_warp\" + 0.000*\"optical_system\" + 0.000*\"avalanche_photodiode_detector\" + 0.000*\"dimensional_network_hydrogen_bond\" + 0.000*\"framework_density\" + 0.000*\"bis_complex\" + 0.000*\"intersect_channel\" + 0.000*\"detergent_free_micelle\" + 0.000*\"iron_nitride\" + 0.000*\"complex_dimensional_framework\"\n",
      "0.000*\"p_phosphoru\" + 0.000*\"square_root\" + 0.000*\"experimental_detail\" + 0.000*\"structural_parameter\" + 0.000*\"central_bind_groove\" + 0.000*\"tetrahedral_configuration\" + 0.000*\"hydrophilic_region\" + 0.000*\"virtual_library\" + 0.000*\"extradiol_cleave_catecholic_dioxygenase\" + 0.000*\"rotation_camera\"\n",
      "0.000*\"tetramer_ellipsoidal_shape_dimer\" + 0.000*\"steric_measure\" + 0.000*\"middot_beta_acetate_monohydrate\" + 0.000*\"phenyl_ring_plane\" + 0.000*\"waals_gap\" + 0.000*\"cu_s_distance\" + 0.000*\"hydrogen_storage\" + 0.000*\"situ_cryocrystallization_technique_mean\" + 0.000*\"template_nmr_structure_use\" + 0.000*\"form_crystal\"\n",
      "0.000*\"ring_non_h_atom\" + 0.000*\"bridge_bimetallic_complex\" + 0.000*\"peo_pep_sls_contrast\" + 0.000*\"piperazine_ring\" + 0.000*\"octahedral_fashion\" + 0.000*\"non_monotonic_intensity_variation\" + 0.000*\"hg_derivative_crystal\" + 0.000*\"free_base_porphyrin_reaction\" + 0.000*\"maleonitriledithiolate_ligand\" + 0.000*\"inversion_center\"\n",
      "0.000*\"soluble_melt_solid\" + 0.000*\"calibration_alignment_measurement\" + 0.000*\"molecule_planarity\" + 0.000*\"carboxylate_amino\" + 0.000*\"software_method\" + 0.000*\"time_scale\" + 0.000*\"domain_crystal_lattice_orientation\" + 0.000*\"tolyl_group_aromatic_ring\" + 0.000*\"n_propylquinolinium\" + 0.000*\"spherically_bend_crystal_analyzer\"\n",
      "0.000*\"frame_buff\" + 0.000*\"crystallographic_group\" + 0.000*\"proper_subgroup\" + 0.000*\"multipolar_pseudo_atom_refinement\" + 0.000*\"protein_interaction\" + 0.000*\"fractal_dimension\" + 0.000*\"carbon_bridge\" + 0.000*\"framework_density\" + 0.000*\"iron_ion_oxidation_state\" + 0.000*\"mononuclear_molecule\"\n",
      "0.000*\"mycobacterium_tuberculosis_homologue\" + 0.000*\"near_infrared_excitation\" + 0.000*\"scatter_property\" + 0.000*\"result_lattice_sum_evaluation\" + 0.000*\"cuprous_chloride\" + 0.000*\"controversial_issue\" + 0.000*\"ethyl_chain_benzene_ring\" + 0.000*\"essentially_planar_aring_deviation\" + 0.000*\"peptidyl_trnas_trna_peptide\" + 0.000*\"low_soluble_melt_solid\"\n"
     ]
    },
    {
     "name": "stdout",
     "output_type": "stream",
     "text": [
      "0.000*\"sulfonyl_benzene_ring\" + 0.000*\"lie_spiro_c_atom\" + 0.000*\"different_crystallization_environment\" + 0.000*\"gene_expression\" + 0.000*\"h_datum_acquisition\" + 0.000*\"p_toluenesulfonate_anion\" + 0.000*\"paper_correspondence_address\" + 0.000*\"radiation_source\" + 0.000*\"correspond_size\" + 0.000*\"benzofuran_ring\"\n",
      "0.000*\"overall_numb\" + 0.000*\"direct_comparison\" + 0.000*\"methoxy_o\" + 0.000*\"characteristic_torsion\" + 0.000*\"protein_domain_definition\" + 0.000*\"particular_emphasis\" + 0.000*\"glutamate_aspartate_residue\" + 0.000*\"intra_ligand_bridge_group\" + 0.000*\"previous_refinement\" + 0.000*\"dilute_silica\"\n",
      "0.000*\"classical_protein_tyrosine\" + 0.000*\"mainly_ionic_interaction\" + 0.000*\"obtain_inclusion_crystal\" + 0.000*\"original_paper\" + 0.000*\"crystal_in_lattice\" + 0.000*\"residue_catalytic_acid\" + 0.000*\"direct_method\" + 0.000*\"ring_lang\" + 0.000*\"approximate_formula\" + 0.000*\"pattern_decomposition_method\"\n",
      "0.000*\"phosphatidylinositide_pi_substrate\" + 0.000*\"n_c_bond_delocalization\" + 0.000*\"many_brazilian_laboratory\" + 0.000*\"simple_linear\" + 0.000*\"metal_alkoxide\" + 0.000*\"van_der\" + 0.000*\"parameter_small_numb\" + 0.000*\"bridgehead_bond\" + 0.000*\"significant_physiological_role\" + 0.000*\"terephthalate_dianion\"\n",
      "0.000*\"comparative_analysis\" + 0.000*\"paroxetine_bromide_hemidrate\" + 0.000*\"compact_way\" + 0.000*\"protein_diffraction_pattern\" + 0.000*\"supervise_quantitative_analysis\" + 0.000*\"asymptotic_exact_result_discrepancy\" + 0.000*\"mineral_group\" + 0.000*\"sodium_chain\" + 0.000*\"practical_set\" + 0.000*\"helical_distorsion\"\n",
      "0.000*\"vapochromic_organic_crystal\" + 0.000*\"simple_mixture\" + 0.000*\"iv_indole\" + 0.000*\"self_rotation\" + 0.000*\"exist_phasis_distinction\" + 0.000*\"growth_nucleation_imperfection\" + 0.000*\"rapamycin_complex\" + 0.000*\"n_o_h\" + 0.000*\"maximum_likelihood\" + 0.000*\"low_nucleotide_sequence_specificity\"\n",
      "0.000*\"synchronous_control_sample\" + 0.000*\"mutant_type\" + 0.000*\"technique_block_different_contrast\" + 0.000*\"commission_test\" + 0.000*\"large_terephthal_butylaniline\" + 0.000*\"biomacromolecular_crystal_quality\" + 0.000*\"n_c_c_chain\" + 0.000*\"nickel_divalent_iron\" + 0.000*\"p_c_tetrahedron_orientation\" + 0.000*\"situ_cryocrystallization_technique\"\n",
      "0.000*\"material_absolute_optical_chirality\" + 0.000*\"experimental_electron_density\" + 0.000*\"activity_decrease\" + 0.000*\"electron_rich_iron_carbonyl\" + 0.000*\"bridge_bimetallic_complex_cyano\" + 0.000*\"substitute_meso_position\" + 0.000*\"contrast_reduce_factor\" + 0.000*\"structural_order\" + 0.000*\"know_molecule\" + 0.000*\"fill_capability\"\n",
      "0.000*\"pi_ring_interaction\" + 0.000*\"structure_factor_magnitude\" + 0.000*\"dimeric_molecule\" + 0.000*\"lambda_delta\" + 0.000*\"temperature_structure\" + 0.000*\"commercial_host\" + 0.000*\"imidazolinium_ring\" + 0.000*\"human_body_vulnificus\" + 0.000*\"molecular_bioscience\" + 0.000*\"ph_sodium_acetate\"\n",
      "0.000*\"antisigma_factor\" + 0.000*\"new_mix_metal_complex\" + 0.000*\"fabricate_heterogeneous_nuclear_fuel\" + 0.000*\"melaminium_cation\" + 0.000*\"vapour_condition_diffusion\" + 0.000*\"gmp_binase_complex\" + 0.000*\"pseudomonas_putida\" + 0.000*\"ni_atom\" + 0.000*\"ho_ion\" + 0.000*\"assembly_factor\"\n",
      "0.000*\"apical_site_l_ligand\" + 0.000*\"o_intermolecular_hydrogen_bond\" + 0.000*\"characteristic_sign\" + 0.000*\"short_bunch\" + 0.000*\"mix_metal_complex\" + 0.000*\"formally_specie_oligomeriz\" + 0.000*\"high_symmetry_state_evolve\" + 0.000*\"normal_single_bond\" + 0.000*\"scatter_experiment\" + 0.000*\"proliferate_cell\"\n",
      "0.000*\"k_a_edge\" + 0.000*\"carbonyl_link_substituent\" + 0.000*\"smear_unsmooth_scatter_datum\" + 0.000*\"pancreatic_phospholipase\" + 0.000*\"cyclohexene_oxide\" + 0.000*\"independent_ion_pair\" + 0.000*\"orientation_information\" + 0.000*\"space_cost\" + 0.000*\"crystallographic_net_relationship\" + 0.000*\"cationic_chain_ag_separation\"\n",
      "0.000*\"steric_hindrance\" + 0.000*\"tumor_suppressor_protein\" + 0.000*\"nanocomposite_mechanical_behaviour\" + 0.000*\"hydrogen_compatible_gas_loader\" + 0.000*\"nonparametric_kernel_density_estimator\" + 0.000*\"contaminant_crystallization\" + 0.000*\"octaketide_synthase\" + 0.000*\"product_carbonyl\" + 0.000*\"diffraction_pattern\" + 0.000*\"main_cluster_type\"\n",
      "0.000*\"solvate_molecule\" + 0.000*\"c_h_extensive_network\" + 0.000*\"nervous_system\" + 0.000*\"graph_set_o_interaction\" + 0.000*\"etc_bioavailability_solubility\" + 0.000*\"si_atom_coordination\" + 0.000*\"distortion_character\" + 0.000*\"plane_lie_chi_axis\" + 0.000*\"x_ray_diffraction\" + 0.000*\"fluctuation_different_kind\"\n",
      "0.000*\"spherical_atom\" + 0.000*\"order_nlo_susceptibility_chi\" + 0.000*\"rock_salt_spinel_derivative\" + 0.000*\"c_h_link_molecule\" + 0.000*\"x_ray_monochromator\" + 0.000*\"ncs_nbsp_noncrystallographic_symmetry\" + 0.000*\"minor_major_occupancy\" + 0.000*\"chelate_prime_ligand\" + 0.000*\"hardware_component\" + 0.000*\"crystal_growth_anomaly\"\n"
     ]
    },
    {
     "ename": "KeyboardInterrupt",
     "evalue": "",
     "output_type": "error",
     "traceback": [
      "\u001b[1;31m---------------------------------------------------------------------------\u001b[0m",
      "\u001b[1;31mKeyboardInterrupt\u001b[0m                         Traceback (most recent call last)",
      "\u001b[1;32m<ipython-input-57-3b377037f541>\u001b[0m in \u001b[0;36m<module>\u001b[1;34m\u001b[0m\n\u001b[0;32m      2\u001b[0m \u001b[1;33m\u001b[0m\u001b[0m\n\u001b[0;32m      3\u001b[0m \u001b[1;32mfor\u001b[0m \u001b[0mk\u001b[0m \u001b[1;32min\u001b[0m \u001b[0mrange\u001b[0m\u001b[1;33m(\u001b[0m\u001b[0mnumtops\u001b[0m\u001b[1;33m)\u001b[0m\u001b[1;33m:\u001b[0m\u001b[1;33m\u001b[0m\u001b[1;33m\u001b[0m\u001b[0m\n\u001b[1;32m----> 4\u001b[1;33m     \u001b[0mprint\u001b[0m\u001b[1;33m(\u001b[0m\u001b[0mlda_model\u001b[0m\u001b[1;33m.\u001b[0m\u001b[0mprint_topic\u001b[0m\u001b[1;33m(\u001b[0m\u001b[0mk\u001b[0m\u001b[1;33m)\u001b[0m\u001b[1;33m)\u001b[0m\u001b[1;33m\u001b[0m\u001b[1;33m\u001b[0m\u001b[0m\n\u001b[0m\u001b[0;32m      5\u001b[0m     \u001b[1;32mif\u001b[0m \u001b[0mstr\u001b[0m\u001b[1;33m(\u001b[0m\u001b[0mlda_model\u001b[0m\u001b[1;33m.\u001b[0m\u001b[0mprint_topic\u001b[0m\u001b[1;33m(\u001b[0m\u001b[0mk\u001b[0m\u001b[1;33m)\u001b[0m\u001b[1;33m)\u001b[0m \u001b[1;33m==\u001b[0m \u001b[1;34m\"\"\u001b[0m\u001b[1;33m:\u001b[0m\u001b[1;33m\u001b[0m\u001b[1;33m\u001b[0m\u001b[0m\n\u001b[0;32m      6\u001b[0m         \u001b[0mi\u001b[0m \u001b[1;33m+=\u001b[0m \u001b[1;36m1\u001b[0m\u001b[1;33m\u001b[0m\u001b[1;33m\u001b[0m\u001b[0m\n",
      "\u001b[1;32m~\\AppData\\Local\\Continuum\\anaconda3\\lib\\site-packages\\gensim\\models\\basemodel.py\u001b[0m in \u001b[0;36mprint_topic\u001b[1;34m(self, topicno, topn)\u001b[0m\n\u001b[0;32m     16\u001b[0m \u001b[1;33m\u001b[0m\u001b[0m\n\u001b[0;32m     17\u001b[0m         \"\"\"\n\u001b[1;32m---> 18\u001b[1;33m         \u001b[1;32mreturn\u001b[0m \u001b[1;34m' + '\u001b[0m\u001b[1;33m.\u001b[0m\u001b[0mjoin\u001b[0m\u001b[1;33m(\u001b[0m\u001b[1;33m[\u001b[0m\u001b[1;34m'%.3f*\"%s\"'\u001b[0m \u001b[1;33m%\u001b[0m \u001b[1;33m(\u001b[0m\u001b[0mv\u001b[0m\u001b[1;33m,\u001b[0m \u001b[0mk\u001b[0m\u001b[1;33m)\u001b[0m \u001b[1;32mfor\u001b[0m \u001b[0mk\u001b[0m\u001b[1;33m,\u001b[0m \u001b[0mv\u001b[0m \u001b[1;32min\u001b[0m \u001b[0mself\u001b[0m\u001b[1;33m.\u001b[0m\u001b[0mshow_topic\u001b[0m\u001b[1;33m(\u001b[0m\u001b[0mtopicno\u001b[0m\u001b[1;33m,\u001b[0m \u001b[0mtopn\u001b[0m\u001b[1;33m)\u001b[0m\u001b[1;33m]\u001b[0m\u001b[1;33m)\u001b[0m\u001b[1;33m\u001b[0m\u001b[1;33m\u001b[0m\u001b[0m\n\u001b[0m\u001b[0;32m     19\u001b[0m \u001b[1;33m\u001b[0m\u001b[0m\n\u001b[0;32m     20\u001b[0m     \u001b[1;32mdef\u001b[0m \u001b[0mprint_topics\u001b[0m\u001b[1;33m(\u001b[0m\u001b[0mself\u001b[0m\u001b[1;33m,\u001b[0m \u001b[0mnum_topics\u001b[0m\u001b[1;33m=\u001b[0m\u001b[1;36m20\u001b[0m\u001b[1;33m,\u001b[0m \u001b[0mnum_words\u001b[0m\u001b[1;33m=\u001b[0m\u001b[1;36m10\u001b[0m\u001b[1;33m)\u001b[0m\u001b[1;33m:\u001b[0m\u001b[1;33m\u001b[0m\u001b[1;33m\u001b[0m\u001b[0m\n",
      "\u001b[1;32m~\\AppData\\Local\\Continuum\\anaconda3\\lib\\site-packages\\gensim\\models\\ldamodel.py\u001b[0m in \u001b[0;36mshow_topic\u001b[1;34m(self, topicid, topn)\u001b[0m\n\u001b[0;32m    903\u001b[0m             \u001b[0mwords\u001b[0m \u001b[1;32min\u001b[0m \u001b[0mtopic\u001b[0m\u001b[0;31m \u001b[0m\u001b[0;31m`\u001b[0m\u001b[0mtopicid\u001b[0m\u001b[0;31m`\u001b[0m\u001b[1;33m.\u001b[0m\u001b[1;33m\u001b[0m\u001b[1;33m\u001b[0m\u001b[0m\n\u001b[0;32m    904\u001b[0m         \"\"\"\n\u001b[1;32m--> 905\u001b[1;33m         \u001b[1;32mreturn\u001b[0m \u001b[1;33m[\u001b[0m\u001b[1;33m(\u001b[0m\u001b[0mself\u001b[0m\u001b[1;33m.\u001b[0m\u001b[0mid2word\u001b[0m\u001b[1;33m[\u001b[0m\u001b[0mid\u001b[0m\u001b[1;33m]\u001b[0m\u001b[1;33m,\u001b[0m \u001b[0mvalue\u001b[0m\u001b[1;33m)\u001b[0m \u001b[1;32mfor\u001b[0m \u001b[0mid\u001b[0m\u001b[1;33m,\u001b[0m \u001b[0mvalue\u001b[0m \u001b[1;32min\u001b[0m \u001b[0mself\u001b[0m\u001b[1;33m.\u001b[0m\u001b[0mget_topic_terms\u001b[0m\u001b[1;33m(\u001b[0m\u001b[0mtopicid\u001b[0m\u001b[1;33m,\u001b[0m \u001b[0mtopn\u001b[0m\u001b[1;33m)\u001b[0m\u001b[1;33m]\u001b[0m\u001b[1;33m\u001b[0m\u001b[1;33m\u001b[0m\u001b[0m\n\u001b[0m\u001b[0;32m    906\u001b[0m \u001b[1;33m\u001b[0m\u001b[0m\n\u001b[0;32m    907\u001b[0m     \u001b[1;32mdef\u001b[0m \u001b[0mget_topics\u001b[0m\u001b[1;33m(\u001b[0m\u001b[0mself\u001b[0m\u001b[1;33m)\u001b[0m\u001b[1;33m:\u001b[0m\u001b[1;33m\u001b[0m\u001b[1;33m\u001b[0m\u001b[0m\n",
      "\u001b[1;32m~\\AppData\\Local\\Continuum\\anaconda3\\lib\\site-packages\\gensim\\models\\ldamodel.py\u001b[0m in \u001b[0;36mget_topic_terms\u001b[1;34m(self, topicid, topn)\u001b[0m\n\u001b[0;32m    924\u001b[0m             \u001b[1;32min\u001b[0m \u001b[0mtopic\u001b[0m \u001b[1;32mwith\u001b[0m \u001b[0mid\u001b[0m\u001b[0;31m \u001b[0m\u001b[0;31m`\u001b[0m\u001b[0mtopicid\u001b[0m\u001b[0;31m`\u001b[0m\u001b[1;33m.\u001b[0m\u001b[1;33m\u001b[0m\u001b[1;33m\u001b[0m\u001b[0m\n\u001b[0;32m    925\u001b[0m         \"\"\"\n\u001b[1;32m--> 926\u001b[1;33m         \u001b[0mtopic\u001b[0m \u001b[1;33m=\u001b[0m \u001b[0mself\u001b[0m\u001b[1;33m.\u001b[0m\u001b[0mget_topics\u001b[0m\u001b[1;33m(\u001b[0m\u001b[1;33m)\u001b[0m\u001b[1;33m[\u001b[0m\u001b[0mtopicid\u001b[0m\u001b[1;33m]\u001b[0m\u001b[1;33m\u001b[0m\u001b[1;33m\u001b[0m\u001b[0m\n\u001b[0m\u001b[0;32m    927\u001b[0m         \u001b[0mtopic\u001b[0m \u001b[1;33m=\u001b[0m \u001b[0mtopic\u001b[0m \u001b[1;33m/\u001b[0m \u001b[0mtopic\u001b[0m\u001b[1;33m.\u001b[0m\u001b[0msum\u001b[0m\u001b[1;33m(\u001b[0m\u001b[1;33m)\u001b[0m  \u001b[1;31m# normalize to probability distribution\u001b[0m\u001b[1;33m\u001b[0m\u001b[1;33m\u001b[0m\u001b[0m\n\u001b[0;32m    928\u001b[0m         \u001b[0mbestn\u001b[0m \u001b[1;33m=\u001b[0m \u001b[0mmatutils\u001b[0m\u001b[1;33m.\u001b[0m\u001b[0margsort\u001b[0m\u001b[1;33m(\u001b[0m\u001b[0mtopic\u001b[0m\u001b[1;33m,\u001b[0m \u001b[0mtopn\u001b[0m\u001b[1;33m,\u001b[0m \u001b[0mreverse\u001b[0m\u001b[1;33m=\u001b[0m\u001b[1;32mTrue\u001b[0m\u001b[1;33m)\u001b[0m\u001b[1;33m\u001b[0m\u001b[1;33m\u001b[0m\u001b[0m\n",
      "\u001b[1;32m~\\AppData\\Local\\Continuum\\anaconda3\\lib\\site-packages\\gensim\\models\\ldamodel.py\u001b[0m in \u001b[0;36mget_topics\u001b[1;34m(self)\u001b[0m\n\u001b[0;32m    912\u001b[0m         \"\"\"\n\u001b[0;32m    913\u001b[0m         \u001b[0mtopics\u001b[0m \u001b[1;33m=\u001b[0m \u001b[0mself\u001b[0m\u001b[1;33m.\u001b[0m\u001b[0mstate\u001b[0m\u001b[1;33m.\u001b[0m\u001b[0mget_lambda\u001b[0m\u001b[1;33m(\u001b[0m\u001b[1;33m)\u001b[0m\u001b[1;33m\u001b[0m\u001b[1;33m\u001b[0m\u001b[0m\n\u001b[1;32m--> 914\u001b[1;33m         \u001b[1;32mreturn\u001b[0m \u001b[0mtopics\u001b[0m \u001b[1;33m/\u001b[0m \u001b[0mtopics\u001b[0m\u001b[1;33m.\u001b[0m\u001b[0msum\u001b[0m\u001b[1;33m(\u001b[0m\u001b[0maxis\u001b[0m\u001b[1;33m=\u001b[0m\u001b[1;36m1\u001b[0m\u001b[1;33m)\u001b[0m\u001b[1;33m[\u001b[0m\u001b[1;33m:\u001b[0m\u001b[1;33m,\u001b[0m \u001b[1;32mNone\u001b[0m\u001b[1;33m]\u001b[0m\u001b[1;33m\u001b[0m\u001b[1;33m\u001b[0m\u001b[0m\n\u001b[0m\u001b[0;32m    915\u001b[0m \u001b[1;33m\u001b[0m\u001b[0m\n\u001b[0;32m    916\u001b[0m     \u001b[1;32mdef\u001b[0m \u001b[0mget_topic_terms\u001b[0m\u001b[1;33m(\u001b[0m\u001b[0mself\u001b[0m\u001b[1;33m,\u001b[0m \u001b[0mtopicid\u001b[0m\u001b[1;33m,\u001b[0m \u001b[0mtopn\u001b[0m\u001b[1;33m=\u001b[0m\u001b[1;36m10\u001b[0m\u001b[1;33m)\u001b[0m\u001b[1;33m:\u001b[0m\u001b[1;33m\u001b[0m\u001b[1;33m\u001b[0m\u001b[0m\n",
      "\u001b[1;31mKeyboardInterrupt\u001b[0m: "
     ]
    }
   ],
   "source": [
    "i = 0\n",
    "\n",
    "for k in range(numtops):\n",
    "    print(lda_model.print_topic(k))\n",
    "    if str(lda_model.print_topic(k)) == \"\":\n",
    "        i += 1\n",
    "\n",
    "print(i)\n"
   ]
  },
  {
   "cell_type": "code",
   "execution_count": 59,
   "metadata": {},
   "outputs": [
    {
     "name": "stdout",
     "output_type": "stream",
     "text": [
      "[1.92209116e-02 1.41664816e-02 1.24024268e-02 7.56196550e-03\n",
      " 1.00789218e-02 9.86065819e-03 7.17395957e-03 5.30933128e-03\n",
      " 8.37878798e-03 6.26207712e-03 6.16043181e-03 7.04477746e-03\n",
      " 8.19584706e-03 7.79081995e-03 4.74463442e-03 8.11583898e-03\n",
      " 4.99237941e-03 2.41108747e-03 3.57759029e-03 4.08208116e-03\n",
      " 3.20183996e-03 3.37405786e-03 7.08039469e-03 3.89221532e-03\n",
      " 3.33616307e-03 5.34472191e-03 3.96005922e-03 4.35245701e-03\n",
      " 4.72550322e-03 4.64708717e-03 5.96457331e-03 7.33079313e-03\n",
      " 5.44996664e-03 3.99178520e-03 6.99751993e-03 5.77130301e-03\n",
      " 4.18191297e-03 3.31316151e-03 3.13282609e-03 4.45701412e-03\n",
      " 4.71449303e-03 6.09788799e-03 4.62936577e-03 3.07548994e-03\n",
      " 3.69855192e-03 3.20177384e-03 3.52135644e-03 4.26301955e-03\n",
      " 2.92128538e-03 4.39217653e-03 4.42843145e-03 3.94544145e-03\n",
      " 3.30937375e-03 4.19875357e-03 4.43512856e-03 2.12382384e-03\n",
      " 3.58949092e-03 4.57893829e-03 4.26674435e-03 2.33869385e-03\n",
      " 5.15515942e-03 2.81643390e-03 2.72286641e-03 2.81658657e-03\n",
      " 4.53828696e-03 4.03384065e-03 4.50127430e-03 2.33253110e-03\n",
      " 3.16557500e-03 3.58375714e-03 1.50359324e-03 3.27522479e-03\n",
      " 2.22294215e-03 2.18910946e-03 1.84320247e-03 5.36441918e-03\n",
      " 2.88502641e-03 2.50525265e-03 4.22275835e-03 2.40413690e-03\n",
      " 3.96947908e-03 2.70236752e-03 2.81171465e-03 2.13539908e-03\n",
      " 3.11432984e-03 1.44798445e-03 2.88830351e-03 1.83089869e-03\n",
      " 2.31058066e-03 3.98081533e-03 2.53562559e-03 3.68330653e-03\n",
      " 3.68437911e-03 2.71312989e-03 2.91938683e-03 4.35413707e-03\n",
      " 3.50497907e-03 3.08841060e-03 2.16519123e-03 3.36477693e-03\n",
      " 2.47647109e-03 2.20118087e-03 2.49588438e-03 2.92276241e-03\n",
      " 2.71249385e-03 3.58156936e-03 2.36093905e-03 3.71472526e-03\n",
      " 2.38654217e-03 2.39191046e-03 3.96935302e-03 2.26668185e-03\n",
      " 2.90750798e-03 2.28650060e-03 2.21823579e-03 2.97016760e-03\n",
      " 1.40675668e-03 2.22665780e-03 3.06199628e-03 3.51997985e-03\n",
      " 2.32446990e-03 2.50149414e-03 2.38658972e-03 2.31200074e-03\n",
      " 2.68918434e-03 3.42634785e-03 2.13417163e-03 2.14076356e-03\n",
      " 2.42144198e-03 1.55796574e-03 1.49682278e-03 1.35067564e-03\n",
      " 2.15656620e-03 2.70077067e-03 3.79152338e-03 2.29772236e-03\n",
      " 2.80145992e-03 2.27374847e-03 2.16782586e-03 2.15527912e-03\n",
      " 4.12867587e-03 2.82333297e-03 3.08825697e-03 1.51306651e-03\n",
      " 2.32598652e-03 2.06431780e-03 2.02603456e-03 2.81090736e-03\n",
      " 2.21934445e-03 2.23166038e-03 2.79187096e-03 1.49387428e-03\n",
      " 2.10904683e-03 2.09213021e-03 2.09107031e-03 2.88175082e-03\n",
      " 1.31019177e-03 1.96386605e-03 1.34554143e-03 1.96728368e-03\n",
      " 2.04660397e-03 3.09579029e-03 1.59640004e-03 1.99484126e-03\n",
      " 2.71065250e-03 1.66755290e-03 3.99059070e-03 2.76213352e-03\n",
      " 1.74082876e-03 1.56117132e-03 1.28373733e-03 1.51575536e-03\n",
      " 1.10076568e-03 2.36764492e-03 1.34940303e-03 1.80979785e-03\n",
      " 2.12667329e-03 1.98944402e-03 1.37885065e-03 2.08381391e-03\n",
      " 2.09959016e-03 1.93274246e-03 1.25263205e-03 2.67359275e-03\n",
      " 1.53126836e-03 2.02910629e-03 1.63799367e-03 2.05203037e-03\n",
      " 1.39421930e-03 1.26394356e-03 2.16311134e-03 1.89558108e-03\n",
      " 1.88969849e-03 1.89513765e-03 1.61495823e-03 2.11846080e-03\n",
      " 3.71863293e-03 1.46022989e-03 1.86473383e-03 1.85801165e-03\n",
      " 2.50187603e-03 1.86273876e-03 1.74102291e-03 1.24038359e-03\n",
      " 1.29725017e-03 1.83729265e-03 1.39348903e-03 1.31744489e-03\n",
      " 1.21865979e-03 1.68483866e-03 2.17750114e-03 1.91414383e-03\n",
      " 1.21060324e-03 2.37748815e-03 1.74286052e-03 1.18684054e-03\n",
      " 1.59565844e-03 1.92068771e-03 1.86838542e-03 1.21474013e-03\n",
      " 1.36260578e-03 1.98273165e-03 3.00362503e-03 2.12543789e-03\n",
      " 1.17337132e-03 1.41406342e-03 1.85205578e-03 1.84743821e-03\n",
      " 1.88876546e-03 1.78642984e-03 2.91702043e-03 1.79875366e-03\n",
      " 1.87533882e-03 1.21416721e-03 1.61574639e-03 1.63275338e-03\n",
      " 1.86831873e-03 1.29965453e-03 1.13485509e-03 1.60853488e-03\n",
      " 1.12278572e-03 1.27599795e-03 1.13169019e-03 1.11595482e-03\n",
      " 1.80238638e-03 1.20782691e-03 1.40181204e-03 1.14456943e-03\n",
      " 1.74741146e-03 1.65100729e-03 1.41390718e-03 1.08685957e-03\n",
      " 1.18130277e-03 1.28685295e-03 1.40454722e-03 1.08527687e-03\n",
      " 1.37573386e-03 1.57054067e-03 1.09348563e-03 1.01150677e-03\n",
      " 1.19426479e-03 1.08728446e-03 1.10198036e-03 1.10845239e-03\n",
      " 1.16223056e-03 1.15155091e-03 1.06682138e-03 1.05448449e-03\n",
      " 1.05819065e-03 1.50710241e-03 1.09989808e-03 8.77535481e-04\n",
      " 1.10201261e-03 1.08894249e-03 1.81001764e-03 1.17694690e-03\n",
      " 9.03487737e-04 1.03431170e-03 1.02932376e-03 1.07398378e-03\n",
      " 1.56713937e-03 1.46206438e-03 1.28268750e-03 1.02477326e-03\n",
      " 1.29272832e-03 1.37018735e-03 1.13857072e-03 1.51305267e-03\n",
      " 1.08581953e-03 1.44213479e-03 1.02072455e-03 2.26066605e-03\n",
      " 1.46176909e-03 1.16853049e-03 1.03217032e-03 1.12509674e-03\n",
      " 1.56209153e-03 6.93683712e-04 1.00366467e-03 9.88181812e-04\n",
      " 5.42372947e-04 1.06650114e-03 5.12592067e-04 1.38877668e-03\n",
      " 1.62903208e-03 9.65302980e-04 1.83038038e-03 5.42680903e-04\n",
      " 9.59525388e-04 5.08160151e-04 9.42672356e-04 9.95693697e-04\n",
      " 9.35779460e-04 1.03666403e-03 1.03423890e-03 1.50400738e-03\n",
      " 5.00131950e-04 9.82425317e-04 1.21209862e-03 9.47148493e-04\n",
      " 9.23042672e-04 1.01020715e-03 1.01681904e-03 1.36818267e-03\n",
      " 9.10000428e-04 5.18903045e-04 1.00569772e-03 1.40775552e-03\n",
      " 9.94283753e-04 9.98836856e-04 1.82619818e-03 9.03043282e-04\n",
      " 9.27192998e-04 5.57051085e-04 9.70795341e-04 8.93334726e-04\n",
      " 7.10380048e-04 1.38230277e-03 7.85855842e-04 8.81089923e-04\n",
      " 1.83653385e-03 1.69558695e-03 8.77624506e-04 1.42703662e-03\n",
      " 8.70333848e-04 8.49646274e-04 1.16837413e-03 8.46289989e-04\n",
      " 5.26889368e-04 9.26145362e-04 8.15464160e-04 8.70886549e-04\n",
      " 8.90211156e-04 8.36530768e-04 1.04108060e-03 1.25674806e-03\n",
      " 5.04347238e-04 4.65738008e-04 6.43359123e-04 9.29853651e-04\n",
      " 8.86125174e-04 9.00769019e-04 9.57292002e-04 8.95937192e-04\n",
      " 9.12606355e-04 8.02162858e-04 4.84531093e-04 1.21561834e-03\n",
      " 6.07286840e-04 1.25116375e-03 7.02485845e-04 1.35859474e-03\n",
      " 8.14502276e-04 1.17101577e-03 1.20321061e-03 1.06819741e-03\n",
      " 8.03901311e-04 7.70916986e-04 3.85019203e-04 1.32809462e-03\n",
      " 3.91233073e-04 8.02155874e-04 8.25423582e-04 4.00386647e-04\n",
      " 9.81362821e-04 7.23217652e-04 5.36983618e-04 3.94110638e-04\n",
      " 7.19857478e-04 4.16526581e-04 8.08875265e-04 5.12347506e-04\n",
      " 3.91285912e-04 3.89917582e-04 1.16355004e-03 1.23552705e-03\n",
      " 6.73460453e-04 1.14840166e-03 4.13954686e-04 7.32549916e-04\n",
      " 4.50622538e-04 7.68545270e-04 4.16945797e-04 9.09170561e-04\n",
      " 3.57643569e-04 1.06145704e-03 3.67304977e-04 5.81418132e-04\n",
      " 3.73128420e-04 3.39631231e-04 7.30648993e-04 5.38788967e-04\n",
      " 6.45427294e-04 3.36549035e-04 9.22173034e-04 7.61501768e-04\n",
      " 6.65826541e-04 6.59508255e-04 3.86536123e-04 6.44992146e-04\n",
      " 3.99632669e-04 7.15900673e-04 8.19543434e-04 8.23159886e-04\n",
      " 7.32968630e-04 9.57477871e-04 1.02066202e-03 3.27578758e-04\n",
      " 8.81883567e-04 3.12265852e-04 6.30127110e-04 6.36978533e-04\n",
      " 9.54955799e-04 4.07158283e-04 3.18894141e-04 4.59937188e-04\n",
      " 3.02593126e-04 6.04827750e-04 3.31286841e-04 4.35579035e-04\n",
      " 5.96644782e-04 6.06188451e-04 3.28102176e-04 7.12331075e-04\n",
      " 8.68705253e-04 4.91013285e-04 3.06676763e-04 5.46747043e-04\n",
      " 5.32800334e-04 2.84112414e-04 6.52985909e-04 6.31865098e-04\n",
      " 2.84514863e-04 3.81452912e-04 2.98541870e-04 5.56253763e-04\n",
      " 2.95575264e-04 2.75739211e-04 2.88482167e-04 2.97088728e-04\n",
      " 2.70119581e-04 4.98437767e-04 3.02787644e-04 5.41072951e-04\n",
      " 5.60293838e-04 5.27406586e-04 5.47876309e-04 3.91678625e-04\n",
      " 2.93718605e-04 2.61030616e-04 2.56784908e-04 5.92083745e-04\n",
      " 5.18787867e-04 5.26267290e-04 5.15132165e-04 4.56317579e-04\n",
      " 5.08103573e-04 2.50256940e-04 8.03550124e-04 4.99090796e-04\n",
      " 5.22380054e-04 2.63049585e-04 7.47094534e-04 8.67544282e-04\n",
      " 2.69688493e-04 8.67156474e-04 4.83058239e-04 5.22742663e-04\n",
      " 3.17730172e-04 4.73867040e-04 2.30067917e-04 2.60041161e-04\n",
      " 2.51550530e-04 4.62308392e-04 5.42756949e-04 5.22829067e-04\n",
      " 4.95006222e-04 2.20463395e-04 2.20508461e-04 4.90531086e-04\n",
      " 4.56727105e-04 4.33522532e-04 4.78935438e-04 4.76229540e-04\n",
      " 2.26373018e-04 3.99297874e-04 4.71342634e-04 3.89603433e-04\n",
      " 2.11907776e-04 2.06533401e-04 2.04108857e-04 2.30572554e-04\n",
      " 2.09194131e-04 4.16655527e-04 2.03424726e-04 3.95596608e-04\n",
      " 2.33575198e-04 2.08370920e-04 4.07046884e-04 3.53587715e-04\n",
      " 1.93084250e-04 1.90727253e-04 2.85708932e-04 2.14618079e-04\n",
      " 3.77279427e-04 1.85650155e-04 3.08370689e-04 1.96668675e-04\n",
      " 1.94267359e-04 4.82181422e-04 1.96463376e-04 2.13736190e-04\n",
      " 1.96446392e-04 1.75908609e-04 1.74753992e-04 1.97441203e-04\n",
      " 5.43507351e-04 3.10425545e-04 3.89066364e-04 1.93237213e-04\n",
      " 2.81262050e-04 1.69952884e-04 2.32432463e-04 3.35191011e-04\n",
      " 4.63192378e-04 2.89028037e-04 1.60323659e-04 3.25362032e-04\n",
      " 1.71948969e-04 1.70953688e-04 3.41195964e-04 1.55564038e-04\n",
      " 3.13045613e-04 1.64840930e-04 4.14658686e-04 3.06927869e-04\n",
      " 3.75839880e-04 1.48117605e-04 3.19333016e-04 1.47135058e-04\n",
      " 3.58885845e-04 1.71004122e-04 1.43163298e-04 1.42665502e-04\n",
      " 2.90829435e-04 3.09996919e-04 2.43511364e-04 2.78015367e-04\n",
      " 2.35266512e-04 1.41446631e-04 1.43490051e-04 1.35888206e-04\n",
      " 1.42172894e-04 2.84244198e-04 2.63013511e-04 2.40128790e-04\n",
      " 1.98253903e-04 1.41010271e-04 2.57615701e-04 1.28587441e-04\n",
      " 2.46617556e-04 1.30770410e-04 1.86357855e-04 1.35692596e-04\n",
      " 1.19873363e-04 1.19367016e-04 2.64998290e-04 1.18275575e-04\n",
      " 2.13527240e-04 1.18823906e-04 2.31128767e-04 1.12255200e-04\n",
      " 2.27912873e-04 1.12954327e-04 2.37121955e-04 2.21770826e-04\n",
      " 2.01337280e-04 1.18031969e-04 1.12388663e-04 1.04720810e-04\n",
      " 1.03616489e-04 1.02944904e-04 1.06405305e-04 1.01254806e-04\n",
      " 2.29924719e-04 9.98428591e-05 9.86164302e-05 1.42252809e-04\n",
      " 1.02922957e-04 1.98099716e-04 9.58030273e-05 2.44412143e-04\n",
      " 1.06030634e-04 9.21159355e-05 1.91784664e-04 1.02179538e-04\n",
      " 8.93165906e-05 8.87292490e-05 8.84078484e-05 8.90044486e-05\n",
      " 1.84482622e-04 8.71960205e-05 1.93609396e-04 9.02420737e-05\n",
      " 8.94764639e-05 8.18860815e-05 1.66589303e-04 1.77843920e-04\n",
      " 8.01691568e-05 2.83476908e-04 9.55265940e-05 1.56228802e-04\n",
      " 2.33827687e-04 1.60832590e-04 7.47248927e-05 1.15261298e-04\n",
      " 2.18647103e-04 7.29064216e-05 1.35108166e-04 7.40489454e-05\n",
      " 9.23857024e-05 6.90890610e-05 7.44814395e-05 6.76255480e-05\n",
      " 7.12778274e-05 1.96478656e-04 1.40157620e-04 1.36842569e-04\n",
      " 6.83556019e-05 6.75833592e-05 8.04633327e-05 6.14438703e-05\n",
      " 6.50621546e-05 1.56750308e-04 7.87691590e-05 7.58951223e-05\n",
      " 6.01008596e-05 6.15190576e-05 5.87679867e-05 5.66723374e-05\n",
      " 5.50637129e-05 6.39487727e-05 5.46456991e-05 5.32569174e-05\n",
      " 6.45850114e-05 1.03940739e-04 5.45690132e-05 5.47061076e-05\n",
      " 5.00062561e-05 5.33139398e-05 5.44885275e-05 7.66988534e-05\n",
      " 4.74604670e-05 6.27317235e-05 5.10419633e-05 7.22574092e-05\n",
      " 5.79631339e-05 4.58908645e-05 4.49574145e-05 4.70060681e-05\n",
      " 4.26891402e-05 4.33311377e-05 4.15791024e-05 5.31086415e-05\n",
      " 4.27205054e-05 5.55817349e-05 8.05498491e-05 3.99462768e-05\n",
      " 3.85400933e-05 3.89739836e-05 3.86172197e-05 7.56393547e-05\n",
      " 3.70823043e-05 3.59267554e-05 5.31765368e-05 3.50138014e-05\n",
      " 3.45787025e-05 6.92028140e-05 3.47452306e-05 9.84682928e-05\n",
      " 6.53749551e-05 3.29713626e-05 3.19185234e-05 3.12708620e-05\n",
      " 3.31369287e-05 3.05849697e-05 3.08897936e-05 5.54984442e-05\n",
      " 4.92670093e-05 2.86757042e-05 4.46204660e-05 2.78580438e-05\n",
      " 2.75631365e-05 2.91695555e-05 5.25834206e-05 2.61229980e-05\n",
      " 2.59006121e-05 2.71465559e-05 3.18338114e-05 2.45954016e-05\n",
      " 2.43540466e-05 5.66352957e-05 4.55941091e-05 2.67980963e-05\n",
      " 2.27063075e-05 2.29404463e-05 3.16630205e-05 2.16778186e-05\n",
      " 2.32054843e-05 2.91402904e-05 2.07587949e-05 2.05596647e-05\n",
      " 5.87837949e-05 2.12550570e-05 1.93263334e-05 2.02929738e-05\n",
      " 2.00421382e-05 1.84258407e-05 1.82708125e-05 1.77271792e-05\n",
      " 1.74242456e-05 1.71430718e-05 1.72075591e-05 1.78322259e-05\n",
      " 2.04680224e-05 1.60424837e-05 1.57923067e-05 1.54699611e-05\n",
      " 1.52298889e-05 1.49488840e-05 1.65881783e-05 1.44693048e-05\n",
      " 2.91013578e-05 1.60863007e-05 2.79287379e-05 1.36395321e-05\n",
      " 2.42396825e-05 1.64187862e-05 1.30983483e-05 1.28032968e-05\n",
      " 1.23718844e-05 1.55878021e-05 2.41490159e-05 1.16615010e-05\n",
      " 1.16533593e-05 1.15196445e-05 1.32401347e-05 1.08039377e-05\n",
      " 1.14347011e-05 1.37749185e-05 2.09565645e-05 1.00135716e-05\n",
      " 9.85512233e-06 9.66204384e-06 1.01788514e-05 9.53014131e-06\n",
      " 9.48060372e-06 9.29116525e-06 1.93749930e-05 1.43560410e-05\n",
      " 1.55886559e-05 8.23303901e-06 8.50602628e-06 1.61440229e-05\n",
      " 7.73527301e-06 7.56977437e-06 7.94392273e-06 2.24483871e-05\n",
      " 7.13655524e-06 6.94412067e-06 6.83836342e-06 6.70558960e-06\n",
      " 9.46952255e-06 6.36912033e-06 6.66551132e-06 6.11114748e-06\n",
      " 6.13708814e-06 6.25443522e-06 1.59352221e-05 5.57870884e-06\n",
      " 8.51717390e-06 5.35020862e-06 1.05987028e-05 5.04534347e-06\n",
      " 5.90034492e-06 4.81417316e-06 4.68493229e-06 4.79978936e-06\n",
      " 4.46050872e-06 4.46343477e-06 5.03555344e-06 4.59687296e-06\n",
      " 4.04979905e-06 5.71230528e-06 3.87888522e-06 3.86374785e-06\n",
      " 7.42371624e-06 5.52482048e-06 3.95469290e-06 3.39352511e-06\n",
      " 3.29176098e-06 6.77532537e-06 3.14639597e-06 3.06413055e-06\n",
      " 2.95437037e-06 5.36382581e-06 3.18841690e-06 2.92279884e-06\n",
      " 2.65694131e-06 4.44831807e-06 2.87696299e-06 3.20438369e-06\n",
      " 2.35653523e-06 4.70460493e-06 3.25810659e-06 2.16629946e-06\n",
      " 2.09538845e-06 2.18868600e-06 2.10344189e-06 2.59336690e-06\n",
      " 1.85980064e-06 1.79140619e-06 1.73851246e-06 1.68898799e-06\n",
      " 1.68651032e-06 1.58210931e-06 1.69336250e-06 3.50653770e-06\n",
      " 1.44269757e-06 1.47999980e-06 1.45004169e-06 1.31800492e-06\n",
      " 1.30002929e-06 1.22092341e-06 1.19251943e-06 1.62506994e-06\n",
      " 1.18129614e-06 1.19111187e-06 1.12877705e-06 1.07891715e-06\n",
      " 9.82401123e-07 1.04300310e-06 9.04989787e-07 8.87356514e-07\n",
      " 8.75435049e-07 9.34860890e-07 1.25139549e-06 8.19733383e-07\n",
      " 7.42857181e-07 7.56466208e-07 6.83576969e-07 6.59684978e-07\n",
      " 6.46900720e-07 7.03312320e-07 1.20880147e-06 5.73002523e-07\n",
      " 9.35937711e-07 1.13045747e-06 5.26459565e-07 4.89180499e-07\n",
      " 5.12683823e-07 4.52775040e-07 4.64794799e-07 4.18688752e-07\n",
      " 1.24167380e-06 6.81936877e-07 4.22903555e-07 7.10999172e-07\n",
      " 3.36283086e-07 5.76075865e-07 3.01617591e-07 2.88285576e-07\n",
      " 2.75888523e-07 2.84908074e-07 3.00788287e-07 3.23012250e-07\n",
      " 2.22074025e-07 2.12626842e-07 1.99935446e-07 3.97088520e-07\n",
      " 1.91730076e-07 1.70199564e-07 1.63966535e-07 1.52847382e-07\n",
      " 3.17223036e-07 1.69439968e-07 2.57052082e-07 1.36621323e-07\n",
      " 1.11532166e-07 1.06247375e-07 9.72349112e-08 9.09559065e-08\n",
      " 8.58877846e-08 1.61697180e-07 7.50234343e-08 6.87946493e-08\n",
      " 6.61470052e-08 1.82811287e-07 7.00953011e-08 9.50839831e-08\n",
      " 4.56007447e-08 4.15527683e-08 3.75292350e-08 6.95813793e-08\n",
      " 3.06025271e-08 5.48146584e-08 2.43069573e-08 2.15383232e-08\n",
      " 1.99219823e-08 1.71584933e-08 1.57505361e-08 1.35644070e-08\n",
      " 2.36925141e-08 1.02011132e-08 8.93504670e-09 7.60513566e-09\n",
      " 7.14274666e-09 5.65168009e-09 4.88598987e-09 4.20933892e-09\n",
      " 3.63601988e-09 3.19702854e-09 4.01671114e-09 2.52814489e-09\n",
      " 1.96386767e-09 1.67397474e-09 1.41487365e-09 1.19482897e-09\n",
      " 1.01191458e-09 8.69028104e-10 1.18391011e-09 7.03055901e-10\n",
      " 5.35354457e-10 4.08928877e-10 3.36189460e-10 2.75961418e-10\n",
      " 2.38413975e-10 1.85585466e-10 1.51985937e-10 1.24581659e-10\n",
      " 1.01721869e-10 8.36044760e-11 6.79462097e-11 5.65578896e-11\n",
      " 4.53103123e-11 3.96976911e-11 2.99699605e-11 2.48832942e-11\n",
      " 1.97293001e-11 1.72343973e-11 1.31554559e-11 1.04615464e-11\n",
      " 8.66599909e-12 7.13459318e-12 5.59802404e-12 4.29834809e-12\n",
      " 3.45326299e-12 2.75430073e-12 2.28271701e-12 1.73455171e-12\n",
      " 2.30617902e-12 1.08369403e-12 8.62242643e-13 5.91960819e-13\n",
      " 4.45912589e-13 3.31547480e-13 2.89047993e-13 2.01491548e-13\n",
      " 1.32931719e-13 9.62218194e-14 7.97566636e-14 5.05302627e-14\n",
      " 3.58653955e-14 2.51501664e-14 1.80091473e-14 2.84141006e-14\n",
      " 6.55651319e-15 3.53405943e-15 1.75569995e-15 1.76315241e-15]\n"
     ]
    }
   ],
   "source": [
    "print(hdp.hdp_to_lda()[0])"
   ]
  },
  {
   "cell_type": "code",
   "execution_count": 58,
   "metadata": {},
   "outputs": [
    {
     "ename": "KeyboardInterrupt",
     "evalue": "",
     "output_type": "error",
     "traceback": [
      "\u001b[1;31m---------------------------------------------------------------------------\u001b[0m",
      "\u001b[1;31mKeyboardInterrupt\u001b[0m                         Traceback (most recent call last)",
      "\u001b[1;32m<ipython-input-58-9cd204dfb172>\u001b[0m in \u001b[0;36m<module>\u001b[1;34m\u001b[0m\n\u001b[0;32m      2\u001b[0m \u001b[0mtop_words_per_topic\u001b[0m \u001b[1;33m=\u001b[0m \u001b[1;33m[\u001b[0m\u001b[1;33m]\u001b[0m\u001b[1;33m\u001b[0m\u001b[1;33m\u001b[0m\u001b[0m\n\u001b[0;32m      3\u001b[0m \u001b[1;32mfor\u001b[0m \u001b[0mt\u001b[0m \u001b[1;32min\u001b[0m \u001b[0mrange\u001b[0m\u001b[1;33m(\u001b[0m\u001b[0mlda_model\u001b[0m\u001b[1;33m.\u001b[0m\u001b[0mnum_topics\u001b[0m\u001b[1;33m)\u001b[0m\u001b[1;33m:\u001b[0m\u001b[1;33m\u001b[0m\u001b[1;33m\u001b[0m\u001b[0m\n\u001b[1;32m----> 4\u001b[1;33m     \u001b[0mtop_words_per_topic\u001b[0m\u001b[1;33m.\u001b[0m\u001b[0mextend\u001b[0m\u001b[1;33m(\u001b[0m\u001b[1;33m[\u001b[0m\u001b[1;33m(\u001b[0m\u001b[0mt\u001b[0m\u001b[1;33m,\u001b[0m \u001b[1;33m)\u001b[0m \u001b[1;33m+\u001b[0m \u001b[0mx\u001b[0m \u001b[1;32mfor\u001b[0m \u001b[0mx\u001b[0m \u001b[1;32min\u001b[0m \u001b[0mlda_model\u001b[0m\u001b[1;33m.\u001b[0m\u001b[0mshow_topic\u001b[0m\u001b[1;33m(\u001b[0m\u001b[0mt\u001b[0m\u001b[1;33m,\u001b[0m \u001b[0mtopn\u001b[0m \u001b[1;33m=\u001b[0m \u001b[1;36m10\u001b[0m\u001b[1;33m)\u001b[0m\u001b[1;33m]\u001b[0m\u001b[1;33m)\u001b[0m\u001b[1;33m\u001b[0m\u001b[1;33m\u001b[0m\u001b[0m\n\u001b[0m\u001b[0;32m      5\u001b[0m \u001b[1;33m\u001b[0m\u001b[0m\n\u001b[0;32m      6\u001b[0m \u001b[0mpd\u001b[0m\u001b[1;33m.\u001b[0m\u001b[0mDataFrame\u001b[0m\u001b[1;33m(\u001b[0m\u001b[0mtop_words_per_topic\u001b[0m\u001b[1;33m,\u001b[0m \u001b[0mcolumns\u001b[0m\u001b[1;33m=\u001b[0m\u001b[1;33m[\u001b[0m\u001b[1;34m'Topic'\u001b[0m\u001b[1;33m,\u001b[0m \u001b[1;34m'Word'\u001b[0m\u001b[1;33m,\u001b[0m \u001b[1;34m'P'\u001b[0m\u001b[1;33m]\u001b[0m\u001b[1;33m)\u001b[0m\u001b[1;33m.\u001b[0m\u001b[0mto_csv\u001b[0m\u001b[1;33m(\u001b[0m\u001b[1;34m\"topics.csv\"\u001b[0m\u001b[1;33m)\u001b[0m\u001b[1;33m\u001b[0m\u001b[1;33m\u001b[0m\u001b[0m\n",
      "\u001b[1;32m~\\AppData\\Local\\Continuum\\anaconda3\\lib\\site-packages\\gensim\\models\\ldamodel.py\u001b[0m in \u001b[0;36mshow_topic\u001b[1;34m(self, topicid, topn)\u001b[0m\n\u001b[0;32m    903\u001b[0m             \u001b[0mwords\u001b[0m \u001b[1;32min\u001b[0m \u001b[0mtopic\u001b[0m\u001b[0;31m \u001b[0m\u001b[0;31m`\u001b[0m\u001b[0mtopicid\u001b[0m\u001b[0;31m`\u001b[0m\u001b[1;33m.\u001b[0m\u001b[1;33m\u001b[0m\u001b[1;33m\u001b[0m\u001b[0m\n\u001b[0;32m    904\u001b[0m         \"\"\"\n\u001b[1;32m--> 905\u001b[1;33m         \u001b[1;32mreturn\u001b[0m \u001b[1;33m[\u001b[0m\u001b[1;33m(\u001b[0m\u001b[0mself\u001b[0m\u001b[1;33m.\u001b[0m\u001b[0mid2word\u001b[0m\u001b[1;33m[\u001b[0m\u001b[0mid\u001b[0m\u001b[1;33m]\u001b[0m\u001b[1;33m,\u001b[0m \u001b[0mvalue\u001b[0m\u001b[1;33m)\u001b[0m \u001b[1;32mfor\u001b[0m \u001b[0mid\u001b[0m\u001b[1;33m,\u001b[0m \u001b[0mvalue\u001b[0m \u001b[1;32min\u001b[0m \u001b[0mself\u001b[0m\u001b[1;33m.\u001b[0m\u001b[0mget_topic_terms\u001b[0m\u001b[1;33m(\u001b[0m\u001b[0mtopicid\u001b[0m\u001b[1;33m,\u001b[0m \u001b[0mtopn\u001b[0m\u001b[1;33m)\u001b[0m\u001b[1;33m]\u001b[0m\u001b[1;33m\u001b[0m\u001b[1;33m\u001b[0m\u001b[0m\n\u001b[0m\u001b[0;32m    906\u001b[0m \u001b[1;33m\u001b[0m\u001b[0m\n\u001b[0;32m    907\u001b[0m     \u001b[1;32mdef\u001b[0m \u001b[0mget_topics\u001b[0m\u001b[1;33m(\u001b[0m\u001b[0mself\u001b[0m\u001b[1;33m)\u001b[0m\u001b[1;33m:\u001b[0m\u001b[1;33m\u001b[0m\u001b[1;33m\u001b[0m\u001b[0m\n",
      "\u001b[1;32m~\\AppData\\Local\\Continuum\\anaconda3\\lib\\site-packages\\gensim\\models\\ldamodel.py\u001b[0m in \u001b[0;36mget_topic_terms\u001b[1;34m(self, topicid, topn)\u001b[0m\n\u001b[0;32m    924\u001b[0m             \u001b[1;32min\u001b[0m \u001b[0mtopic\u001b[0m \u001b[1;32mwith\u001b[0m \u001b[0mid\u001b[0m\u001b[0;31m \u001b[0m\u001b[0;31m`\u001b[0m\u001b[0mtopicid\u001b[0m\u001b[0;31m`\u001b[0m\u001b[1;33m.\u001b[0m\u001b[1;33m\u001b[0m\u001b[1;33m\u001b[0m\u001b[0m\n\u001b[0;32m    925\u001b[0m         \"\"\"\n\u001b[1;32m--> 926\u001b[1;33m         \u001b[0mtopic\u001b[0m \u001b[1;33m=\u001b[0m \u001b[0mself\u001b[0m\u001b[1;33m.\u001b[0m\u001b[0mget_topics\u001b[0m\u001b[1;33m(\u001b[0m\u001b[1;33m)\u001b[0m\u001b[1;33m[\u001b[0m\u001b[0mtopicid\u001b[0m\u001b[1;33m]\u001b[0m\u001b[1;33m\u001b[0m\u001b[1;33m\u001b[0m\u001b[0m\n\u001b[0m\u001b[0;32m    927\u001b[0m         \u001b[0mtopic\u001b[0m \u001b[1;33m=\u001b[0m \u001b[0mtopic\u001b[0m \u001b[1;33m/\u001b[0m \u001b[0mtopic\u001b[0m\u001b[1;33m.\u001b[0m\u001b[0msum\u001b[0m\u001b[1;33m(\u001b[0m\u001b[1;33m)\u001b[0m  \u001b[1;31m# normalize to probability distribution\u001b[0m\u001b[1;33m\u001b[0m\u001b[1;33m\u001b[0m\u001b[0m\n\u001b[0;32m    928\u001b[0m         \u001b[0mbestn\u001b[0m \u001b[1;33m=\u001b[0m \u001b[0mmatutils\u001b[0m\u001b[1;33m.\u001b[0m\u001b[0margsort\u001b[0m\u001b[1;33m(\u001b[0m\u001b[0mtopic\u001b[0m\u001b[1;33m,\u001b[0m \u001b[0mtopn\u001b[0m\u001b[1;33m,\u001b[0m \u001b[0mreverse\u001b[0m\u001b[1;33m=\u001b[0m\u001b[1;32mTrue\u001b[0m\u001b[1;33m)\u001b[0m\u001b[1;33m\u001b[0m\u001b[1;33m\u001b[0m\u001b[0m\n",
      "\u001b[1;32m~\\AppData\\Local\\Continuum\\anaconda3\\lib\\site-packages\\gensim\\models\\ldamodel.py\u001b[0m in \u001b[0;36mget_topics\u001b[1;34m(self)\u001b[0m\n\u001b[0;32m    912\u001b[0m         \"\"\"\n\u001b[0;32m    913\u001b[0m         \u001b[0mtopics\u001b[0m \u001b[1;33m=\u001b[0m \u001b[0mself\u001b[0m\u001b[1;33m.\u001b[0m\u001b[0mstate\u001b[0m\u001b[1;33m.\u001b[0m\u001b[0mget_lambda\u001b[0m\u001b[1;33m(\u001b[0m\u001b[1;33m)\u001b[0m\u001b[1;33m\u001b[0m\u001b[1;33m\u001b[0m\u001b[0m\n\u001b[1;32m--> 914\u001b[1;33m         \u001b[1;32mreturn\u001b[0m \u001b[0mtopics\u001b[0m \u001b[1;33m/\u001b[0m \u001b[0mtopics\u001b[0m\u001b[1;33m.\u001b[0m\u001b[0msum\u001b[0m\u001b[1;33m(\u001b[0m\u001b[0maxis\u001b[0m\u001b[1;33m=\u001b[0m\u001b[1;36m1\u001b[0m\u001b[1;33m)\u001b[0m\u001b[1;33m[\u001b[0m\u001b[1;33m:\u001b[0m\u001b[1;33m,\u001b[0m \u001b[1;32mNone\u001b[0m\u001b[1;33m]\u001b[0m\u001b[1;33m\u001b[0m\u001b[1;33m\u001b[0m\u001b[0m\n\u001b[0m\u001b[0;32m    915\u001b[0m \u001b[1;33m\u001b[0m\u001b[0m\n\u001b[0;32m    916\u001b[0m     \u001b[1;32mdef\u001b[0m \u001b[0mget_topic_terms\u001b[0m\u001b[1;33m(\u001b[0m\u001b[0mself\u001b[0m\u001b[1;33m,\u001b[0m \u001b[0mtopicid\u001b[0m\u001b[1;33m,\u001b[0m \u001b[0mtopn\u001b[0m\u001b[1;33m=\u001b[0m\u001b[1;36m10\u001b[0m\u001b[1;33m)\u001b[0m\u001b[1;33m:\u001b[0m\u001b[1;33m\u001b[0m\u001b[1;33m\u001b[0m\u001b[0m\n",
      "\u001b[1;31mKeyboardInterrupt\u001b[0m: "
     ]
    }
   ],
   "source": [
    "\n",
    "top_words_per_topic = []\n",
    "for t in range(lda_model.num_topics):\n",
    "    top_words_per_topic.extend([(t, ) + x for x in lda_model.show_topic(t, topn = 10)])\n",
    "\n",
    "terms = pd.DataFrame(top_words_per_topic, columns=['Topic', 'Word', 'P']).to_csv(\"topics.csv\", mode='a', header=False)\n"
   ]
  },
  {
   "cell_type": "markdown",
   "metadata": {},
   "source": [
    "### Visualization"
   ]
  },
  {
   "cell_type": "code",
   "execution_count": 53,
   "metadata": {},
   "outputs": [
    {
     "name": "stderr",
     "output_type": "stream",
     "text": [
      "C:\\Users\\pjz1\\AppData\\Local\\Continuum\\anaconda3\\lib\\site-packages\\pyLDAvis\\_prepare.py:257: FutureWarning: Sorting because non-concatenation axis is not aligned. A future version\n",
      "of pandas will change to not sort by default.\n",
      "\n",
      "To accept the future behavior, pass 'sort=False'.\n",
      "\n",
      "To retain the current behavior and silence the warning, pass 'sort=True'.\n",
      "\n",
      "  return pd.concat([default_term_info] + list(topic_dfs))\n"
     ]
    },
    {
     "name": "stdout",
     "output_type": "stream",
     "text": [
      "\n",
      "Note: if you're in the IPython notebook, pyLDAvis.show() is not the best command\n",
      "      to use. Consider using pyLDAvis.display(), or pyLDAvis.enable_notebook().\n",
      "      See more information at http://pyLDAvis.github.io/quickstart.html .\n",
      "\n",
      "You must interrupt the kernel to end this command\n",
      "\n",
      "Serving to http://127.0.0.1:8889/    [Ctrl-C to exit]\n"
     ]
    },
    {
     "name": "stderr",
     "output_type": "stream",
     "text": [
      "127.0.0.1 - - [08/Jul/2019 14:52:05] \"GET / HTTP/1.1\" 200 -\n",
      "127.0.0.1 - - [08/Jul/2019 14:52:05] \"GET /LDAvis.css HTTP/1.1\" 200 -\n",
      "127.0.0.1 - - [08/Jul/2019 14:52:05] \"GET /d3.js HTTP/1.1\" 200 -\n",
      "127.0.0.1 - - [08/Jul/2019 14:52:05] \"GET /LDAvis.js HTTP/1.1\" 200 -\n",
      "127.0.0.1 - - [08/Jul/2019 14:52:05] code 404, message Not Found\n",
      "127.0.0.1 - - [08/Jul/2019 14:52:05] \"GET /favicon.ico HTTP/1.1\" 404 -\n"
     ]
    },
    {
     "name": "stdout",
     "output_type": "stream",
     "text": [
      "\n",
      "stopping Server...\n"
     ]
    }
   ],
   "source": [
    "pyLDAvis.enable_notebook()\n",
    "vis = pyLDAvis.gensim.prepare(lda_model, corpus, dictionary)\n",
    "pyLDAvis.show(vis)"
   ]
  },
  {
   "cell_type": "markdown",
   "metadata": {},
   "source": [
    "### Document Tagging"
   ]
  },
  {
   "cell_type": "code",
   "execution_count": 8,
   "metadata": {},
   "outputs": [
    {
     "name": "stdout",
     "output_type": "stream",
     "text": [
      "Document 1: \n",
      "[[(0, 0.5861223), (9, 0.08409163), (12, 0.08822708), (16, 0.18581915)], [(0, [0, 16, 12, 9]), (1, [0]), (2, [0, 16, 12, 9]), (3, [9, 0, 16]), (4, [0, 16, 12, 9]), (5, [12, 0]), (6, [16, 0]), (7, [0, 16, 12, 9]), (8, [16, 9, 0]), (9, [16]), (10, [0, 16, 12, 9]), (11, [0, 16, 12, 9]), (12, [0]), (13, [0, 16, 12, 9]), (14, [0, 16, 12, 9]), (15, [0]), (16, [0]), (17, [0, 16, 12, 9]), (18, [0])], [(0, [(0, 0.7118674), (9, 0.06155272), (12, 0.09556008), (16, 0.13097808)]), (1, [(0, 0.9999739)]), (2, [(0, 0.7118674), (9, 0.06155272), (12, 0.09556008), (16, 0.13097808)]), (3, [(0, 0.06687656), (9, 0.87177324), (16, 0.06120805)]), (4, [(0, 0.7118674), (9, 0.06155272), (12, 0.09556008), (16, 0.13097808)]), (5, [(0, 0.08904103), (12, 0.89683855)]), (6, [(0, 0.2721491), (16, 0.7278368)]), (7, [(0, 0.71187097), (9, 0.06155197), (12, 0.09555891), (16, 0.13097648)]), (8, [(0, 0.12663276), (9, 0.18712486), (16, 0.6862422)]), (9, [(16, 1.0000001)]), (10, [(0, 0.7118674), (9, 0.06155272), (12, 0.09556008), (16, 0.13097808)]), (11, [(0, 0.7118674), (9, 0.06155272), (12, 0.09556008), (16, 0.13097808)]), (12, [(0, 1.0)]), (13, [(0, 0.7118674), (9, 0.06155272), (12, 0.09556008), (16, 0.13097808)]), (14, [(0, 0.7118674), (9, 0.06155272), (12, 0.09556008), (16, 0.13097808)]), (15, [(0, 0.99999994)]), (16, [(0, 1.0000001)]), (17, [(0, 0.7118674), (9, 0.06155272), (12, 0.09556008), (16, 0.13097808)]), (18, [(0, 1.0)])]]\n"
     ]
    },
    {
     "ename": "TypeError",
     "evalue": "unhashable type: 'list'",
     "output_type": "error",
     "traceback": [
      "\u001b[1;31m---------------------------------------------------------------------------\u001b[0m",
      "\u001b[1;31mTypeError\u001b[0m                                 Traceback (most recent call last)",
      "\u001b[1;32m<ipython-input-8-c3b7ce79a7b5>\u001b[0m in \u001b[0;36m<module>\u001b[1;34m\u001b[0m\n\u001b[0;32m     28\u001b[0m             \u001b[0md2t\u001b[0m\u001b[1;33m[\u001b[0m\u001b[0mID\u001b[0m\u001b[1;33m]\u001b[0m \u001b[1;33m=\u001b[0m \u001b[1;33m[\u001b[0m\u001b[0mpair\u001b[0m\u001b[1;33m]\u001b[0m\u001b[1;33m\u001b[0m\u001b[1;33m\u001b[0m\u001b[0m\n\u001b[0;32m     29\u001b[0m \u001b[1;33m\u001b[0m\u001b[0m\n\u001b[1;32m---> 30\u001b[1;33m         \u001b[1;32mif\u001b[0m \u001b[0mpair\u001b[0m\u001b[1;33m[\u001b[0m\u001b[1;36m0\u001b[0m\u001b[1;33m]\u001b[0m \u001b[1;32min\u001b[0m \u001b[0mt2d\u001b[0m\u001b[1;33m:\u001b[0m\u001b[1;33m\u001b[0m\u001b[1;33m\u001b[0m\u001b[0m\n\u001b[0m\u001b[0;32m     31\u001b[0m             \u001b[0mt2d\u001b[0m\u001b[1;33m[\u001b[0m\u001b[0mpair\u001b[0m\u001b[1;33m[\u001b[0m\u001b[1;36m0\u001b[0m\u001b[1;33m]\u001b[0m\u001b[1;33m]\u001b[0m \u001b[1;33m+=\u001b[0m \u001b[1;33m[\u001b[0m\u001b[1;33m(\u001b[0m\u001b[0mID\u001b[0m\u001b[1;33m,\u001b[0m \u001b[0mpair\u001b[0m\u001b[1;33m[\u001b[0m\u001b[1;36m1\u001b[0m\u001b[1;33m]\u001b[0m\u001b[1;33m)\u001b[0m\u001b[1;33m]\u001b[0m\u001b[1;33m\u001b[0m\u001b[1;33m\u001b[0m\u001b[0m\n\u001b[0;32m     32\u001b[0m         \u001b[1;32melse\u001b[0m\u001b[1;33m:\u001b[0m\u001b[1;33m\u001b[0m\u001b[1;33m\u001b[0m\u001b[0m\n",
      "\u001b[1;31mTypeError\u001b[0m: unhashable type: 'list'"
     ]
    }
   ],
   "source": [
    "i = 1\n",
    "\n",
    "out =  csv.writer(open(\"output.csv\", 'w'), lineterminator = '\\n')\n",
    "out.writerow([\"prob\", \"topic\", \"docID\"])\n",
    "\n",
    "d2t = dict()\n",
    "t2d = dict()\n",
    "\n",
    "\n",
    "for ID in docIDs:\n",
    "    \n",
    "    print(\"Document \" + str(i) + \": \")\n",
    "    \n",
    "    doc = docTokens[ID]\n",
    "    \n",
    "    store = list(lda_model[dictionary.doc2bow(doc)])\n",
    "    \n",
    "    print(store)\n",
    "    \n",
    "    for pair in store:\n",
    "        \n",
    "        \n",
    "        out.writerow([pair[1], pair[0], ID])\n",
    "        \n",
    "        if ID in d2t:\n",
    "            d2t[ID] += [pair]\n",
    "        else:\n",
    "            d2t[ID] = [pair]\n",
    "\n",
    "        if pair[0] in t2d:\n",
    "            t2d[pair[0]] += [(ID, pair[1])]\n",
    "        else:\n",
    "            t2d[pair[0]] = [(ID, pair[1])]\n",
    "\n",
    "    \n",
    "    i += 1\n",
    "\n",
    "    "
   ]
  },
  {
   "cell_type": "code",
   "execution_count": 71,
   "metadata": {},
   "outputs": [],
   "source": [
    "import operator\n",
    "\n",
    "\n",
    "    \n",
    "d2tWriter = csv.writer(open(\"d2t.csv\", 'w'), lineterminator = '\\n')\n",
    "t2dWriter = csv.writer(open(\"t2d.csv\", \"w\"), lineterminator = \"\\n\")    \n",
    "\n",
    "\n",
    "\n",
    "d2tWriter.writerow([\"doc ID\", \"topic pairs\"])\n",
    "for ID in d2t:\n",
    "    d2tWriter.writerow([ID, sorted(d2t[ID], key=operator.itemgetter(1), reverse=True)])\n",
    "    \n",
    "t2dWriter.writerow([\"topic\", \"docID pairs\"])\n",
    "for topic in t2d:\n",
    "    t2dWriter.writerow([topic]+ sorted(t2d[topic], key=operator.itemgetter(1), reverse=True))"
   ]
  },
  {
   "cell_type": "markdown",
   "metadata": {},
   "source": [
    "### Searches"
   ]
  },
  {
   "cell_type": "code",
   "execution_count": 72,
   "metadata": {},
   "outputs": [],
   "source": [
    "import sys\n",
    "import urllib.request\n",
    "from urllib.error import HTTPError\n",
    "\n",
    "\n",
    "BASE_URL = 'http://dx.doi.org/'\n",
    "\n",
    "def getTitle(doi):\n",
    "    url = BASE_URL + doi\n",
    "    req = urllib.request.Request(url)\n",
    "    req.add_header('Accept', 'application/x-bibtex')\n",
    "    try:\n",
    "        with urllib.request.urlopen(req) as f:\n",
    "            bibtex = f.read().decode()\n",
    "        start = bibtex.find(\"title = {\")\n",
    "        end = bibtex.find(\"},\", start)\n",
    "        return bibtex[start + 9:end]\n",
    "        \n",
    "        \n",
    "    except HTTPError as e:\n",
    "        if e.code == 404:\n",
    "            return('DOI not found.')\n",
    "        else:\n",
    "            return('Service unavailable.')"
   ]
  },
  {
   "cell_type": "code",
   "execution_count": 106,
   "metadata": {},
   "outputs": [
    {
     "name": "stdout",
     "output_type": "stream",
     "text": [
      "For the document: Small-angle neutron scattering by porous alumina membranes made of aligned cylindrical channels\n",
      "Topic 15: 0.000*\"chelate_molecule_n_atom\" + 0.000*\"bipyramidal_coordination_environment\" + 0.000*\"o_phenol_phenol\" + 0.000*\"crystalline_arrangement\" + 0.000*\"cylindrical_shape\" + 0.000*\"discrete_cation\" + 0.000*\"symmetry_relate_bmi_imidazole\" + 0.000*\"thiourea_unit\" + 0.000*\"m_acetate_ph_buff\" + 0.000*\"seed_achieve_method\"\n",
      "We found: ['Characterization of dislocations in protein crystals by means of synchrotron double-crystal topography', 'The local domain configuration in partially ordered {AuCu}3', 'X-ray near-field speckle: implementation and critical analysis', 'An Ultra-Low-Temperature Diffractometer Based on an 3He{\\\\textendash}4He Dilution Refrigerator used for Synchrotron-Radiation X-ray Diffractometry and Topography', '{CTD} Code: a Combinatorial Code for Eukaryotic Transcription']\n"
     ]
    }
   ],
   "source": [
    "\n",
    "\n",
    "\n",
    "def search(docID, resistance):\n",
    "    \n",
    "    title =getTitle(docID)\n",
    "    print(\"For the document: \" + title)\n",
    "    \n",
    "    topics = d2t[docID]\n",
    "    \n",
    "    related = list()\n",
    "    \n",
    "    for topic in topics:\n",
    "        \n",
    "        if topic[1] > resistance:\n",
    "            \n",
    "            print(\"Topic \" + str(topic[0]) + \": \" + lda_model.print_topic(topic[0]))\n",
    "            \n",
    "            for newID in t2d[topic[0]]:\n",
    "                if topic[1]*newID[1] > resistance:\n",
    "                    related.append(getTitle(newID[0]))\n",
    "    \n",
    "    try:\n",
    "        related.remove(title)\n",
    "    except:\n",
    "        pass\n",
    "    print(\"We found: \" + str(related))\n",
    "    \n",
    "search(\"10.1107/S0021889803000281\", 0.93)"
   ]
  },
  {
   "cell_type": "markdown",
   "metadata": {},
   "source": [
    "Or, if we use cosine similarity."
   ]
  },
  {
   "cell_type": "code",
   "execution_count": 23,
   "metadata": {},
   "outputs": [
    {
     "name": "stdout",
     "output_type": "stream",
     "text": [
      "For the document: Small-angle neutron scattering by porous alumina membranes made of aligned cylindrical channels\n",
      "We found: ['Structure of {PEP}{\\\\textendash}{PEO} block copolymer micelles: exploiting the complementarity of small-angle X-ray scattering and static light scattering', 'A new method of evaluating slit-smeared small-angle X-ray scattering data', 'First data acquired on the {extendedQ}-range small-angle neutron scattering ({EQ}-{SANS}) diffractometer at the Spallation Neutron Source', 'Comment on Misorientation-angle distribution of randomly oriented symmetric objects by Morawiec (1995)', 'The structure of pumice by neutron diffraction', 'Small-angle scattering curves of concentrated polymer solutions', 'Small-angle X-ray study of the three-dimensional collagen/mineral superstructure in intramuscular fish bone', 'Anomalous dispersion of small-angle scattering of horse-spleen ferritin at the {ironKabsorption} edge', 'Illustration of the anisotropic Porod law', 'A new method to determine the exact values of the fiber identity period of polyamides']\n"
     ]
    }
   ],
   "source": [
    "from collections import Counter\n",
    "from sklearn.feature_extraction.text import CountVectorizer\n",
    "from sklearn.metrics.pairwise import cosine_similarity\n",
    "\n",
    "\n",
    "def get_cosine_sim(*strs): \n",
    "    vectors = [t for t in get_vectors(*strs)]\n",
    "    return cosine_similarity(vectors)\n",
    "    \n",
    "def get_vectors(*strs):\n",
    "    text = [t for t in strs]\n",
    "    vectorizer = CountVectorizer(text)\n",
    "    vectorizer.fit(text)\n",
    "    return vectorizer.transform(text).toarray()\n",
    "\n",
    "def search(docID, resistance):\n",
    "    \n",
    "    title = getTitle(docID)\n",
    "    print(\"For the document: \" + title)\n",
    "    \n",
    "    str1 = \" \".join(docTokens[docID])\n",
    "    \n",
    "    found = list()\n",
    "    for ID in docIDs:\n",
    "        tokens = docTokens[ID]\n",
    "        str2 = \" \".join(tokens)\n",
    "        if get_cosine_sim(str1, str2)[0][1] > resistance:\n",
    "            found.append(getTitle(ID))\n",
    "    \n",
    "    \n",
    "    found.remove(title)\n",
    "    print(\"We found: \" + str(found))\n",
    "    \n",
    "search(\"10.1107/S0021889803000281\", 0.07)"
   ]
  },
  {
   "cell_type": "code",
   "execution_count": null,
   "metadata": {},
   "outputs": [],
   "source": []
  }
 ],
 "metadata": {
  "kernelspec": {
   "display_name": "Python 3",
   "language": "python",
   "name": "python3"
  },
  "language_info": {
   "codemirror_mode": {
    "name": "ipython",
    "version": 3
   },
   "file_extension": ".py",
   "mimetype": "text/x-python",
   "name": "python",
   "nbconvert_exporter": "python",
   "pygments_lexer": "ipython3",
   "version": "3.7.3"
  }
 },
 "nbformat": 4,
 "nbformat_minor": 2
}
