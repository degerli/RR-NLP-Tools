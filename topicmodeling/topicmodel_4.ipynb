{
 "cells": [
  {
   "cell_type": "code",
   "execution_count": 6,
   "metadata": {},
   "outputs": [],
   "source": [
    "# processing\n",
    "import operator\n",
    "from operator import methodcaller\n",
    "import csv\n",
    "import re\n",
    "import numpy as np\n",
    "import pandas as pd\n",
    "from pprint import pprint\n",
    "import string\n",
    "import math\n",
    "import itertools\n",
    "\n",
    "# gensim\n",
    "import gensim\n",
    "import gensim.corpora as corpora\n",
    "from gensim.utils import simple_preprocess\n",
    "from gensim.models import CoherenceModel\n",
    "from gensim.models import HdpModel\n",
    "from gensim.models import TfidfModel\n",
    "\n",
    "# plotting tools\n",
    "import pyLDAvis\n",
    "import pyLDAvis.gensim\n",
    "import matplotlib.pyplot as plt\n",
    "\n",
    "# sci-kit\n",
    "from collections import Counter\n",
    "from sklearn.feature_extraction.text import CountVectorizer\n",
    "from sklearn.metrics.pairwise import cosine_similarity\n",
    "from sklearn import feature_extraction"
   ]
  },
  {
   "cell_type": "code",
   "execution_count": null,
   "metadata": {},
   "outputs": [],
   "source": [
    "blacklist = [t.strip() for t in next(csv.reader(open(\"tools\\\\blacklist.csv\", 'r')))]\n",
    "levels = [1, 2, 3]\n",
    "\n",
    "# format [term, orig, sentence, docID]\n",
    "inPath = \"raw.csv\"\n",
    "\n",
    "inFile = open(inPath, 'r')\n",
    "inReader = csv.reader(inFile)\n",
    "\n",
    "docTokens = dict()\n",
    "\n",
    "# ignore headers\n",
    "next(inReader)\n",
    "\n",
    "\n",
    "for inRow in inReader:\n",
    "    term = inRow[0]\n",
    "    sentence = inRow[2]\n",
    "    docID = inRow[3]\n",
    "    \n",
    "    # find acceptable tokens only\n",
    "    token = \"_\".join([t for t in term.split(\":\") if re.match(r'[^\\W\\d]*$', t) and not t in blacklist])\n",
    "    \n",
    "    # calculate new term level\n",
    "    level = token.count(\"_\")\n",
    "    \n",
    "    # if acceptable, add to dictionary\n",
    "    if level in levels and not token in blacklist and len(token) > 0:\n",
    "        if docID in docTokens:\n",
    "            docTokens[docID] += [token]\n",
    "        else:\n",
    "            docTokens[docID] = [token]\n",
    "                        \n",
    "docIDs = list(docTokens.keys())\n",
    "texts = list(docTokens.values())\n"
   ]
  },
  {
   "cell_type": "code",
   "execution_count": 18,
   "metadata": {},
   "outputs": [
    {
     "name": "stdout",
     "output_type": "stream",
     "text": [
      "16391\n",
      "396\n"
     ]
    }
   ],
   "source": [
    "dictionary = corpora.Dictionary(texts)\n",
    "print(len(dictionary))\n",
    "\n",
    "dictionary.filter_extremes(no_below=5, no_above=0.25, keep_n=15000)\n",
    "print(len(dictionary))\n",
    "\n",
    "corpus = [dictionary.doc2bow(text) for text in texts]\n",
    "\n",
    "\n",
    "tfidf = TfidfModel(corpus)\n",
    "corpus_tfidf = tfidf[corpus]"
   ]
  },
  {
   "cell_type": "code",
   "execution_count": 19,
   "metadata": {},
   "outputs": [
    {
     "name": "stdout",
     "output_type": "stream",
     "text": [
      "Topic: 0 Word: 0.030*\"c_h\" + 0.026*\"o_interaction\" + 0.023*\"water_molecule\" + 0.023*\"metal_atom\" + 0.022*\"bond_length\" + 0.021*\"crystal_structure\" + 0.018*\"benzene_ring\" + 0.018*\"o_atom\" + 0.015*\"intermolecular_n_h\" + 0.015*\"dihedral_angle\"\n",
      "\n",
      "Topic: 1 Word: 0.028*\"intermolecular_interaction\" + 0.027*\"n_hydrogen_bond\" + 0.025*\"dihedral_angle\" + 0.024*\"square_planar\" + 0.021*\"coordination_geometry\" + 0.021*\"solvent_molecule\" + 0.020*\"n_hydrogen\" + 0.020*\"phenyl_ring\" + 0.019*\"n_h\" + 0.018*\"weak_c_h\"\n",
      "\n",
      "Topic: 2 Word: 0.031*\"room_temperature\" + 0.023*\"crystal_structure\" + 0.021*\"x_ray\" + 0.020*\"active_site\" + 0.018*\"octahedral_coordination\" + 0.017*\"x_ray_scatter\" + 0.017*\"solid_state\" + 0.015*\"water_molecule\" + 0.015*\"space_group\" + 0.014*\"diffraction_datum\"\n",
      "\n",
      "Topic: 3 Word: 0.046*\"aring_resolution\" + 0.043*\"unit_cell\" + 0.039*\"space_group\" + 0.031*\"unit_cell_parameter\" + 0.027*\"single_crystal\" + 0.026*\"asymmetric_unit\" + 0.024*\"crystal_structure\" + 0.023*\"c_terminal\" + 0.020*\"molecular_replacement\" + 0.020*\"asymmetric_unit_molecule\"\n",
      "\n",
      "Topic: 4 Word: 0.043*\"electron_density\" + 0.037*\"space_group\" + 0.035*\"x_ray\" + 0.031*\"small_angle\" + 0.022*\"double_crystal\" + 0.022*\"structure_factor\" + 0.022*\"experimental_datum\" + 0.021*\"square_pyramidal\" + 0.020*\"octahedral_geometry\" + 0.020*\"distribution_function\"\n",
      "\n",
      "Topic: 5 Word: 0.095*\"x_ray\" + 0.058*\"x_ray_diffraction\" + 0.025*\"c_atom\" + 0.021*\"diffraction_pattern\" + 0.020*\"structure_type\" + 0.019*\"x_ray_diffraction_datum\" + 0.018*\"half_chair_conformation\" + 0.018*\"half_chair\" + 0.016*\"amino_group\" + 0.016*\"n_interaction\"\n",
      "\n",
      "Topic: 6 Word: 0.030*\"o_h\" + 0.026*\"n_h\" + 0.021*\"o_hydrogen_bond\" + 0.020*\"weak_c_h\" + 0.019*\"water_molecule\" + 0.017*\"o_o_h\" + 0.016*\"o_atom\" + 0.016*\"dimensional_network\" + 0.014*\"c_h\" + 0.014*\"intermolecular_hydrogen_bond\"\n",
      "\n",
      "Topic: 7 Word: 0.059*\"crystal_structure\" + 0.033*\"c_h\" + 0.033*\"dihedral_angle\" + 0.031*\"n_h\" + 0.031*\"o_hydrogen_bond\" + 0.024*\"intermolecular_c_h\" + 0.023*\"membered_ring\" + 0.021*\"aromatic_ring\" + 0.021*\"intermolecular_n_h\" + 0.020*\"asymmetric_unit\"\n",
      "\n"
     ]
    }
   ],
   "source": [
    "topics = 8\n",
    "passes = 10\n",
    "iterations = 500\n",
    "\n",
    "lda_model = gensim.models.LdaMulticore(corpus_tfidf, num_topics=topics, id2word=dictionary, passes=passes, workers =4)\n",
    "\n",
    "for idx, topic in lda_model.print_topics(-1):\n",
    "    print('Topic: {} Word: {}'.format(idx, topic) + \"\\n\")\n"
   ]
  },
  {
   "cell_type": "code",
   "execution_count": null,
   "metadata": {},
   "outputs": [],
   "source": []
  },
  {
   "cell_type": "code",
   "execution_count": null,
   "metadata": {},
   "outputs": [],
   "source": []
  }
 ],
 "metadata": {
  "kernelspec": {
   "display_name": "Python 3",
   "language": "python",
   "name": "python3"
  },
  "language_info": {
   "codemirror_mode": {
    "name": "ipython",
    "version": 3
   },
   "file_extension": ".py",
   "mimetype": "text/x-python",
   "name": "python",
   "nbconvert_exporter": "python",
   "pygments_lexer": "ipython3",
   "version": "3.7.3"
  }
 },
 "nbformat": 4,
 "nbformat_minor": 2
}
