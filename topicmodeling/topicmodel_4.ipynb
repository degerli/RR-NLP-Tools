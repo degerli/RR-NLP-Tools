{
 "cells": [
  {
   "cell_type": "code",
   "execution_count": 1,
   "metadata": {},
   "outputs": [
    {
     "name": "stderr",
     "output_type": "stream",
     "text": [
      "C:\\Users\\pjz1\\AppData\\Local\\Continuum\\anaconda3\\lib\\site-packages\\gensim\\utils.py:1197: UserWarning: detected Windows; aliasing chunkize to chunkize_serial\n",
      "  warnings.warn(\"detected Windows; aliasing chunkize to chunkize_serial\")\n"
     ]
    }
   ],
   "source": [
    "# processing\n",
    "import operator\n",
    "from operator import methodcaller\n",
    "import csv\n",
    "import re\n",
    "import numpy as np\n",
    "import pandas as pd\n",
    "from pprint import pprint\n",
    "import string\n",
    "import math\n",
    "import itertools\n",
    "\n",
    "# gensim\n",
    "import gensim\n",
    "import gensim.corpora as corpora\n",
    "from gensim.utils import simple_preprocess\n",
    "from gensim.models import CoherenceModel\n",
    "from gensim.models import HdpModel\n",
    "from gensim.models import TfidfModel\n",
    "\n",
    "# plotting tools\n",
    "import pyLDAvis\n",
    "import pyLDAvis.gensim\n",
    "import matplotlib.pyplot as plt\n",
    "\n",
    "# sci-kit\n",
    "from collections import Counter\n",
    "from sklearn.feature_extraction.text import CountVectorizer\n",
    "from sklearn.metrics.pairwise import cosine_similarity\n",
    "from sklearn import feature_extraction\n"
   ]
  },
  {
   "cell_type": "code",
   "execution_count": 14,
   "metadata": {},
   "outputs": [],
   "source": [
    "blacklist = [t.strip() for t in next(csv.reader(open(\"tools\\\\blacklist.csv\", 'r')))]\n",
    "levels = [1, 2, 3]\n",
    "\n",
    "# format [term, orig, sentence, docID]\n",
    "inPath = \"v1.csv\"\n",
    "\n",
    "inFile = open(inPath, 'r')\n",
    "inReader = csv.reader(inFile)\n",
    "\n",
    "docTokens = dict()\n",
    "\n",
    "# ignore headers\n",
    "next(inReader)\n",
    "\n",
    "\n",
    "for inRow in inReader:\n",
    "    term = inRow[0]\n",
    "    docID = inRow[3]\n",
    "    \n",
    "    \n",
    "    # find acceptable tokens only\n",
    "    token = \"_\".join([t for t in term.split(\":\") if re.match(r'[^\\W\\d]*$', t) and not t in blacklist])\n",
    "\n",
    "    # calculate new term level\n",
    "    level = token.count(\"_\")\n",
    "\n",
    "    # if acceptable, add to dictionary\n",
    "    if level in levels and not token in blacklist and len(token) > 0:\n",
    "        if docID in docTokens:\n",
    "            docTokens[docID] += [token]\n",
    "        else:\n",
    "            docTokens[docID] = [token]\n",
    "                        \n",
    "docIDs = list(docTokens.keys())\n",
    "texts = list(docTokens.values())\n"
   ]
  },
  {
   "cell_type": "code",
   "execution_count": 17,
   "metadata": {},
   "outputs": [],
   "source": [
    "dictionary = corpora.Dictionary(texts)\n",
    "\n",
    "corpus = [dictionary.doc2bow(text) for text in texts]"
   ]
  },
  {
   "cell_type": "markdown",
   "metadata": {},
   "source": [
    "### Coherence Testing\n",
    "\n",
    "Find the ideal number of topics by performance cohernece tests on sample topic models."
   ]
  },
  {
   "cell_type": "code",
   "execution_count": 18,
   "metadata": {},
   "outputs": [
    {
     "name": "stdout",
     "output_type": "stream",
     "text": [
      "0.41960392635679966\n",
      "0.4067245065768361\n",
      "0.43973822643802735\n",
      "0.3919662097235229\n",
      "0.45117870407504446\n",
      "0.4486139491059005\n",
      "0.416250406611232\n",
      "0.4352812837453689\n",
      "0.40224598518177096\n",
      "0.4521765619769601\n",
      "0.4598458839229249\n",
      "0.4382769966303126\n",
      "0.44604765623634535\n",
      "0.47626223297781056\n",
      "0.49398398254249704\n",
      "0.46064859169501104\n",
      "0.4820069470840728\n",
      "0.49476488062503177\n",
      "0.5014590552227493\n",
      "0.4833628688462488\n"
     ]
    },
    {
     "data": {
      "image/png": "[encoded data removed]",
      "text/plain": [
       "<Figure size 432x288 with 1 Axes>"
      ]
     },
     "metadata": {
      "needs_background": "light"
     },
     "output_type": "display_data"
    }
   ],
   "source": [
    "topics = range(1, 21)\n",
    "passes = 5\n",
    "iterations = 500\n",
    "\n",
    "model_list = list()\n",
    "coherence_values = list()\n",
    "\n",
    "for topicnum in topics:\n",
    "\n",
    "    model = gensim.models.LdaMulticore(corpus_tfidf, num_topics=topicnum, id2word=dictionary, passes=passes, workers =4, iterations=iterations)\n",
    "    model_list.append(model)\n",
    "    \n",
    "    coherencemodel = CoherenceModel(model=model, texts=texts, dictionary=dictionary, coherence='c_v')\n",
    "    print(coherencemodel.get_coherence())\n",
    "    coherence_values.append(coherencemodel.get_coherence())\n",
    "\n",
    "\n",
    "plt.plot(topics, coherence_values)\n",
    "plt.xlabel(\"Num Topics\")\n",
    "plt.ylabel(\"Coherence score\")\n",
    "plt.legend((\"coherence_values\"), loc='best')\n",
    "plt.show()"
   ]
  },
  {
   "cell_type": "code",
   "execution_count": null,
   "metadata": {},
   "outputs": [],
   "source": [
    "passes = [5, 8, 12, 20, 25, 32, 40, 50, 65, 80, 100]\n",
    "coh1 = [0.7366002210076883, 0.7535347175289635, 0.7187085520419347, 0.7370655815312012, 0.7506638360329289, 0.723436962920069, 0.7047308664311466, 0.728423912120161, 0.7127082698428088, 0.7028986124848099, 0.7565239306707477]\n",
    "\n",
    "\n",
    "coh2 = list()\n",
    "\n",
    "for p in passes:\n",
    "    \n",
    "    model = gensim.models.LdaMulticore(corpus_tfidf, num_topics=6, id2word=dictionary, passes= p, workers =4, iterations=500)\n",
    "    \n",
    "    coherencemodel = CoherenceModel(model=model, texts=texts, dictionary=dictionary, coherence='c_v')\n",
    "    print(coherencemodel.get_coherence())\n",
    "    coh2.append(coherencemodel.get_coherence())\n",
    "\n",
    "print(coh2)\n"
   ]
  },
  {
   "cell_type": "code",
   "execution_count": null,
   "metadata": {},
   "outputs": [],
   "source": [
    "plt.plot(passes, coh1, 'r', label = \"Unigrams\")\n",
    "plt.plot(passes, coh2, 'b', label = \"R&R\")\n",
    "plt.xlabel(\"Passes\")\n",
    "plt.ylabel(\"Coherence score\")\n",
    "plt.legend()\n",
    "plt.show()"
   ]
  },
  {
   "cell_type": "code",
   "execution_count": null,
   "metadata": {},
   "outputs": [],
   "source": []
  }
 ],
 "metadata": {
  "kernelspec": {
   "display_name": "Python 3",
   "language": "python",
   "name": "python3"
  },
  "language_info": {
   "codemirror_mode": {
    "name": "ipython",
    "version": 3
   },
   "file_extension": ".py",
   "mimetype": "text/x-python",
   "name": "python",
   "nbconvert_exporter": "python",
   "pygments_lexer": "ipython3",
   "version": "3.7.3"
  }
 },
 "nbformat": 4,
 "nbformat_minor": 2
}
